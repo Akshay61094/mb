{
  "nbformat": 4,
  "nbformat_minor": 0,
  "metadata": {
    "colab": {
      "name": "Hello, Colaboratory",
      "version": "0.3.2",
      "views": {},
      "default_view": {},
      "provenance": [],
      "collapsed_sections": [],
      "toc_visible": true
    },
    "kernelspec": {
      "display_name": "Python 3",
      "name": "python3"
    }
  },
  "cells": [
    {
      "metadata": {
        "id": "ab9JnijZMV3O",
        "colab_type": "code",
        "colab": {
          "autoexec": {
            "startup": false,
            "wait_interval": 0
          },
          "base_uri": "https://localhost:8080/",
          "height": 119
        },
        "outputId": "f21eddec-5572-45ab-cd3f-94284b0490b5",
        "executionInfo": {
          "status": "ok",
          "timestamp": 1531310239083,
          "user_tz": -330,
          "elapsed": 8841,
          "user": {
            "displayName": "",
            "photoUrl": "",
            "userId": ""
          }
        }
      },
      "cell_type": "code",
      "source": [
        "!git clone https://github.com/anupamhap/mb.git"
      ],
      "execution_count": 1,
      "outputs": [
        {
          "output_type": "stream",
          "text": [
            "Cloning into 'mb'...\n",
            "remote: Counting objects: 264, done.\u001b[K\n",
            "remote: Compressing objects: 100% (159/159), done.\u001b[K\n",
            "remote: Total 264 (delta 112), reused 244 (delta 96), pack-reused 0\u001b[K\n",
            "Receiving objects: 100% (264/264), 22.29 MiB | 37.54 MiB/s, done.\n",
            "Resolving deltas: 100% (112/112), done.\n"
          ],
          "name": "stdout"
        }
      ]
    },
    {
      "metadata": {
        "id": "zLeI0uuCM6y5",
        "colab_type": "code",
        "colab": {
          "autoexec": {
            "startup": false,
            "wait_interval": 0
          },
          "base_uri": "https://localhost:8080/",
          "height": 34
        },
        "outputId": "06af92d9-c55e-4e27-f467-758ded2f0d4c",
        "executionInfo": {
          "status": "ok",
          "timestamp": 1531310364728,
          "user_tz": -330,
          "elapsed": 1994,
          "user": {
            "displayName": "",
            "photoUrl": "",
            "userId": ""
          }
        }
      },
      "cell_type": "code",
      "source": [
        "!pwd"
      ],
      "execution_count": 2,
      "outputs": [
        {
          "output_type": "stream",
          "text": [
            "/content\r\n"
          ],
          "name": "stdout"
        }
      ]
    },
    {
      "metadata": {
        "id": "Tde9EpwqNse-",
        "colab_type": "code",
        "colab": {
          "autoexec": {
            "startup": false,
            "wait_interval": 0
          },
          "base_uri": "https://localhost:8080/",
          "height": 17
        },
        "outputId": "ea35e47c-3890-419d-e034-268bf89b78e3",
        "executionInfo": {
          "status": "ok",
          "timestamp": 1531310540763,
          "user_tz": -330,
          "elapsed": 1361,
          "user": {
            "displayName": "",
            "photoUrl": "",
            "userId": ""
          }
        }
      },
      "cell_type": "code",
      "source": [
        "import os\n",
        "os.chdir(\"Tree_Root_Detection\")"
      ],
      "execution_count": 8,
      "outputs": []
    },
    {
      "metadata": {
        "id": "Js9yzZEQN7H7",
        "colab_type": "code",
        "colab": {
          "autoexec": {
            "startup": false,
            "wait_interval": 0
          },
          "base_uri": "https://localhost:8080/",
          "height": 102
        },
        "outputId": "a2bb0b9d-7871-4562-a013-c902e4c1e19c",
        "executionInfo": {
          "status": "ok",
          "timestamp": 1531310547450,
          "user_tz": -330,
          "elapsed": 2177,
          "user": {
            "displayName": "",
            "photoUrl": "",
            "userId": ""
          }
        }
      },
      "cell_type": "code",
      "source": [
        "!ls"
      ],
      "execution_count": 9,
      "outputs": [
        {
          "output_type": "stream",
          "text": [
            "classifiers\t   Selection_108.jpg  Selection_113.jpg\r\n",
            "data\t\t   Selection_109.jpg  test_image2.png\r\n",
            "helper.py\t   Selection_110.jpg  test_images\r\n",
            "__pycache__\t   Selection_111.jpg  tree_root_intrusion_detection.ipynb\r\n",
            "Selection_107.jpg  Selection_112.jpg  videos\r\n"
          ],
          "name": "stdout"
        }
      ]
    },
    {
      "metadata": {
        "id": "_kwW0eTmOCrv",
        "colab_type": "code",
        "colab": {
          "autoexec": {
            "startup": false,
            "wait_interval": 0
          },
          "base_uri": "https://localhost:8080/",
          "height": 17
        },
        "outputId": "d0c8c239-6301-44d6-ee85-aa1aaa773962",
        "executionInfo": {
          "status": "ok",
          "timestamp": 1531310586250,
          "user_tz": -330,
          "elapsed": 1336,
          "user": {
            "displayName": "",
            "photoUrl": "",
            "userId": ""
          }
        }
      },
      "cell_type": "code",
      "source": [
        "import csv\n",
        "import matplotlib.image as mpimg\n",
        "import cv2\n",
        "import numpy as np\n",
        "import os"
      ],
      "execution_count": 10,
      "outputs": []
    },
    {
      "metadata": {
        "id": "KZdoJrWpOXk1",
        "colab_type": "code",
        "colab": {
          "autoexec": {
            "startup": false,
            "wait_interval": 0
          },
          "base_uri": "https://localhost:8080/",
          "height": 34
        },
        "outputId": "095c89b5-9b58-4edd-eb8b-d4de90a9b913",
        "executionInfo": {
          "status": "ok",
          "timestamp": 1531310609775,
          "user_tz": -330,
          "elapsed": 2879,
          "user": {
            "displayName": "",
            "photoUrl": "",
            "userId": ""
          }
        }
      },
      "cell_type": "code",
      "source": [
        "from keras.models import Sequential\n",
        "from keras.layers import Flatten, Dense, Lambda, Dropout, Activation, Cropping2D\n",
        "from keras.layers.convolutional import Convolution2D\n",
        "from keras.layers.pooling import MaxPooling2D\n",
        "from sklearn.model_selection import train_test_split\n",
        "import sklearn\n"
      ],
      "execution_count": 11,
      "outputs": [
        {
          "output_type": "stream",
          "text": [
            "Using TensorFlow backend.\n"
          ],
          "name": "stderr"
        }
      ]
    },
    {
      "metadata": {
        "id": "UIPgIYrkOaPq",
        "colab_type": "code",
        "colab": {
          "autoexec": {
            "startup": false,
            "wait_interval": 0
          },
          "base_uri": "https://localhost:8080/",
          "height": 34
        },
        "outputId": "0bf43729-6b84-44e4-8868-984a93324284",
        "executionInfo": {
          "status": "ok",
          "timestamp": 1531310647134,
          "user_tz": -330,
          "elapsed": 1641,
          "user": {
            "displayName": "",
            "photoUrl": "",
            "userId": ""
          }
        }
      },
      "cell_type": "code",
      "source": [
        ""
      ],
      "execution_count": 12,
      "outputs": [
        {
          "output_type": "stream",
          "text": [
            "40\n"
          ],
          "name": "stdout"
        }
      ]
    },
    {
      "metadata": {
        "id": "_qI3POGKPQQh",
        "colab_type": "code",
        "colab": {
          "autoexec": {
            "startup": false,
            "wait_interval": 0
          },
          "base_uri": "https://localhost:8080/",
          "height": 17
        },
        "outputId": "b912b77a-6169-494d-9222-7215fa2f656f",
        "executionInfo": {
          "status": "ok",
          "timestamp": 1531312562502,
          "user_tz": -330,
          "elapsed": 841,
          "user": {
            "displayName": "",
            "photoUrl": "",
            "userId": ""
          }
        }
      },
      "cell_type": "code",
      "source": [
        "width = 58\n",
        "height = 58\n",
        "\n",
        "images = []\n"
      ],
      "execution_count": 41,
      "outputs": []
    },
    {
      "metadata": {
        "id": "_9gdSeYyPGwy",
        "colab_type": "code",
        "colab": {
          "autoexec": {
            "startup": false,
            "wait_interval": 0
          },
          "base_uri": "https://localhost:8080/",
          "height": 34
        },
        "outputId": "a92af62c-ccc3-4c66-8756-d3a890b2bf44",
        "executionInfo": {
          "status": "ok",
          "timestamp": 1531312566335,
          "user_tz": -330,
          "elapsed": 778,
          "user": {
            "displayName": "",
            "photoUrl": "",
            "userId": ""
          }
        }
      },
      "cell_type": "code",
      "source": [
        "roots   = glob.glob('data/tree/*.JPG')\n",
        "non_roots   = glob.glob('data/non_tree/*.JPG')\n",
        "non_roots   += glob.glob('data/non_tree/*.jpg')\n",
        "print(len(roots), len(non_roots))"
      ],
      "execution_count": 42,
      "outputs": [
        {
          "output_type": "stream",
          "text": [
            "51 52\n"
          ],
          "name": "stdout"
        }
      ]
    },
    {
      "metadata": {
        "id": "mSTthRlVPhKn",
        "colab_type": "code",
        "colab": {
          "autoexec": {
            "startup": false,
            "wait_interval": 0
          },
          "base_uri": "https://localhost:8080/",
          "height": 17
        },
        "outputId": "8fad56ac-7350-4f52-b12d-283b98aafb06",
        "executionInfo": {
          "status": "ok",
          "timestamp": 1531312577252,
          "user_tz": -330,
          "elapsed": 842,
          "user": {
            "displayName": "",
            "photoUrl": "",
            "userId": ""
          }
        }
      },
      "cell_type": "code",
      "source": [
        "img_size=64\n",
        "def show3img(img, img1, img2):\n",
        "   plt.figure(figsize=(6, 2))\n",
        "   plt.subplot(1, 3, 1)\n",
        "   plt.imshow(img)\n",
        "   plt.title(\"Raw image\")\n",
        "   plt.subplot(1, 3, 2)\n",
        "   plt.imshow(img1)\n",
        "   plt.title(\"Processed image\")\n",
        "   plt.subplot(1, 3, 3)\n",
        "   plt.imshow(img2)\n",
        "   plt.title(\"Augmented image\")\n",
        "   plt.show()\n",
        "   \n",
        "def eq_Hist(img):\n",
        "   #Histogram Equalization\n",
        "   img2=img.copy()\n",
        "   img2[:, :, 0] = cv2.equalizeHist(img[:, :, 0])\n",
        "   img2[:, :, 1] = cv2.equalizeHist(img[:, :, 1])\n",
        "   img2[:, :, 2] = cv2.equalizeHist(img[:, :, 2])\n",
        "   return img2\n",
        "\n",
        "def scale_img(img):\n",
        "   img2=img.copy()\n",
        "   sc_y=0.4*np.random.rand()+1.0\n",
        "   img2=cv2.resize(img, None, fx=1, fy=sc_y, interpolation = cv2.INTER_CUBIC)\n",
        "   c_x,c_y, sh = int(img2.shape[0]/2), int(img2.shape[1]/2), int(img_size/2)\n",
        "   return img2\n",
        "\n",
        "def crop(img, mar=0):\n",
        "   c_x,c_y, sh = int(img.shape[0]/2), int(img.shape[1]/2), int(img_size/2-mar)\n",
        "   return img[(c_x-sh):(c_x+sh),(c_y-sh):(c_y+sh)]\n",
        "\n",
        "def rotate_img(img):\n",
        "   c_x,c_y = int(img.shape[0]/2), int(img.shape[1]/2)\n",
        "   ang = 30.0*np.random.rand()-15\n",
        "   Mat = cv2.getRotationMatrix2D((c_x, c_y), ang, 1.0)\n",
        "   return cv2.warpAffine(img, Mat, img.shape[:2])\n",
        "\n",
        "def sharpen_img(img):\n",
        "   gb = cv2.GaussianBlur(img, (5,5), 20.0)\n",
        "   return cv2.addWeighted(img, 2, gb, -1, 0)\n",
        "#Compute linear image transformation ing*s+m\n",
        "def lin_img(img,s=1.0,m=0.0):\n",
        "   img2=cv2.multiply(img, np.array([s]))\n",
        "   return cv2.add(img2, np.array([m]))\n",
        "\n",
        "#Change image contrast; s>1 - increase\n",
        "def contr_img(img, s=1.0):\n",
        "   m=127.0*(1.0-s)\n",
        "   return lin_img(img, s, m)\n",
        "\n",
        "def transform_img(img):\n",
        "   img2=sharpen_img(img)\n",
        "   img2=crop(img2,3)\n",
        "   img2=contr_img(img2, 1.5)\n",
        "   return eq_Hist(img2)\n",
        "\n",
        "def augment_img(img):\n",
        "   img=contr_img(img, 1.8*np.random.rand()+0.2)\n",
        "   img=rotate_img(img)\n",
        "   img=scale_img(img)\n",
        "   return transform_img(img)\n"
      ],
      "execution_count": 43,
      "outputs": []
    },
    {
      "metadata": {
        "id": "3yWr5ZHEQqZT",
        "colab_type": "code",
        "colab": {
          "autoexec": {
            "startup": false,
            "wait_interval": 0
          },
          "base_uri": "https://localhost:8080/",
          "height": 34
        },
        "outputId": "b4dc4bb3-65cd-4cc6-fe06-16b7493bee97",
        "executionInfo": {
          "status": "ok",
          "timestamp": 1531312582490,
          "user_tz": -330,
          "elapsed": 861,
          "user": {
            "displayName": "",
            "photoUrl": "",
            "userId": ""
          }
        }
      },
      "cell_type": "code",
      "source": [
        "X_train_aug_roots = []\n",
        "y_train_aug = []\n",
        "\n",
        "def create_data(n=10):\n",
        "   for i in range(len(roots)):\n",
        "       img=mpimg.imread(roots[i])\n",
        "       img=cv2.resize(img, (64, 64))\n",
        "       X_train_aug_roots.append(transform_img(img))\n",
        "       y_train_aug.append(1)\n",
        "       #Generate n new images out of each input image\n",
        "       for j in range(n):\n",
        "           X_train_aug_roots.append(augment_img(img))\n",
        "           y_train_aug.append(1)      \n",
        "   print(\"Total number of images in the augmented dataset = \", len(X_train_aug_roots))\n",
        "\n",
        "create_data(10)"
      ],
      "execution_count": 44,
      "outputs": [
        {
          "output_type": "stream",
          "text": [
            "Total number of images in the augmented dataset =  561\n"
          ],
          "name": "stdout"
        }
      ]
    },
    {
      "metadata": {
        "id": "gsDy9FImQ2dA",
        "colab_type": "code",
        "colab": {
          "autoexec": {
            "startup": false,
            "wait_interval": 0
          },
          "base_uri": "https://localhost:8080/",
          "height": 34
        },
        "outputId": "9a792afa-d13b-4b3d-8c0a-36da110e48b8",
        "executionInfo": {
          "status": "ok",
          "timestamp": 1531312587638,
          "user_tz": -330,
          "elapsed": 937,
          "user": {
            "displayName": "",
            "photoUrl": "",
            "userId": ""
          }
        }
      },
      "cell_type": "code",
      "source": [
        "def create_data(n=10):\n",
        "   for i in range(len(non_roots)):\n",
        "       img=mpimg.imread(non_roots[i])\n",
        "       img=cv2.resize(img, (64, 64))\n",
        "       X_train_aug_roots.append(transform_img(img))\n",
        "       y_train_aug.append(0)\n",
        "       #Generate n new images out of each input image\n",
        "       for j in range(n):\n",
        "           X_train_aug_roots.append(augment_img(img))\n",
        "           y_train_aug.append(0)      \n",
        "   print(\"Total number of images in the augmented dataset = \", len(X_train_aug_roots))\n",
        "\n",
        "create_data(10)"
      ],
      "execution_count": 45,
      "outputs": [
        {
          "output_type": "stream",
          "text": [
            "Total number of images in the augmented dataset =  1133\n"
          ],
          "name": "stdout"
        }
      ]
    },
    {
      "metadata": {
        "id": "-6yLv7-HQ6Qz",
        "colab_type": "code",
        "colab": {
          "autoexec": {
            "startup": false,
            "wait_interval": 0
          },
          "base_uri": "https://localhost:8080/",
          "height": 54
        },
        "outputId": "d4e8aece-1f31-4881-e84f-809b366ab3dd",
        "executionInfo": {
          "status": "ok",
          "timestamp": 1531312592347,
          "user_tz": -330,
          "elapsed": 820,
          "user": {
            "displayName": "",
            "photoUrl": "",
            "userId": ""
          }
        }
      },
      "cell_type": "code",
      "source": [
        "print((y_train_aug))"
      ],
      "execution_count": 46,
      "outputs": [
        {
          "output_type": "stream",
          "text": [
            "[1, 1, 1, 1, 1, 1, 1, 1, 1, 1, 1, 1, 1, 1, 1, 1, 1, 1, 1, 1, 1, 1, 1, 1, 1, 1, 1, 1, 1, 1, 1, 1, 1, 1, 1, 1, 1, 1, 1, 1, 1, 1, 1, 1, 1, 1, 1, 1, 1, 1, 1, 1, 1, 1, 1, 1, 1, 1, 1, 1, 1, 1, 1, 1, 1, 1, 1, 1, 1, 1, 1, 1, 1, 1, 1, 1, 1, 1, 1, 1, 1, 1, 1, 1, 1, 1, 1, 1, 1, 1, 1, 1, 1, 1, 1, 1, 1, 1, 1, 1, 1, 1, 1, 1, 1, 1, 1, 1, 1, 1, 1, 1, 1, 1, 1, 1, 1, 1, 1, 1, 1, 1, 1, 1, 1, 1, 1, 1, 1, 1, 1, 1, 1, 1, 1, 1, 1, 1, 1, 1, 1, 1, 1, 1, 1, 1, 1, 1, 1, 1, 1, 1, 1, 1, 1, 1, 1, 1, 1, 1, 1, 1, 1, 1, 1, 1, 1, 1, 1, 1, 1, 1, 1, 1, 1, 1, 1, 1, 1, 1, 1, 1, 1, 1, 1, 1, 1, 1, 1, 1, 1, 1, 1, 1, 1, 1, 1, 1, 1, 1, 1, 1, 1, 1, 1, 1, 1, 1, 1, 1, 1, 1, 1, 1, 1, 1, 1, 1, 1, 1, 1, 1, 1, 1, 1, 1, 1, 1, 1, 1, 1, 1, 1, 1, 1, 1, 1, 1, 1, 1, 1, 1, 1, 1, 1, 1, 1, 1, 1, 1, 1, 1, 1, 1, 1, 1, 1, 1, 1, 1, 1, 1, 1, 1, 1, 1, 1, 1, 1, 1, 1, 1, 1, 1, 1, 1, 1, 1, 1, 1, 1, 1, 1, 1, 1, 1, 1, 1, 1, 1, 1, 1, 1, 1, 1, 1, 1, 1, 1, 1, 1, 1, 1, 1, 1, 1, 1, 1, 1, 1, 1, 1, 1, 1, 1, 1, 1, 1, 1, 1, 1, 1, 1, 1, 1, 1, 1, 1, 1, 1, 1, 1, 1, 1, 1, 1, 1, 1, 1, 1, 1, 1, 1, 1, 1, 1, 1, 1, 1, 1, 1, 1, 1, 1, 1, 1, 1, 1, 1, 1, 1, 1, 1, 1, 1, 1, 1, 1, 1, 1, 1, 1, 1, 1, 1, 1, 1, 1, 1, 1, 1, 1, 1, 1, 1, 1, 1, 1, 1, 1, 1, 1, 1, 1, 1, 1, 1, 1, 1, 1, 1, 1, 1, 1, 1, 1, 1, 1, 1, 1, 1, 1, 1, 1, 1, 1, 1, 1, 1, 1, 1, 1, 1, 1, 1, 1, 1, 1, 1, 1, 1, 1, 1, 1, 1, 1, 1, 1, 1, 1, 1, 1, 1, 1, 1, 1, 1, 1, 1, 1, 1, 1, 1, 1, 1, 1, 1, 1, 1, 1, 1, 1, 1, 1, 1, 1, 1, 1, 1, 1, 1, 1, 1, 1, 1, 1, 1, 1, 1, 1, 1, 1, 1, 1, 1, 1, 1, 1, 1, 1, 1, 1, 1, 1, 1, 1, 1, 1, 1, 1, 1, 1, 1, 1, 1, 1, 1, 1, 1, 1, 1, 1, 1, 1, 1, 1, 1, 1, 1, 1, 1, 1, 1, 1, 1, 1, 1, 1, 1, 1, 1, 1, 1, 1, 1, 1, 1, 1, 1, 1, 1, 1, 1, 1, 1, 1, 1, 1, 1, 1, 1, 1, 1, 1, 1, 1, 1, 1, 1, 1, 1, 0, 0, 0, 0, 0, 0, 0, 0, 0, 0, 0, 0, 0, 0, 0, 0, 0, 0, 0, 0, 0, 0, 0, 0, 0, 0, 0, 0, 0, 0, 0, 0, 0, 0, 0, 0, 0, 0, 0, 0, 0, 0, 0, 0, 0, 0, 0, 0, 0, 0, 0, 0, 0, 0, 0, 0, 0, 0, 0, 0, 0, 0, 0, 0, 0, 0, 0, 0, 0, 0, 0, 0, 0, 0, 0, 0, 0, 0, 0, 0, 0, 0, 0, 0, 0, 0, 0, 0, 0, 0, 0, 0, 0, 0, 0, 0, 0, 0, 0, 0, 0, 0, 0, 0, 0, 0, 0, 0, 0, 0, 0, 0, 0, 0, 0, 0, 0, 0, 0, 0, 0, 0, 0, 0, 0, 0, 0, 0, 0, 0, 0, 0, 0, 0, 0, 0, 0, 0, 0, 0, 0, 0, 0, 0, 0, 0, 0, 0, 0, 0, 0, 0, 0, 0, 0, 0, 0, 0, 0, 0, 0, 0, 0, 0, 0, 0, 0, 0, 0, 0, 0, 0, 0, 0, 0, 0, 0, 0, 0, 0, 0, 0, 0, 0, 0, 0, 0, 0, 0, 0, 0, 0, 0, 0, 0, 0, 0, 0, 0, 0, 0, 0, 0, 0, 0, 0, 0, 0, 0, 0, 0, 0, 0, 0, 0, 0, 0, 0, 0, 0, 0, 0, 0, 0, 0, 0, 0, 0, 0, 0, 0, 0, 0, 0, 0, 0, 0, 0, 0, 0, 0, 0, 0, 0, 0, 0, 0, 0, 0, 0, 0, 0, 0, 0, 0, 0, 0, 0, 0, 0, 0, 0, 0, 0, 0, 0, 0, 0, 0, 0, 0, 0, 0, 0, 0, 0, 0, 0, 0, 0, 0, 0, 0, 0, 0, 0, 0, 0, 0, 0, 0, 0, 0, 0, 0, 0, 0, 0, 0, 0, 0, 0, 0, 0, 0, 0, 0, 0, 0, 0, 0, 0, 0, 0, 0, 0, 0, 0, 0, 0, 0, 0, 0, 0, 0, 0, 0, 0, 0, 0, 0, 0, 0, 0, 0, 0, 0, 0, 0, 0, 0, 0, 0, 0, 0, 0, 0, 0, 0, 0, 0, 0, 0, 0, 0, 0, 0, 0, 0, 0, 0, 0, 0, 0, 0, 0, 0, 0, 0, 0, 0, 0, 0, 0, 0, 0, 0, 0, 0, 0, 0, 0, 0, 0, 0, 0, 0, 0, 0, 0, 0, 0, 0, 0, 0, 0, 0, 0, 0, 0, 0, 0, 0, 0, 0, 0, 0, 0, 0, 0, 0, 0, 0, 0, 0, 0, 0, 0, 0, 0, 0, 0, 0, 0, 0, 0, 0, 0, 0, 0, 0, 0, 0, 0, 0, 0, 0, 0, 0, 0, 0, 0, 0, 0, 0, 0, 0, 0, 0, 0, 0, 0, 0, 0, 0, 0, 0, 0, 0, 0, 0, 0, 0, 0, 0, 0, 0, 0, 0, 0, 0, 0, 0, 0, 0, 0, 0, 0, 0, 0, 0, 0, 0, 0, 0, 0, 0, 0, 0, 0, 0, 0, 0, 0, 0, 0, 0, 0, 0, 0, 0, 0, 0, 0, 0, 0, 0, 0, 0, 0, 0, 0, 0, 0, 0, 0, 0, 0, 0, 0, 0, 0, 0, 0, 0, 0, 0, 0, 0, 0, 0, 0, 0, 0, 0, 0, 0, 0, 0, 0, 0, 0, 0, 0, 0, 0, 0, 0, 0, 0, 0, 0, 0, 0, 0, 0, 0, 0, 0, 0, 0, 0, 0, 0, 0, 0, 0, 0, 0, 0, 0, 0]\n"
          ],
          "name": "stdout"
        }
      ]
    },
    {
      "metadata": {
        "id": "_Ws5CHJ6Q_GC",
        "colab_type": "code",
        "colab": {
          "autoexec": {
            "startup": false,
            "wait_interval": 0
          },
          "base_uri": "https://localhost:8080/",
          "height": 17
        },
        "outputId": "6ccae130-811d-400c-ad10-ba1dacf331b1",
        "executionInfo": {
          "status": "ok",
          "timestamp": 1531312847659,
          "user_tz": -330,
          "elapsed": 901,
          "user": {
            "displayName": "",
            "photoUrl": "",
            "userId": ""
          }
        }
      },
      "cell_type": "code",
      "source": [
        "activation = 'relu'\n",
        "dropout = 1\n",
        "\n",
        "def model(dshape):\n",
        "    \n",
        "    seq_model = Sequential()\n",
        "\n",
        "    seq_model.add(BatchNormalization(input_shape=(dshape[0], dshape[1], dshape[2])))\n",
        "    seq_model.add(Conv2D(24, (5, 5), padding='valid',\n",
        "                  activation=activation, strides=(2, 2)))\n",
        "\n",
        "    seq_model.add(Conv2D(36, (5, 5), padding='valid', activation=activation, strides=(2, 2)))\n",
        "    seq_model.add(Dropout(0.6))\n",
        "    seq_model.add(Conv2D(48, (5, 5), padding='valid', activation=activation, strides=(2, 2)))\n",
        "    seq_model.add(Dropout(0.6))\n",
        "    seq_model.add(Conv2D(64, (3, 3), padding='valid', activation=activation))\n",
        "    seq_model.add(Dropout(0.6))\n",
        "#     seq_model.add(Conv2D(64, (3, 3), padding='valid', activation=activation))\n",
        "    seq_model.add(Flatten())\n",
        "    seq_model.add(Dropout(0.6))\n",
        "    seq_model.add(Dense(100, activation=activation))\n",
        "    seq_model.add(Dropout(0.5))\n",
        "    seq_model.add(Dense(50, activation=activation))\n",
        "    seq_model.add(Dropout(0.3))\n",
        "    seq_model.add(Dense(10, activation=activation))\n",
        "    seq_model.add(Dense(1, activation='sigmoid'))\n",
        "    seq_model.compile(loss='binary_crossentropy', optimizer=adam(), metrics=['accuracy'])\n",
        "    seq_model.summary()\n",
        "\n",
        "    return seq_model"
      ],
      "execution_count": 56,
      "outputs": []
    },
    {
      "metadata": {
        "id": "8daIf7EYQ9Cb",
        "colab_type": "code",
        "colab": {
          "autoexec": {
            "startup": false,
            "wait_interval": 0
          },
          "base_uri": "https://localhost:8080/",
          "height": 17
        },
        "outputId": "daad84d4-f78f-4b0b-a048-f746ad7f42a8",
        "executionInfo": {
          "status": "ok",
          "timestamp": 1531312855337,
          "user_tz": -330,
          "elapsed": 866,
          "user": {
            "displayName": "",
            "photoUrl": "",
            "userId": ""
          }
        }
      },
      "cell_type": "code",
      "source": [
        "from sklearn.utils import shuffle\n",
        "from keras.utils.data_utils import Sequence\n",
        "\n",
        "\n",
        "images, labels = shuffle(X_train_aug_roots, y_train_aug)"
      ],
      "execution_count": 57,
      "outputs": []
    },
    {
      "metadata": {
        "id": "Bdwr1ereT9_4",
        "colab_type": "code",
        "colab": {
          "autoexec": {
            "startup": false,
            "wait_interval": 0
          },
          "base_uri": "https://localhost:8080/",
          "height": 68
        },
        "outputId": "96db2cab-7d8c-4a6c-8360-940014c91261",
        "executionInfo": {
          "status": "ok",
          "timestamp": 1531312858585,
          "user_tz": -330,
          "elapsed": 801,
          "user": {
            "displayName": "",
            "photoUrl": "",
            "userId": ""
          }
        }
      },
      "cell_type": "code",
      "source": [
        "images = np.asarray(images)\n",
        "labels = np.asarray(labels)\n",
        "print(images.dtype)\n",
        "print(type(images))\n",
        "print(labels)"
      ],
      "execution_count": 58,
      "outputs": [
        {
          "output_type": "stream",
          "text": [
            "uint8\n",
            "<class 'numpy.ndarray'>\n",
            "[1 0 0 ... 0 0 0]\n"
          ],
          "name": "stdout"
        }
      ]
    },
    {
      "metadata": {
        "id": "sqlcGYWFRYS6",
        "colab_type": "code",
        "colab": {
          "autoexec": {
            "startup": false,
            "wait_interval": 0
          },
          "base_uri": "https://localhost:8080/",
          "height": 680
        },
        "outputId": "40491117-5f28-4dbc-88dc-d32f4fd91744",
        "executionInfo": {
          "status": "ok",
          "timestamp": 1531312862484,
          "user_tz": -330,
          "elapsed": 1164,
          "user": {
            "displayName": "",
            "photoUrl": "",
            "userId": ""
          }
        }
      },
      "cell_type": "code",
      "source": [
        "from keras.models import Sequential\n",
        "from keras.layers import Dense, Flatten, Conv2D, Dropout\n",
        "from keras.layers.normalization import BatchNormalization\n",
        "from keras.optimizers import adam\n",
        "#from keras.utils.data_utils import Sequence\n",
        "\n",
        "keras_model = model((height, width, 3))"
      ],
      "execution_count": 59,
      "outputs": [
        {
          "output_type": "stream",
          "text": [
            "_________________________________________________________________\n",
            "Layer (type)                 Output Shape              Param #   \n",
            "=================================================================\n",
            "batch_normalization_4 (Batch (None, 58, 58, 3)         12        \n",
            "_________________________________________________________________\n",
            "conv2d_16 (Conv2D)           (None, 27, 27, 24)        1824      \n",
            "_________________________________________________________________\n",
            "conv2d_17 (Conv2D)           (None, 12, 12, 36)        21636     \n",
            "_________________________________________________________________\n",
            "dropout_16 (Dropout)         (None, 12, 12, 36)        0         \n",
            "_________________________________________________________________\n",
            "conv2d_18 (Conv2D)           (None, 4, 4, 48)          43248     \n",
            "_________________________________________________________________\n",
            "dropout_17 (Dropout)         (None, 4, 4, 48)          0         \n",
            "_________________________________________________________________\n",
            "conv2d_19 (Conv2D)           (None, 2, 2, 64)          27712     \n",
            "_________________________________________________________________\n",
            "dropout_18 (Dropout)         (None, 2, 2, 64)          0         \n",
            "_________________________________________________________________\n",
            "flatten_3 (Flatten)          (None, 256)               0         \n",
            "_________________________________________________________________\n",
            "dropout_19 (Dropout)         (None, 256)               0         \n",
            "_________________________________________________________________\n",
            "dense_9 (Dense)              (None, 100)               25700     \n",
            "_________________________________________________________________\n",
            "dropout_20 (Dropout)         (None, 100)               0         \n",
            "_________________________________________________________________\n",
            "dense_10 (Dense)             (None, 50)                5050      \n",
            "_________________________________________________________________\n",
            "dropout_21 (Dropout)         (None, 50)                0         \n",
            "_________________________________________________________________\n",
            "dense_11 (Dense)             (None, 10)                510       \n",
            "_________________________________________________________________\n",
            "dense_12 (Dense)             (None, 1)                 11        \n",
            "=================================================================\n",
            "Total params: 125,703\n",
            "Trainable params: 125,697\n",
            "Non-trainable params: 6\n",
            "_________________________________________________________________\n"
          ],
          "name": "stdout"
        }
      ]
    },
    {
      "metadata": {
        "id": "dAuVfM5PRb0-",
        "colab_type": "code",
        "colab": {
          "autoexec": {
            "startup": false,
            "wait_interval": 0
          },
          "base_uri": "https://localhost:8080/",
          "height": 1091
        },
        "outputId": "465dc599-6f14-490a-fdcf-a0adbe4fa828",
        "executionInfo": {
          "status": "ok",
          "timestamp": 1531313046717,
          "user_tz": -330,
          "elapsed": 91310,
          "user": {
            "displayName": "",
            "photoUrl": "",
            "userId": ""
          }
        }
      },
      "cell_type": "code",
      "source": [
        "\n",
        "keras_model.fit(images, labels, epochs=30, batch_size=32, verbose=1, shuffle=True, validation_split=0.2)"
      ],
      "execution_count": 61,
      "outputs": [
        {
          "output_type": "stream",
          "text": [
            "Train on 906 samples, validate on 227 samples\n",
            "Epoch 1/30\n",
            "906/906 [==============================] - 2s 2ms/step - loss: 0.3960 - acc: 0.8620 - val_loss: 0.3102 - val_acc: 0.8987\n",
            "Epoch 2/30\n",
            "906/906 [==============================] - 3s 3ms/step - loss: 0.3226 - acc: 0.8830 - val_loss: 0.2632 - val_acc: 0.9207\n",
            "Epoch 3/30\n",
            "906/906 [==============================] - 3s 3ms/step - loss: 0.2607 - acc: 0.9172 - val_loss: 0.3547 - val_acc: 0.8590\n",
            "Epoch 4/30\n",
            "906/906 [==============================] - 3s 3ms/step - loss: 0.2680 - acc: 0.8974 - val_loss: 0.2375 - val_acc: 0.9163\n",
            "Epoch 5/30\n",
            "906/906 [==============================] - 3s 3ms/step - loss: 0.2380 - acc: 0.9150 - val_loss: 0.2038 - val_acc: 0.9339\n",
            "Epoch 6/30\n",
            "906/906 [==============================] - 3s 3ms/step - loss: 0.1939 - acc: 0.9349 - val_loss: 0.3359 - val_acc: 0.8855\n",
            "Epoch 7/30\n",
            "320/906 [=========>....................] - ETA: 1s - loss: 0.2653 - acc: 0.9062"
          ],
          "name": "stdout"
        },
        {
          "output_type": "stream",
          "text": [
            "906/906 [==============================] - 3s 3ms/step - loss: 0.2155 - acc: 0.9283 - val_loss: 0.2927 - val_acc: 0.8943\n",
            "Epoch 8/30\n",
            "906/906 [==============================] - 3s 3ms/step - loss: 0.1870 - acc: 0.9272 - val_loss: 0.3228 - val_acc: 0.8855\n",
            "Epoch 9/30\n",
            "906/906 [==============================] - 3s 3ms/step - loss: 0.1786 - acc: 0.9404 - val_loss: 0.1640 - val_acc: 0.9515\n",
            "Epoch 10/30\n",
            "906/906 [==============================] - 3s 3ms/step - loss: 0.1462 - acc: 0.9437 - val_loss: 0.3484 - val_acc: 0.8943\n",
            "Epoch 11/30\n",
            "906/906 [==============================] - 3s 3ms/step - loss: 0.1658 - acc: 0.9437 - val_loss: 0.3127 - val_acc: 0.8987\n",
            "Epoch 12/30\n",
            "906/906 [==============================] - 3s 3ms/step - loss: 0.1414 - acc: 0.9558 - val_loss: 0.1515 - val_acc: 0.9559\n",
            "Epoch 13/30\n",
            "864/906 [===========================>..] - ETA: 0s - loss: 0.1125 - acc: 0.9641"
          ],
          "name": "stdout"
        },
        {
          "output_type": "stream",
          "text": [
            "906/906 [==============================] - 3s 3ms/step - loss: 0.1125 - acc: 0.9647 - val_loss: 0.1518 - val_acc: 0.9604\n",
            "Epoch 14/30\n",
            "906/906 [==============================] - 3s 3ms/step - loss: 0.1293 - acc: 0.9570 - val_loss: 0.2300 - val_acc: 0.9339\n",
            "Epoch 15/30\n",
            "906/906 [==============================] - 3s 3ms/step - loss: 0.0919 - acc: 0.9691 - val_loss: 0.1704 - val_acc: 0.9559\n",
            "Epoch 16/30\n",
            "906/906 [==============================] - 3s 3ms/step - loss: 0.1593 - acc: 0.9514 - val_loss: 0.1371 - val_acc: 0.9648\n",
            "Epoch 17/30\n",
            "906/906 [==============================] - 3s 3ms/step - loss: 0.1062 - acc: 0.9636 - val_loss: 0.1710 - val_acc: 0.9559\n",
            "Epoch 18/30\n",
            "906/906 [==============================] - 3s 3ms/step - loss: 0.0848 - acc: 0.9713 - val_loss: 0.1735 - val_acc: 0.9559\n",
            "Epoch 19/30\n",
            "906/906 [==============================] - 3s 3ms/step - loss: 0.0866 - acc: 0.9757 - val_loss: 0.1857 - val_acc: 0.9559\n",
            "Epoch 20/30\n",
            " 32/906 [>.............................] - ETA: 2s - loss: 0.0128 - acc: 1.0000"
          ],
          "name": "stdout"
        },
        {
          "output_type": "stream",
          "text": [
            "906/906 [==============================] - 3s 3ms/step - loss: 0.0760 - acc: 0.9757 - val_loss: 0.1676 - val_acc: 0.9604\n",
            "Epoch 21/30\n",
            "906/906 [==============================] - 3s 3ms/step - loss: 0.1051 - acc: 0.9647 - val_loss: 0.1596 - val_acc: 0.9559\n",
            "Epoch 22/30\n",
            "906/906 [==============================] - 3s 3ms/step - loss: 0.0840 - acc: 0.9735 - val_loss: 0.1590 - val_acc: 0.9559\n",
            "Epoch 23/30\n",
            "906/906 [==============================] - 3s 3ms/step - loss: 0.0694 - acc: 0.9801 - val_loss: 0.1672 - val_acc: 0.9604\n",
            "Epoch 24/30\n",
            "906/906 [==============================] - 3s 3ms/step - loss: 0.0748 - acc: 0.9790 - val_loss: 0.1909 - val_acc: 0.9559\n",
            "Epoch 25/30\n",
            "906/906 [==============================] - 3s 3ms/step - loss: 0.0678 - acc: 0.9812 - val_loss: 0.1598 - val_acc: 0.9604\n",
            "Epoch 26/30\n",
            "864/906 [===========================>..] - ETA: 0s - loss: 0.0748 - acc: 0.9780"
          ],
          "name": "stdout"
        },
        {
          "output_type": "stream",
          "text": [
            "906/906 [==============================] - 3s 3ms/step - loss: 0.0734 - acc: 0.9790 - val_loss: 0.1659 - val_acc: 0.9648\n",
            "Epoch 27/30\n",
            "906/906 [==============================] - 3s 3ms/step - loss: 0.0828 - acc: 0.9757 - val_loss: 0.1411 - val_acc: 0.9648\n",
            "Epoch 28/30\n",
            "906/906 [==============================] - 3s 3ms/step - loss: 0.0854 - acc: 0.9702 - val_loss: 0.2135 - val_acc: 0.9427\n",
            "Epoch 29/30\n",
            "906/906 [==============================] - 3s 3ms/step - loss: 0.0691 - acc: 0.9823 - val_loss: 0.1968 - val_acc: 0.9427\n",
            "Epoch 30/30\n",
            "906/906 [==============================] - 3s 3ms/step - loss: 0.0746 - acc: 0.9801 - val_loss: 0.1725 - val_acc: 0.9604\n"
          ],
          "name": "stdout"
        },
        {
          "output_type": "execute_result",
          "data": {
            "text/plain": [
              "<keras.callbacks.History at 0x7fd692891a90>"
            ]
          },
          "metadata": {
            "tags": []
          },
          "execution_count": 61
        }
      ]
    },
    {
      "metadata": {
        "id": "0hA2QvNNXtiR",
        "colab_type": "text"
      },
      "cell_type": "markdown",
      "source": [
        ""
      ]
    },
    {
      "metadata": {
        "id": "g3E6Gw91R3xv",
        "colab_type": "code",
        "colab": {
          "autoexec": {
            "startup": false,
            "wait_interval": 0
          }
        }
      },
      "cell_type": "code",
      "source": [
        ""
      ],
      "execution_count": 0,
      "outputs": []
    }
  ]
}