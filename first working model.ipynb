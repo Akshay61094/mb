{
  "nbformat": 4,
  "nbformat_minor": 0,
  "metadata": {
    "colab": {
      "name": "Hello,_Colaboratory (2).ipynb",
      "version": "0.3.2",
      "views": {},
      "default_view": {},
      "provenance": [],
      "collapsed_sections": [],
      "toc_visible": true
    },
    "kernelspec": {
      "display_name": "Python 3",
      "name": "python3"
    }
  },
  "cells": [
    {
      "metadata": {
        "id": "ab9JnijZMV3O",
        "colab_type": "code",
        "colab": {
          "autoexec": {
            "startup": false,
            "wait_interval": 0
          },
          "base_uri": "https://localhost:8080/",
          "height": 34
        },
        "outputId": "4f6adc94-c057-46d1-e2d9-aa0bec2f59b6",
        "executionInfo": {
          "status": "ok",
          "timestamp": 1531362630099,
          "user_tz": -330,
          "elapsed": 1943,
          "user": {
            "displayName": "anupam behera",
            "photoUrl": "//lh4.googleusercontent.com/-nt7z4H6Xjm8/AAAAAAAAAAI/AAAAAAAAAC4/rGjoKFTe_MI/s50-c-k-no/photo.jpg",
            "userId": "100554187957869533306"
          }
        }
      },
      "cell_type": "code",
      "source": [
        "!git clone https://github.com/anupamhap/mb.git"
      ],
      "execution_count": 1,
      "outputs": [
        {
          "output_type": "stream",
          "text": [
            "fatal: destination path 'mb' already exists and is not an empty directory.\r\n"
          ],
          "name": "stdout"
        }
      ]
    },
    {
      "metadata": {
        "id": "zLeI0uuCM6y5",
        "colab_type": "code",
        "colab": {
          "autoexec": {
            "startup": false,
            "wait_interval": 0
          },
          "base_uri": "https://localhost:8080/",
          "height": 34
        },
        "outputId": "4b0c9292-dda4-479c-a527-d46825850d10",
        "executionInfo": {
          "status": "ok",
          "timestamp": 1531362633962,
          "user_tz": -330,
          "elapsed": 1946,
          "user": {
            "displayName": "anupam behera",
            "photoUrl": "//lh4.googleusercontent.com/-nt7z4H6Xjm8/AAAAAAAAAAI/AAAAAAAAAC4/rGjoKFTe_MI/s50-c-k-no/photo.jpg",
            "userId": "100554187957869533306"
          }
        }
      },
      "cell_type": "code",
      "source": [
        "!pwd"
      ],
      "execution_count": 2,
      "outputs": [
        {
          "output_type": "stream",
          "text": [
            "/content\r\n"
          ],
          "name": "stdout"
        }
      ]
    },
    {
      "metadata": {
        "id": "Tde9EpwqNse-",
        "colab_type": "code",
        "colab": {
          "autoexec": {
            "startup": false,
            "wait_interval": 0
          }
        }
      },
      "cell_type": "code",
      "source": [
        "import os\n",
        "os.chdir(\"mb/Tree_Root_Detection\")"
      ],
      "execution_count": 0,
      "outputs": []
    },
    {
      "metadata": {
        "id": "Js9yzZEQN7H7",
        "colab_type": "code",
        "colab": {
          "autoexec": {
            "startup": false,
            "wait_interval": 0
          },
          "base_uri": "https://localhost:8080/",
          "height": 191
        },
        "outputId": "995ecb92-b6c8-4807-ec53-003779d9d78c",
        "executionInfo": {
          "status": "ok",
          "timestamp": 1531362640047,
          "user_tz": -330,
          "elapsed": 2112,
          "user": {
            "displayName": "anupam behera",
            "photoUrl": "//lh4.googleusercontent.com/-nt7z4H6Xjm8/AAAAAAAAAAI/AAAAAAAAAC4/rGjoKFTe_MI/s50-c-k-no/photo.jpg",
            "userId": "100554187957869533306"
          }
        }
      },
      "cell_type": "code",
      "source": [
        "!ls"
      ],
      "execution_count": 4,
      "outputs": [
        {
          "output_type": "stream",
          "text": [
            "classifiers\t\t       Selection_109.jpg\r\n",
            "data\t\t\t       Selection_110.jpg\r\n",
            "Hello,_Colaboratory (1).ipynb  Selection_111.jpg\r\n",
            "Hello,_Colaboratory (2).ipynb  Selection_112.jpg\r\n",
            "helper.py\t\t       Selection_113.jpg\r\n",
            "kerasmodel.h5\t\t       test_image2.png\r\n",
            "kerasmodel.json\t\t       test_images\r\n",
            "__pycache__\t\t       tree_root_intrusion_detection.ipynb\r\n",
            "Selection_107.jpg\t       videos\r\n",
            "Selection_108.jpg\r\n"
          ],
          "name": "stdout"
        }
      ]
    },
    {
      "metadata": {
        "id": "_kwW0eTmOCrv",
        "colab_type": "code",
        "colab": {
          "autoexec": {
            "startup": false,
            "wait_interval": 0
          }
        }
      },
      "cell_type": "code",
      "source": [
        "import csv\n",
        "import matplotlib.image as mpimg\n",
        "import cv2\n",
        "import numpy as np\n",
        "import os\n",
        "import logging\n",
        "import glob"
      ],
      "execution_count": 0,
      "outputs": []
    },
    {
      "metadata": {
        "id": "KZdoJrWpOXk1",
        "colab_type": "code",
        "colab": {
          "autoexec": {
            "startup": false,
            "wait_interval": 0
          }
        }
      },
      "cell_type": "code",
      "source": [
        "from keras.models import Sequential\n",
        "from keras.layers import Flatten, Dense, Lambda, Dropout, Activation, Cropping2D\n",
        "from keras.layers.convolutional import Convolution2D\n",
        "from keras.layers.pooling import MaxPooling2D\n",
        "from sklearn.model_selection import train_test_split\n",
        "import sklearn"
      ],
      "execution_count": 0,
      "outputs": []
    },
    {
      "metadata": {
        "id": "UIPgIYrkOaPq",
        "colab_type": "code",
        "colab": {
          "autoexec": {
            "startup": false,
            "wait_interval": 0
          }
        }
      },
      "cell_type": "code",
      "source": [
        ""
      ],
      "execution_count": 0,
      "outputs": []
    },
    {
      "metadata": {
        "id": "_qI3POGKPQQh",
        "colab_type": "code",
        "colab": {
          "autoexec": {
            "startup": false,
            "wait_interval": 0
          }
        }
      },
      "cell_type": "code",
      "source": [
        "width = 58\n",
        "height = 58\n",
        "\n",
        "images = []"
      ],
      "execution_count": 0,
      "outputs": []
    },
    {
      "metadata": {
        "id": "_9gdSeYyPGwy",
        "colab_type": "code",
        "colab": {
          "autoexec": {
            "startup": false,
            "wait_interval": 0
          },
          "base_uri": "https://localhost:8080/",
          "height": 34
        },
        "outputId": "d4fd9c12-7ae1-4df5-8896-1312ba2e526f",
        "executionInfo": {
          "status": "ok",
          "timestamp": 1531371511343,
          "user_tz": -330,
          "elapsed": 936,
          "user": {
            "displayName": "anupam behera",
            "photoUrl": "//lh4.googleusercontent.com/-nt7z4H6Xjm8/AAAAAAAAAAI/AAAAAAAAAC4/rGjoKFTe_MI/s50-c-k-no/photo.jpg",
            "userId": "100554187957869533306"
          }
        }
      },
      "cell_type": "code",
      "source": [
        "roots   = glob.glob('data/tree/*.JPG')\n",
        "non_roots   = glob.glob('data/non_tree/*.JPG')\n",
        "non_roots   += glob.glob('data/non_tree/*.jpg')\n",
        "print(len(roots), len(non_roots))"
      ],
      "execution_count": 68,
      "outputs": [
        {
          "output_type": "stream",
          "text": [
            "51 52\n"
          ],
          "name": "stdout"
        }
      ]
    },
    {
      "metadata": {
        "id": "mSTthRlVPhKn",
        "colab_type": "code",
        "colab": {
          "autoexec": {
            "startup": false,
            "wait_interval": 0
          }
        }
      },
      "cell_type": "code",
      "source": [
        "img_size=64\n",
        "def show3img(img, img1, img2):\n",
        "   plt.figure(figsize=(6, 2))\n",
        "   plt.subplot(1, 3, 1)\n",
        "   plt.imshow(img)\n",
        "   plt.title(\"Raw image\")\n",
        "   plt.subplot(1, 3, 2)\n",
        "   plt.imshow(img1)\n",
        "   plt.title(\"Processed image\")\n",
        "   plt.subplot(1, 3, 3)\n",
        "   plt.imshow(img2)\n",
        "   plt.title(\"Augmented image\")\n",
        "   plt.show()\n",
        "   \n",
        "def eq_Hist(img):\n",
        "   #Histogram Equalization\n",
        "   img2=img.copy()\n",
        "   img2[:, :, 0] = cv2.equalizeHist(img[:, :, 0])\n",
        "   img2[:, :, 1] = cv2.equalizeHist(img[:, :, 1])\n",
        "   img2[:, :, 2] = cv2.equalizeHist(img[:, :, 2])\n",
        "   return img2\n",
        "\n",
        "def scale_img(img):\n",
        "   img2=img.copy()\n",
        "   sc_y=0.4*np.random.rand()+1.0\n",
        "   img2=cv2.resize(img, None, fx=1, fy=sc_y, interpolation = cv2.INTER_CUBIC)\n",
        "   c_x,c_y, sh = int(img2.shape[0]/2), int(img2.shape[1]/2), int(img_size/2)\n",
        "   return img2\n",
        "\n",
        "def crop(img, mar=0):\n",
        "   c_x,c_y, sh = int(img.shape[0]/2), int(img.shape[1]/2), int(img_size/2-mar)\n",
        "   return img[(c_x-sh):(c_x+sh),(c_y-sh):(c_y+sh)]\n",
        "\n",
        "def rotate_img(img):\n",
        "   c_x,c_y = int(img.shape[0]/2), int(img.shape[1]/2)\n",
        "   ang = 30.0*np.random.rand()-15\n",
        "   Mat = cv2.getRotationMatrix2D((c_x, c_y), ang, 1.0)\n",
        "   return cv2.warpAffine(img, Mat, img.shape[:2])\n",
        "\n",
        "def sharpen_img(img):\n",
        "   gb = cv2.GaussianBlur(img, (5,5), 20.0)\n",
        "   return cv2.addWeighted(img, 2, gb, -1, 0)\n",
        "#Compute linear image transformation ing*s+m\n",
        "def lin_img(img,s=1.0,m=0.0):\n",
        "   img2=cv2.multiply(img, np.array([s]))\n",
        "   return cv2.add(img2, np.array([m]))\n",
        "\n",
        "#Change image contrast; s>1 - increase\n",
        "def contr_img(img, s=1.0):\n",
        "   m=127.0*(1.0-s)\n",
        "   return lin_img(img, s, m)\n",
        "\n",
        "def transform_img(img):\n",
        "   img2=sharpen_img(img)\n",
        "   img2=crop(img2,3)\n",
        "   img2=contr_img(img2, 1.5)\n",
        "   return eq_Hist(img2)\n",
        "\n",
        "def augment_img(img):\n",
        "   img=contr_img(img, 1.8*np.random.rand()+0.2)\n",
        "   img=rotate_img(img)\n",
        "   img=scale_img(img)\n",
        "   return transform_img(img)\n"
      ],
      "execution_count": 0,
      "outputs": []
    },
    {
      "metadata": {
        "id": "3yWr5ZHEQqZT",
        "colab_type": "code",
        "colab": {
          "autoexec": {
            "startup": false,
            "wait_interval": 0
          },
          "base_uri": "https://localhost:8080/",
          "height": 34
        },
        "outputId": "f98995e5-a5f1-4659-f540-d6636fd44d88",
        "executionInfo": {
          "status": "ok",
          "timestamp": 1531371590405,
          "user_tz": -330,
          "elapsed": 877,
          "user": {
            "displayName": "anupam behera",
            "photoUrl": "//lh4.googleusercontent.com/-nt7z4H6Xjm8/AAAAAAAAAAI/AAAAAAAAAC4/rGjoKFTe_MI/s50-c-k-no/photo.jpg",
            "userId": "100554187957869533306"
          }
        }
      },
      "cell_type": "code",
      "source": [
        "X_train_aug_roots = []\n",
        "y_train_aug = []\n",
        "\n",
        "def create_data(n=10):\n",
        "   for i in range(len(roots)):\n",
        "       img=mpimg.imread(roots[i])\n",
        "       img=cv2.resize(img, (64, 64))\n",
        "       X_train_aug_roots.append(transform_img(img))\n",
        "       y_train_aug.append(1)\n",
        "       #Generate n new images out of each input image\n",
        "       for j in range(n):\n",
        "           X_train_aug_roots.append(augment_img(img))\n",
        "           y_train_aug.append(1)      \n",
        "   print(\"Total number of images in the augmented dataset = \", len(X_train_aug_roots))\n",
        "\n",
        "create_data(7)"
      ],
      "execution_count": 71,
      "outputs": [
        {
          "output_type": "stream",
          "text": [
            "Total number of images in the augmented dataset =  408\n"
          ],
          "name": "stdout"
        }
      ]
    },
    {
      "metadata": {
        "id": "gsDy9FImQ2dA",
        "colab_type": "code",
        "colab": {
          "autoexec": {
            "startup": false,
            "wait_interval": 0
          },
          "base_uri": "https://localhost:8080/",
          "height": 34
        },
        "outputId": "e6b20ff7-529f-4c0b-8b18-8694fb78ebbe",
        "executionInfo": {
          "status": "ok",
          "timestamp": 1531371595305,
          "user_tz": -330,
          "elapsed": 953,
          "user": {
            "displayName": "anupam behera",
            "photoUrl": "//lh4.googleusercontent.com/-nt7z4H6Xjm8/AAAAAAAAAAI/AAAAAAAAAC4/rGjoKFTe_MI/s50-c-k-no/photo.jpg",
            "userId": "100554187957869533306"
          }
        }
      },
      "cell_type": "code",
      "source": [
        "def create_data(n=10):\n",
        "   for i in range(len(non_roots)):\n",
        "       img=mpimg.imread(non_roots[i])\n",
        "       img=cv2.resize(img, (64, 64))\n",
        "       X_train_aug_roots.append(transform_img(img))\n",
        "       y_train_aug.append(0)\n",
        "       #Generate n new images out of each input image\n",
        "       for j in range(n):\n",
        "           X_train_aug_roots.append(augment_img(img))\n",
        "           y_train_aug.append(0)      \n",
        "   print(\"Total number of images in the augmented dataset = \", len(X_train_aug_roots))\n",
        "\n",
        "create_data(7)"
      ],
      "execution_count": 72,
      "outputs": [
        {
          "output_type": "stream",
          "text": [
            "Total number of images in the augmented dataset =  824\n"
          ],
          "name": "stdout"
        }
      ]
    },
    {
      "metadata": {
        "id": "CblQUREDjv6Y",
        "colab_type": "code",
        "colab": {
          "autoexec": {
            "startup": false,
            "wait_interval": 0
          },
          "base_uri": "https://localhost:8080/",
          "height": 34
        },
        "outputId": "d51c2353-e96a-4df2-e245-59e6e582479c",
        "executionInfo": {
          "status": "ok",
          "timestamp": 1531371598836,
          "user_tz": -330,
          "elapsed": 1111,
          "user": {
            "displayName": "anupam behera",
            "photoUrl": "//lh4.googleusercontent.com/-nt7z4H6Xjm8/AAAAAAAAAAI/AAAAAAAAAC4/rGjoKFTe_MI/s50-c-k-no/photo.jpg",
            "userId": "100554187957869533306"
          }
        }
      },
      "cell_type": "code",
      "source": [
        "print(len(roots))"
      ],
      "execution_count": 73,
      "outputs": [
        {
          "output_type": "stream",
          "text": [
            "51\n"
          ],
          "name": "stdout"
        }
      ]
    },
    {
      "metadata": {
        "id": "-6yLv7-HQ6Qz",
        "colab_type": "code",
        "colab": {
          "autoexec": {
            "startup": false,
            "wait_interval": 0
          },
          "base_uri": "https://localhost:8080/",
          "height": 34
        },
        "outputId": "8a8a059e-c2a1-4442-e85d-538f38fb929e",
        "executionInfo": {
          "status": "ok",
          "timestamp": 1531371707843,
          "user_tz": -330,
          "elapsed": 1349,
          "user": {
            "displayName": "anupam behera",
            "photoUrl": "//lh4.googleusercontent.com/-nt7z4H6Xjm8/AAAAAAAAAAI/AAAAAAAAAC4/rGjoKFTe_MI/s50-c-k-no/photo.jpg",
            "userId": "100554187957869533306"
          }
        }
      },
      "cell_type": "code",
      "source": [
        "for i in range(len(roots)):\n",
        "     img=mpimg.imread(roots[i])\n",
        "     img=cv2.resize(img, (58, 58))\n",
        "     X_train_aug_roots.append(img)\n",
        "     y_train_aug.append(1)\n",
        "\n",
        "for i in range(len(non_roots)):\n",
        "     img=mpimg.imread(non_roots[i])\n",
        "     img=cv2.resize(img, (58, 58))\n",
        "     X_train_aug_roots.append(img)\n",
        "     y_train_aug.append(0)\n",
        "   \n",
        "print(len(y_train_aug))"
      ],
      "execution_count": 74,
      "outputs": [
        {
          "output_type": "stream",
          "text": [
            "927\n"
          ],
          "name": "stdout"
        }
      ]
    },
    {
      "metadata": {
        "id": "_Ws5CHJ6Q_GC",
        "colab_type": "code",
        "colab": {
          "autoexec": {
            "startup": false,
            "wait_interval": 0
          }
        }
      },
      "cell_type": "code",
      "source": [
        "activation = 'relu'\n",
        "dropout = 1\n",
        "\n",
        "def model(dshape):\n",
        "    \n",
        "    seq_model = Sequential()\n",
        "\n",
        "    seq_model.add(BatchNormalization(input_shape=(dshape[0], dshape[1], dshape[2])))\n",
        "    seq_model.add(Conv2D(24, (5, 5), padding='valid',\n",
        "                  activation=activation, strides=(2, 2)))\n",
        "\n",
        "    seq_model.add(Conv2D(36, (5, 5), padding='valid', activation=activation, strides=(2, 2)))\n",
        "    seq_model.add(Dropout(0.6))\n",
        "    seq_model.add(Conv2D(48, (5, 5), padding='valid', activation=activation, strides=(2, 2)))\n",
        "    seq_model.add(Dropout(0.6))\n",
        "    seq_model.add(Conv2D(64, (3, 3), padding='valid', activation=activation))\n",
        "    seq_model.add(Dropout(0.6))\n",
        "#   seq_model.add(Conv2D(64, (3, 3), padding='valid', activation=activation))\n",
        "    seq_model.add(Flatten())\n",
        "    seq_model.add(Dropout(0.6))\n",
        "    seq_model.add(Dense(100, activation=activation))\n",
        "    seq_model.add(Dropout(0.5))\n",
        "    seq_model.add(Dense(50, activation=activation))\n",
        "    seq_model.add(Dropout(0.3))\n",
        "    seq_model.add(Dense(10, activation=activation))\n",
        "    seq_model.add(Dense(1, activation='sigmoid'))\n",
        "    seq_model.compile(loss='binary_crossentropy', optimizer=adam(), metrics=['accuracy'])\n",
        "    seq_model.summary()\n",
        "\n",
        "    return seq_model"
      ],
      "execution_count": 0,
      "outputs": []
    },
    {
      "metadata": {
        "id": "8daIf7EYQ9Cb",
        "colab_type": "code",
        "colab": {
          "autoexec": {
            "startup": false,
            "wait_interval": 0
          }
        }
      },
      "cell_type": "code",
      "source": [
        "from sklearn.utils import shuffle\n",
        "from keras.utils.data_utils import Sequence\n",
        "\n",
        "images, labels = shuffle(X_train_aug_roots, y_train_aug)"
      ],
      "execution_count": 0,
      "outputs": []
    },
    {
      "metadata": {
        "id": "pbtYATC6jm6T",
        "colab_type": "code",
        "colab": {
          "autoexec": {
            "startup": false,
            "wait_interval": 0
          }
        }
      },
      "cell_type": "code",
      "source": [
        ""
      ],
      "execution_count": 0,
      "outputs": []
    },
    {
      "metadata": {
        "id": "Bdwr1ereT9_4",
        "colab_type": "code",
        "colab": {
          "autoexec": {
            "startup": false,
            "wait_interval": 0
          },
          "base_uri": "https://localhost:8080/",
          "height": 503
        },
        "outputId": "966aecd2-1361-4a62-961a-ed8c5c49f13b",
        "executionInfo": {
          "status": "ok",
          "timestamp": 1531371730163,
          "user_tz": -330,
          "elapsed": 1856,
          "user": {
            "displayName": "anupam behera",
            "photoUrl": "//lh4.googleusercontent.com/-nt7z4H6Xjm8/AAAAAAAAAAI/AAAAAAAAAC4/rGjoKFTe_MI/s50-c-k-no/photo.jpg",
            "userId": "100554187957869533306"
          }
        }
      },
      "cell_type": "code",
      "source": [
        "images = np.asarray(images)\n",
        "labels = np.asarray(labels)\n",
        "print(images.dtype, images.shape)\n",
        "print(type(images))\n",
        "print(labels)"
      ],
      "execution_count": 77,
      "outputs": [
        {
          "output_type": "stream",
          "text": [
            "uint8 (927, 58, 58, 3)\n",
            "<class 'numpy.ndarray'>\n",
            "[1 0 1 0 0 1 0 1 0 1 1 1 0 0 1 0 0 0 1 1 1 0 1 1 0 1 1 1 0 1 0 1 0 0 0 1 0\n",
            " 0 0 0 1 1 0 1 1 1 0 0 1 0 1 0 0 1 1 0 0 1 1 0 1 0 1 1 1 0 1 1 0 0 1 0 1 1\n",
            " 0 0 1 1 1 1 0 1 1 0 0 0 0 1 1 0 0 0 0 0 0 1 0 0 1 0 0 0 0 0 1 1 0 0 1 1 0\n",
            " 0 0 0 1 0 1 1 1 0 0 1 0 0 0 0 0 1 1 1 0 1 0 1 0 1 0 1 1 1 0 1 0 1 0 1 0 0\n",
            " 1 1 1 1 1 0 1 1 0 0 1 0 1 1 1 1 0 0 0 0 0 1 1 0 0 1 1 0 0 0 1 0 0 0 1 1 1\n",
            " 0 1 1 0 0 0 1 1 0 0 0 1 1 1 0 1 0 0 1 0 1 0 1 0 0 1 1 0 0 1 0 1 0 1 0 0 1\n",
            " 0 1 1 1 0 1 1 1 0 1 0 0 0 1 1 0 1 1 1 0 0 1 0 1 0 0 0 1 0 1 1 0 1 1 0 0 0\n",
            " 0 0 1 1 0 1 0 0 0 1 1 0 0 0 0 1 0 0 1 0 1 0 1 0 0 0 0 1 0 0 0 0 1 1 0 0 1\n",
            " 0 0 0 0 1 0 1 1 1 1 1 1 1 1 1 0 1 1 1 1 0 0 0 0 1 0 0 1 1 0 1 1 0 0 0 1 0\n",
            " 1 0 0 1 1 1 0 1 1 1 1 1 1 0 1 1 1 0 0 0 1 0 1 1 0 0 0 0 1 0 0 0 1 1 0 0 0\n",
            " 0 0 0 0 0 1 1 0 0 0 0 1 1 1 0 0 1 1 0 1 1 1 1 1 1 0 1 1 1 1 1 0 1 0 1 1 1\n",
            " 0 1 1 1 1 0 0 1 0 1 1 1 0 1 1 0 0 1 0 0 1 0 1 0 1 0 1 0 1 1 1 1 1 1 0 1 0\n",
            " 1 1 0 1 1 1 1 1 0 0 0 0 1 1 1 0 1 0 1 1 1 0 1 1 0 1 0 1 0 1 1 0 1 1 0 1 1\n",
            " 0 0 0 0 0 0 0 1 0 1 0 1 1 1 1 1 0 1 0 0 0 1 0 0 0 1 0 0 1 0 1 0 0 0 1 0 0\n",
            " 0 1 0 0 1 1 0 0 0 1 0 1 0 1 0 1 1 0 0 1 1 0 0 0 0 0 1 1 1 1 0 1 1 1 1 1 1\n",
            " 1 1 0 1 1 0 0 0 1 0 0 0 0 0 1 0 0 0 1 1 0 1 0 1 0 0 1 0 1 1 1 1 1 1 0 1 1\n",
            " 0 1 1 0 0 0 0 1 0 0 0 0 1 0 0 1 1 1 1 0 0 0 1 1 1 1 1 0 1 0 0 1 1 1 1 1 0\n",
            " 0 1 0 0 1 0 0 1 0 1 0 0 1 0 1 0 1 1 0 1 0 1 0 1 1 0 0 1 0 1 1 1 0 1 1 0 1\n",
            " 0 1 0 1 0 0 1 1 1 0 0 1 0 1 0 0 0 0 0 1 0 1 0 1 1 1 1 1 0 1 0 0 0 1 0 0 0\n",
            " 1 0 1 1 1 1 1 0 1 1 1 1 0 0 1 0 0 1 0 0 0 1 1 0 0 0 1 1 0 1 0 0 0 0 0 0 1\n",
            " 0 0 1 1 1 1 1 1 0 0 0 1 0 1 0 0 0 1 0 0 1 1 1 0 1 0 0 0 1 0 0 1 0 1 1 1 0\n",
            " 1 1 0 0 0 0 0 0 0 0 1 1 1 1 0 1 0 0 1 0 1 0 0 0 1 1 0 1 1 0 0 0 0 0 0 0 0\n",
            " 1 0 0 1 1 1 1 0 1 1 1 0 1 1 0 1 1 1 1 1 1 0 0 0 0 0 0 0 0 0 0 0 1 0 0 1 0\n",
            " 1 1 0 0 1 0 0 1 0 0 0 1 1 1 1 1 0 0 1 0 0 0 1 0 0 1 0 1 1 1 1 1 0 0 1 1 1\n",
            " 1 0 1 0 0 1 0 0 1 0 1 0 0 0 0 0 1 1 0 1 1 0 1 1 0 1 1 0 1 1 1 1 0 0 1 0 1\n",
            " 0 1]\n"
          ],
          "name": "stdout"
        }
      ]
    },
    {
      "metadata": {
        "id": "sqlcGYWFRYS6",
        "colab_type": "code",
        "colab": {
          "autoexec": {
            "startup": false,
            "wait_interval": 0
          },
          "base_uri": "https://localhost:8080/",
          "height": 694
        },
        "outputId": "7c12d427-cacd-44ae-a1d1-c19763a6fc8c",
        "executionInfo": {
          "status": "ok",
          "timestamp": 1531371734690,
          "user_tz": -330,
          "elapsed": 1529,
          "user": {
            "displayName": "anupam behera",
            "photoUrl": "//lh4.googleusercontent.com/-nt7z4H6Xjm8/AAAAAAAAAAI/AAAAAAAAAC4/rGjoKFTe_MI/s50-c-k-no/photo.jpg",
            "userId": "100554187957869533306"
          }
        }
      },
      "cell_type": "code",
      "source": [
        "from keras.models import Sequential\n",
        "from keras.layers import Dense, Flatten, Conv2D, Dropout\n",
        "from keras.layers.normalization import BatchNormalization\n",
        "from keras.optimizers import adam\n",
        "#from keras.utils.data_utils import Sequence\n",
        "\n",
        "keras_model = model((height, width, 3))"
      ],
      "execution_count": 78,
      "outputs": [
        {
          "output_type": "stream",
          "text": [
            "_________________________________________________________________\n",
            "Layer (type)                 Output Shape              Param #   \n",
            "=================================================================\n",
            "batch_normalization_2 (Batch (None, 58, 58, 3)         12        \n",
            "_________________________________________________________________\n",
            "conv2d_5 (Conv2D)            (None, 27, 27, 24)        1824      \n",
            "_________________________________________________________________\n",
            "conv2d_6 (Conv2D)            (None, 12, 12, 36)        21636     \n",
            "_________________________________________________________________\n",
            "dropout_7 (Dropout)          (None, 12, 12, 36)        0         \n",
            "_________________________________________________________________\n",
            "conv2d_7 (Conv2D)            (None, 4, 4, 48)          43248     \n",
            "_________________________________________________________________\n",
            "dropout_8 (Dropout)          (None, 4, 4, 48)          0         \n",
            "_________________________________________________________________\n",
            "conv2d_8 (Conv2D)            (None, 2, 2, 64)          27712     \n",
            "_________________________________________________________________\n",
            "dropout_9 (Dropout)          (None, 2, 2, 64)          0         \n",
            "_________________________________________________________________\n",
            "flatten_2 (Flatten)          (None, 256)               0         \n",
            "_________________________________________________________________\n",
            "dropout_10 (Dropout)         (None, 256)               0         \n",
            "_________________________________________________________________\n",
            "dense_5 (Dense)              (None, 100)               25700     \n",
            "_________________________________________________________________\n",
            "dropout_11 (Dropout)         (None, 100)               0         \n",
            "_________________________________________________________________\n",
            "dense_6 (Dense)              (None, 50)                5050      \n",
            "_________________________________________________________________\n",
            "dropout_12 (Dropout)         (None, 50)                0         \n",
            "_________________________________________________________________\n",
            "dense_7 (Dense)              (None, 10)                510       \n",
            "_________________________________________________________________\n",
            "dense_8 (Dense)              (None, 1)                 11        \n",
            "=================================================================\n",
            "Total params: 125,703\n",
            "Trainable params: 125,697\n",
            "Non-trainable params: 6\n",
            "_________________________________________________________________\n"
          ],
          "name": "stdout"
        }
      ]
    },
    {
      "metadata": {
        "id": "dAuVfM5PRb0-",
        "colab_type": "code",
        "colab": {
          "autoexec": {
            "startup": false,
            "wait_interval": 0
          },
          "base_uri": "https://localhost:8080/",
          "height": 940
        },
        "outputId": "8a2260da-1985-40c4-b557-f4ae79447a80",
        "executionInfo": {
          "status": "ok",
          "timestamp": 1531371864917,
          "user_tz": -330,
          "elapsed": 62417,
          "user": {
            "displayName": "anupam behera",
            "photoUrl": "//lh4.googleusercontent.com/-nt7z4H6Xjm8/AAAAAAAAAAI/AAAAAAAAAC4/rGjoKFTe_MI/s50-c-k-no/photo.jpg",
            "userId": "100554187957869533306"
          }
        }
      },
      "cell_type": "code",
      "source": [
        "keras_model.fit(images, labels, epochs=25, batch_size=32, verbose=1, shuffle=True, validation_split=0.2)"
      ],
      "execution_count": 80,
      "outputs": [
        {
          "output_type": "stream",
          "text": [
            "Train on 741 samples, validate on 186 samples\n",
            "Epoch 1/25\n",
            "741/741 [==============================] - 2s 3ms/step - loss: 0.5527 - acc: 0.7706 - val_loss: 0.5958 - val_acc: 0.7527\n",
            "Epoch 2/25\n",
            "741/741 [==============================] - 3s 3ms/step - loss: 0.5404 - acc: 0.7895 - val_loss: 0.6065 - val_acc: 0.7204\n",
            "Epoch 3/25\n",
            "741/741 [==============================] - 3s 3ms/step - loss: 0.5200 - acc: 0.7949 - val_loss: 0.5292 - val_acc: 0.8118\n",
            "Epoch 4/25\n",
            "741/741 [==============================] - 2s 3ms/step - loss: 0.4958 - acc: 0.7989 - val_loss: 0.5587 - val_acc: 0.7366\n",
            "Epoch 5/25\n",
            "741/741 [==============================] - 2s 3ms/step - loss: 0.4807 - acc: 0.8232 - val_loss: 0.4821 - val_acc: 0.8495\n",
            "Epoch 6/25\n",
            "741/741 [==============================] - 2s 3ms/step - loss: 0.4996 - acc: 0.7895 - val_loss: 0.5644 - val_acc: 0.7688\n",
            "Epoch 7/25\n",
            "741/741 [==============================] - 2s 3ms/step - loss: 0.4602 - acc: 0.8016 - val_loss: 0.5695 - val_acc: 0.7473\n",
            "Epoch 8/25\n",
            "192/741 [======>.......................] - ETA: 1s - loss: 0.4459 - acc: 0.7812"
          ],
          "name": "stdout"
        },
        {
          "output_type": "stream",
          "text": [
            "741/741 [==============================] - 2s 3ms/step - loss: 0.4761 - acc: 0.7908 - val_loss: 0.5490 - val_acc: 0.7688\n",
            "Epoch 9/25\n",
            "741/741 [==============================] - 2s 3ms/step - loss: 0.4527 - acc: 0.8084 - val_loss: 0.5417 - val_acc: 0.7796\n",
            "Epoch 10/25\n",
            "741/741 [==============================] - 2s 3ms/step - loss: 0.4621 - acc: 0.8138 - val_loss: 0.5486 - val_acc: 0.7581\n",
            "Epoch 11/25\n",
            "741/741 [==============================] - 2s 3ms/step - loss: 0.4434 - acc: 0.8070 - val_loss: 0.5547 - val_acc: 0.7688\n",
            "Epoch 12/25\n",
            "741/741 [==============================] - 2s 3ms/step - loss: 0.4062 - acc: 0.8246 - val_loss: 0.5225 - val_acc: 0.7849\n",
            "Epoch 13/25\n",
            "741/741 [==============================] - 2s 3ms/step - loss: 0.3771 - acc: 0.8543 - val_loss: 0.5166 - val_acc: 0.7903\n",
            "Epoch 14/25\n",
            "741/741 [==============================] - 2s 3ms/step - loss: 0.4062 - acc: 0.8394 - val_loss: 0.5038 - val_acc: 0.7849\n",
            "Epoch 15/25\n",
            "608/741 [=======================>......] - ETA: 0s - loss: 0.4336 - acc: 0.8043"
          ],
          "name": "stdout"
        },
        {
          "output_type": "stream",
          "text": [
            "741/741 [==============================] - 2s 3ms/step - loss: 0.4163 - acc: 0.8178 - val_loss: 0.5796 - val_acc: 0.7688\n",
            "Epoch 16/25\n",
            "741/741 [==============================] - 2s 3ms/step - loss: 0.3799 - acc: 0.8664 - val_loss: 0.5237 - val_acc: 0.7957\n",
            "Epoch 17/25\n",
            "741/741 [==============================] - 2s 3ms/step - loss: 0.3456 - acc: 0.8529 - val_loss: 0.5350 - val_acc: 0.7957\n",
            "Epoch 18/25\n",
            "741/741 [==============================] - 2s 3ms/step - loss: 0.3353 - acc: 0.8745 - val_loss: 0.4484 - val_acc: 0.8656\n",
            "Epoch 19/25\n",
            "741/741 [==============================] - 2s 3ms/step - loss: 0.3432 - acc: 0.8623 - val_loss: 0.6084 - val_acc: 0.7581\n",
            "Epoch 20/25\n",
            "741/741 [==============================] - 2s 3ms/step - loss: 0.3529 - acc: 0.8529 - val_loss: 0.4616 - val_acc: 0.8387\n",
            "Epoch 21/25\n",
            "741/741 [==============================] - 2s 3ms/step - loss: 0.3120 - acc: 0.8691 - val_loss: 0.3416 - val_acc: 0.9301\n",
            "Epoch 22/25\n",
            "608/741 [=======================>......] - ETA: 0s - loss: 0.3325 - acc: 0.8750"
          ],
          "name": "stdout"
        },
        {
          "output_type": "stream",
          "text": [
            "741/741 [==============================] - 2s 3ms/step - loss: 0.3326 - acc: 0.8745 - val_loss: 0.5043 - val_acc: 0.8226\n",
            "Epoch 23/25\n",
            "741/741 [==============================] - 2s 3ms/step - loss: 0.2963 - acc: 0.8947 - val_loss: 0.3589 - val_acc: 0.8817\n",
            "Epoch 24/25\n",
            "741/741 [==============================] - 2s 3ms/step - loss: 0.2962 - acc: 0.8866 - val_loss: 0.4519 - val_acc: 0.8065\n",
            "Epoch 25/25\n",
            "741/741 [==============================] - 2s 3ms/step - loss: 0.3223 - acc: 0.8853 - val_loss: 0.4653 - val_acc: 0.8333\n"
          ],
          "name": "stdout"
        },
        {
          "output_type": "execute_result",
          "data": {
            "text/plain": [
              "<keras.callbacks.History at 0x7fa056128b38>"
            ]
          },
          "metadata": {
            "tags": []
          },
          "execution_count": 80
        }
      ]
    },
    {
      "metadata": {
        "id": "0hA2QvNNXtiR",
        "colab_type": "text"
      },
      "cell_type": "markdown",
      "source": [
        ""
      ]
    },
    {
      "metadata": {
        "id": "g3E6Gw91R3xv",
        "colab_type": "code",
        "colab": {
          "autoexec": {
            "startup": false,
            "wait_interval": 0
          }
        }
      },
      "cell_type": "code",
      "source": [
        "def  save_keras_model (save_model, path):\n",
        "    \"\"\"Save keras model to given path.\"\"\"\n",
        "    save_model.save_weights(path + 'model.h5')\n",
        "\n",
        "    with open(path + 'model.json', \"w\") as text_file:\n",
        "        text_file.write(save_model.to_json())\n",
        "\n",
        "    logging.info('Keras json model saved. %s', path + 'model.json')\n",
        "    logging.info('Keras h5 model saved. %s', path + 'model.h5')"
      ],
      "execution_count": 0,
      "outputs": []
    },
    {
      "metadata": {
        "id": "HBa7XHgqYbmX",
        "colab_type": "code",
        "colab": {
          "autoexec": {
            "startup": false,
            "wait_interval": 0
          }
        }
      },
      "cell_type": "code",
      "source": [
        "save_keras_model(keras_model, 'keras')"
      ],
      "execution_count": 0,
      "outputs": []
    },
    {
      "metadata": {
        "id": "-Y4QXI-4Yl8D",
        "colab_type": "code",
        "colab": {
          "autoexec": {
            "startup": false,
            "wait_interval": 0
          },
          "base_uri": "https://localhost:8080/",
          "height": 191
        },
        "outputId": "8dc1fe8b-024a-4331-c23c-f646493305de",
        "executionInfo": {
          "status": "ok",
          "timestamp": 1531371891838,
          "user_tz": -330,
          "elapsed": 2127,
          "user": {
            "displayName": "anupam behera",
            "photoUrl": "//lh4.googleusercontent.com/-nt7z4H6Xjm8/AAAAAAAAAAI/AAAAAAAAAC4/rGjoKFTe_MI/s50-c-k-no/photo.jpg",
            "userId": "100554187957869533306"
          }
        }
      },
      "cell_type": "code",
      "source": [
        "!ls"
      ],
      "execution_count": 83,
      "outputs": [
        {
          "output_type": "stream",
          "text": [
            "classifiers\t\t       Selection_109.jpg\r\n",
            "data\t\t\t       Selection_110.jpg\r\n",
            "Hello,_Colaboratory (1).ipynb  Selection_111.jpg\r\n",
            "Hello,_Colaboratory (2).ipynb  Selection_112.jpg\r\n",
            "helper.py\t\t       Selection_113.jpg\r\n",
            "kerasmodel.h5\t\t       test_image2.png\r\n",
            "kerasmodel.json\t\t       test_images\r\n",
            "__pycache__\t\t       tree_root_intrusion_detection.ipynb\r\n",
            "Selection_107.jpg\t       videos\r\n",
            "Selection_108.jpg\r\n"
          ],
          "name": "stdout"
        }
      ]
    },
    {
      "metadata": {
        "id": "b3yFtGNTaKPk",
        "colab_type": "text"
      },
      "cell_type": "markdown",
      "source": [
        "# New Section"
      ]
    },
    {
      "metadata": {
        "id": "A9H1mNpgaP-0",
        "colab_type": "code",
        "colab": {
          "autoexec": {
            "startup": false,
            "wait_interval": 0
          }
        }
      },
      "cell_type": "code",
      "source": [
        "from google.colab import files\n",
        "\n",
        "\n",
        "files.download('kerasmodel.h5')\n",
        "files.download('kerasmodel.json')\n"
      ],
      "execution_count": 0,
      "outputs": []
    },
    {
      "metadata": {
        "id": "Yf2bP-Oql3d_",
        "colab_type": "code",
        "colab": {
          "autoexec": {
            "startup": false,
            "wait_interval": 0
          }
        }
      },
      "cell_type": "code",
      "source": [
        "from keras.models import model_from_json\n",
        "model_path = 'kerasmodel'\n",
        "\n",
        "inf_model = model_from_json(open(model_path + '.json','r').read())\n",
        "inf_model.load_weights(model_path + '.h5')"
      ],
      "execution_count": 0,
      "outputs": []
    },
    {
      "metadata": {
        "id": "yRRItYYQameM",
        "colab_type": "code",
        "colab": {
          "autoexec": {
            "startup": false,
            "wait_interval": 0
          }
        }
      },
      "cell_type": "code",
      "source": [
        "def find_roots(img, ystart, ystop, scale, pix_per_cell,cell_per_block):#, svc, X_scaler, orient, pix_per_cell, cell_per_block,color_space,spatial_size, hist_bins):\n",
        "    \n",
        "    boxes=[]\n",
        "  \n",
        "    draw_img = np.copy(img)\n",
        "#     img = img.astype(np.float32)/255\n",
        "    \n",
        "    img_tosearch = img[ystart:ystop,:,:]\n",
        "#     ctrans_tosearch = hp.convert_color(img_tosearch, conv=color_space)\n",
        "    ctrans_tosearch = img_tosearch\n",
        "    if scale != 1:\n",
        "        imshape = ctrans_tosearch.shape\n",
        "        ctrans_tosearch = cv2.resize(ctrans_tosearch, (np.int(imshape[1]/scale), np.int(imshape[0]/scale)))\n",
        "        \n",
        "    ch1 = ctrans_tosearch[:,:,0]\n",
        "    ch2 = ctrans_tosearch[:,:,1]\n",
        "    ch3 = ctrans_tosearch[:,:,2]\n",
        "\n",
        "    # Define blocks and steps as above\n",
        "    nxblocks = (ch1.shape[1] // pix_per_cell) - cell_per_block + 1\n",
        "    nyblocks = (ch1.shape[0] // pix_per_cell) - cell_per_block + 1 \n",
        "#     nfeat_per_block = orient*cell_per_block**2\n",
        "    \n",
        "    # 64 was the orginal sampling rate, with 8 cells and 8 pix per cell\n",
        "    window = 64\n",
        "    nblocks_per_window = (window // pix_per_cell) - cell_per_block + 1\n",
        "    cells_per_step = 2  # Instead of overlap, define how many cells to step\n",
        "    nxsteps = (nxblocks - nblocks_per_window) // cells_per_step + 1\n",
        "    nysteps = (nyblocks - nblocks_per_window) // cells_per_step + 1\n",
        "    print(nxsteps)\n",
        "    \n",
        "#     # Compute individual channel HOG features for the entire image\n",
        "#     hog1 = get_hog_features(ch1, orient, pix_per_cell, cell_per_block, feature_vec=False)\n",
        "#     hog2 = get_hog_features(ch2, orient, pix_per_cell, cell_per_block, feature_vec=False)\n",
        "#     hog3 = get_hog_features(ch3, orient, pix_per_cell, cell_per_block, feature_vec=False)\n",
        "    \n",
        "    for xb in range(nxsteps):\n",
        "        for yb in range(nysteps):\n",
        "            ypos = yb*cells_per_step\n",
        "            xpos = xb*cells_per_step\n",
        "            # Extract HOG for this patch\n",
        "#             hog_feat1 = hog1[ypos:ypos+nblocks_per_window, xpos:xpos+nblocks_per_window].ravel() \n",
        "#             hog_feat2 = hog2[ypos:ypos+nblocks_per_window, xpos:xpos+nblocks_per_window].ravel() \n",
        "#             hog_feat3 = hog3[ypos:ypos+nblocks_per_window, xpos:xpos+nblocks_per_window].ravel() \n",
        "           \n",
        "#             hog_features = np.hstack((hog_feat1, hog_feat2, hog_feat3))\n",
        "            xleft = xpos*pix_per_cell\n",
        "            ytop = ypos*pix_per_cell\n",
        "\n",
        "            # Extract the image patch\n",
        "            subimg = cv2.resize(ctrans_tosearch[ytop:ytop+window, xleft:xleft+window], (58,58))\n",
        "#             plt.imshow(subimg)\n",
        "#             plt.show\n",
        "            # Get color features\n",
        "#             spatial_features = hp.bin_spatial(subimg, size=spatial_size)\n",
        "#             hist_features = hp.color_hist(subimg, nbins=hist_bins)\n",
        "\n",
        "            # Scale features and make a prediction\n",
        "#             test_features = X_scaler.transform(np.hstack((spatial_features, hog_features)).reshape(1, -1))    \n",
        "            #test_features = X_scaler.transform(np.hstack((shape_feat, hist_feat)).reshape(1, -1))    \n",
        "#             test_features = X_scaler.transform(np.hstack((hog_features)).reshape(1, -1))  \n",
        "            test_prediction = round(inf_model.predict(np.expand_dims(subimg, 0))[0, 0])\n",
        "#             print(test_prediction)\n",
        "#             test_prediction = svc.predict(test_features)\n",
        "            \n",
        "            if test_prediction == 1.0:\n",
        "                xbox_left = np.int(xleft*scale)\n",
        "                ytop_draw = np.int(ytop*scale)\n",
        "                win_draw = np.int(window*scale)\n",
        "                boxes.append(((xbox_left, ytop_draw+ystart),(xbox_left+win_draw,ytop_draw+win_draw+ystart)))\n",
        "                #boxes.append(((xbox_left, ytop_draw+ystart),(xbox_left+win_draw,ytop_draw+win_draw+ystart))#,(0,0,255),6)) \n",
        "                #cv2.rectangle(draw_img,(xbox_left, ytop_draw+ystart),(xbox_left+win_draw,ytop_draw+win_draw+ystart),(0,0,255),6) \n",
        "                \n",
        "    return boxes"
      ],
      "execution_count": 0,
      "outputs": []
    },
    {
      "metadata": {
        "id": "I17VmESzlgFZ",
        "colab_type": "code",
        "colab": {
          "autoexec": {
            "startup": false,
            "wait_interval": 0
          }
        }
      },
      "cell_type": "code",
      "source": [
        "def draw_boxes(img, bboxes, color=(0, 0, 255), thick=6):\n",
        "    # make a copy of the image\n",
        "    draw_img = np.copy(img)\n",
        "    # draw each bounding box on your image copy using cv2.rectangle()\n",
        "    # return the image copy with boxes drawn\n",
        "    for box in bboxes:\n",
        "        cv2.rectangle(draw_img,box[0],box[1],color,thick)\n",
        "    \n",
        "    return draw_img # Change this line to return image copy with boxes"
      ],
      "execution_count": 0,
      "outputs": []
    },
    {
      "metadata": {
        "id": "B-xzLiRQljXt",
        "colab_type": "code",
        "colab": {
          "autoexec": {
            "startup": false,
            "wait_interval": 0
          },
          "base_uri": "https://localhost:8080/",
          "height": 385
        },
        "outputId": "4e2875e7-6820-4b6f-8156-0fea4a6e2a29",
        "executionInfo": {
          "status": "ok",
          "timestamp": 1531372793927,
          "user_tz": -330,
          "elapsed": 1745,
          "user": {
            "displayName": "anupam behera",
            "photoUrl": "//lh4.googleusercontent.com/-nt7z4H6Xjm8/AAAAAAAAAAI/AAAAAAAAAC4/rGjoKFTe_MI/s50-c-k-no/photo.jpg",
            "userId": "100554187957869533306"
          }
        }
      },
      "cell_type": "code",
      "source": [
        "import matplotlib.pyplot as plt\n",
        "ystart = 30\n",
        "ystop = 270\n",
        "scale = 3\n",
        "pix_per_cell=8\n",
        "cell_per_block=2\n",
        "test_images=glob.glob('test_images/*.JPG')\n",
        "\n",
        "for fname in test_images:\n",
        "    print(fname)\n",
        "    test_img=mpimg.imread(fname)\n",
        "    #plt.subplot(6,1,i)\n",
        "    boxes=find_roots(test_img, ystart, ystop, scale, pix_per_cell,cell_per_block ) #, clf, X_scaler, orient, pix_per_cell, cell_per_block,color_space,spatial_size, hist_bins)\n",
        "    #print(boxes[0][0])\n",
        "    test_out_img=draw_boxes(test_img,boxes)\n",
        "    plt.imshow(\n",
        "    )\n",
        "    plt.show()"
      ],
      "execution_count": 116,
      "outputs": [
        {
          "output_type": "stream",
          "text": [
            "test_images/treeroot.JPG\n",
            "5\n"
          ],
          "name": "stdout"
        },
        {
          "output_type": "display_data",
          "data": {
            "image/png": "[encoded data removed]",
            "text/plain": [
              "<matplotlib.figure.Figure at 0x7fa055a49390>"
            ]
          },
          "metadata": {
            "tags": []
          }
        }
      ]
    },
    {
      "metadata": {
        "id": "UuNwTLSqlqIm",
        "colab_type": "code",
        "colab": {
          "autoexec": {
            "startup": false,
            "wait_interval": 0
          },
          "base_uri": "https://localhost:8080/",
          "height": 590
        },
        "outputId": "790e3af8-63d8-4383-c2bf-4de3f68b7cb2",
        "executionInfo": {
          "status": "ok",
          "timestamp": 1531364300849,
          "user_tz": -330,
          "elapsed": 2096,
          "user": {
            "displayName": "anupam behera",
            "photoUrl": "//lh4.googleusercontent.com/-nt7z4H6Xjm8/AAAAAAAAAAI/AAAAAAAAAC4/rGjoKFTe_MI/s50-c-k-no/photo.jpg",
            "userId": "100554187957869533306"
          }
        }
      },
      "cell_type": "code",
      "source": [
        "!ls\n",
        "print(labels)"
      ],
      "execution_count": 43,
      "outputs": [
        {
          "output_type": "stream",
          "text": [
            "classifiers\t\t       Selection_109.jpg\r\n",
            "data\t\t\t       Selection_110.jpg\r\n",
            "Hello,_Colaboratory (1).ipynb  Selection_111.jpg\r\n",
            "Hello,_Colaboratory (2).ipynb  Selection_112.jpg\r\n",
            "helper.py\t\t       Selection_113.jpg\r\n",
            "kerasmodel.h5\t\t       test_image2.png\r\n",
            "kerasmodel.json\t\t       test_images\r\n",
            "__pycache__\t\t       tree_root_intrusion_detection.ipynb\r\n",
            "Selection_107.jpg\t       videos\r\n",
            "Selection_108.jpg\r\n",
            "[1 0 1 1 1 1 0 1 1 1 0 1 1 1 1 1 0 1 1 0 1 1 0 1 1 0 0 0 0 0 1 1 0 0 0 0 0\n",
            " 0 0 0 0 1 1 1 1 1 0 0 1 1 1 1 0 0 1 1 0 1 1 1 1 1 1 1 1 0 0 0 0 1 0 0 1 1\n",
            " 0 0 0 0 1 0 1 1 1 1 0 1 0 1 1 1 1 1 1 1 0 0 1 0 0 0 0 0 0 0 1 0 1 0 0 1 1\n",
            " 1 1 0 0 0 0 1 0 1 1 0 0 0 0 1 0 1 0 1 1 1 1 1 0 1 1 1 1 1 0 0 0 0 0 0 1 1\n",
            " 0 0 1 0 0 0 0 0 1 0 0 1 0 1 1 1 0 0 0 0 0 0 0 0 1 0 0 0 0 1 1 0 1 0 0 0 0\n",
            " 0 0 1 1 1 0 0 1 1 0 1 0 1 1 0 1 1 0 1 1 0 1 0 0 1 0 0 0 1 1 1 1 1 0 0 0 1\n",
            " 0 0 0 1 0 1 1 0 0 1 0 0 1 0 0 1 1 0 1 1 1 1 0 0 0 1 0 0 1 0 1 1 1 0 0 0 0\n",
            " 0 1 1 0 0 1 1 1 0 1 1 0 1 1 1 1 0 0 0 1 0 1 0 1 0 0 1 0 0 1 1 1 0 0 1 1 0\n",
            " 0 1 1 1 0 0 0 1 0 1 1 0 0 0 0 1 0 0 0 0 0 1 1 0 0 0 0 0 0 0 0 1 1 0 0 1 0\n",
            " 0 1 0 0 0 0 0 0 0 0 0 1 0 1 0 1 0 0 0 0 0 0 0 0 0 0 0 0 0 0 0 1 0 0 0 1 1\n",
            " 0 1 1 0 0 0 1 1 0 0 1 0 1 1 1 1 1 1 0 1 0 0 1 1 0 0 1 0 1 0 0 1 0 0 1 0 1\n",
            " 1 0 1 1 1 1 1 0 0 1 1 0 1 1 1 0 0 1 1 1 0 1 1 0 1 1 0 0 0 1 0 0 0 0 0 0 0\n",
            " 0 1 1 1 1 1 0 0 1 1 1 0 1 0 0 1 1 0 1 0 0 1 0 1 1 0 1 0 1 1 1 0 1 1 1 1 0\n",
            " 0 1 1 0 1 0 0 1 0 0 1 1 0 0 0 0 0 1 1 1 1 1 0 0 0 0 0 1 1 0 1 1 0 1 1 0 0\n",
            " 1 0 1 0 0 0 0 1 0 0 1 1 1 1 0 1 1 0 1 1 1 0 0 1 0 0 0 0 1 0 0 0 0 0 0 1 0\n",
            " 0 1 0 1 1 1 1 0 0 1 1 1 0 0 1 0 1 0 0 1 1 0 1 0 1 0 0 0 0 0 1 1 1 1 0 1 1\n",
            " 1 0 0 0 0 0 0 1 1 1 1 0 1 0 0 1 0 1 0 1 1 1 1 1 1 1 1 1 1 0 0 0 0 0 1 1 1\n",
            " 1 0 1 1 0 0 0 1 1 1 1 0 0 1 1 1 0 0 0 0 0 1 1 1 1 0 0 0 1 1 1 1 1 0 0 1 1\n",
            " 0 0 0 1 1 0 1 1 0 1 0 0 0 1 1 0 1 1 1 0 1 0 1 1 1 1 1 1 1 1 0 0 1 0 0 0 0\n",
            " 1 1 1 1 0 1 1 0 1 1 1 0 0 1 1 0 1 1 1 1 0 0 1 1 1 1 0 0 0 0 0 0 0 1 0 0 1\n",
            " 1 1 1 1 0 1 0 0 1 1 0 0 0 1 1 0 1 1 1 1 1 0 1 1 0 1 0 0 0 1 1 0 0 1 0 1 1\n",
            " 1 1 1 1 0 0 0 1 1 1 1 0 1 1 0 1 0 0 0 0 1 0 1 0 1 1 1 1 0 1 0 0 1 0 1 1 1\n",
            " 1 1 0 0 0 0 0 0 1 0]\n"
          ],
          "name": "stdout"
        }
      ]
    },
    {
      "metadata": {
        "id": "-utT7xAAZGGL",
        "colab_type": "code",
        "colab": {
          "autoexec": {
            "startup": false,
            "wait_interval": 0
          },
          "base_uri": "https://localhost:8080/",
          "height": 366
        },
        "outputId": "9cbc6f42-99bb-4eb1-8f09-2a081e10eb41",
        "executionInfo": {
          "status": "ok",
          "timestamp": 1531372404410,
          "user_tz": -330,
          "elapsed": 1317,
          "user": {
            "displayName": "anupam behera",
            "photoUrl": "//lh4.googleusercontent.com/-nt7z4H6Xjm8/AAAAAAAAAAI/AAAAAAAAAC4/rGjoKFTe_MI/s50-c-k-no/photo.jpg",
            "userId": "100554187957869533306"
          }
        }
      },
      "cell_type": "code",
      "source": [
        "plt.imshow(mpimg.imread( \"data/non_tree/1.JPG\"))"
      ],
      "execution_count": 102,
      "outputs": [
        {
          "output_type": "execute_result",
          "data": {
            "text/plain": [
              "<matplotlib.image.AxesImage at 0x7fa055c71d68>"
            ]
          },
          "metadata": {
            "tags": []
          },
          "execution_count": 102
        },
        {
          "output_type": "display_data",
          "data": {
            "image/png": "[encoded data removed]",
            "text/plain": [
              "<matplotlib.figure.Figure at 0x7fa055a1f828>"
            ]
          },
          "metadata": {
            "tags": []
          }
        }
      ]
    },
    {
      "metadata": {
        "id": "HA55Mrm3mtmz",
        "colab_type": "code",
        "colab": {
          "autoexec": {
            "startup": false,
            "wait_interval": 0
          },
          "base_uri": "https://localhost:8080/",
          "height": 34
        },
        "outputId": "2b67154b-5d39-4ad4-a822-273d36b27089",
        "executionInfo": {
          "status": "ok",
          "timestamp": 1531372464636,
          "user_tz": -330,
          "elapsed": 950,
          "user": {
            "displayName": "anupam behera",
            "photoUrl": "//lh4.googleusercontent.com/-nt7z4H6Xjm8/AAAAAAAAAAI/AAAAAAAAAC4/rGjoKFTe_MI/s50-c-k-no/photo.jpg",
            "userId": "100554187957869533306"
          }
        }
      },
      "cell_type": "code",
      "source": [
        "im = mpimg.imread( \"data/non_tree/1.JPG\")\n",
        "im = cv2.resize(im,(58,58))\n",
        "print( round(inf_model.predict(np.expand_dims(im, 0))[0, 0]))"
      ],
      "execution_count": 104,
      "outputs": [
        {
          "output_type": "stream",
          "text": [
            "0.0\n"
          ],
          "name": "stdout"
        }
      ]
    },
    {
      "metadata": {
        "id": "af3PNA-KafWG",
        "colab_type": "code",
        "colab": {
          "autoexec": {
            "startup": false,
            "wait_interval": 0
          },
          "base_uri": "https://localhost:8080/",
          "height": 191
        },
        "outputId": "adcc7367-cbde-4f7a-967f-98ac86a48f1b",
        "executionInfo": {
          "status": "ok",
          "timestamp": 1531372374239,
          "user_tz": -330,
          "elapsed": 3567,
          "user": {
            "displayName": "anupam behera",
            "photoUrl": "//lh4.googleusercontent.com/-nt7z4H6Xjm8/AAAAAAAAAAI/AAAAAAAAAC4/rGjoKFTe_MI/s50-c-k-no/photo.jpg",
            "userId": "100554187957869533306"
          }
        }
      },
      "cell_type": "code",
      "source": [
        "!ls"
      ],
      "execution_count": 100,
      "outputs": [
        {
          "output_type": "stream",
          "text": [
            "classifiers\t\t       Selection_109.jpg\r\n",
            "data\t\t\t       Selection_110.jpg\r\n",
            "Hello,_Colaboratory (1).ipynb  Selection_111.jpg\r\n",
            "Hello,_Colaboratory (2).ipynb  Selection_112.jpg\r\n",
            "helper.py\t\t       Selection_113.jpg\r\n",
            "kerasmodel.h5\t\t       test_image2.png\r\n",
            "kerasmodel.json\t\t       test_images\r\n",
            "__pycache__\t\t       tree_root_intrusion_detection.ipynb\r\n",
            "Selection_107.jpg\t       videos\r\n",
            "Selection_108.jpg\r\n"
          ],
          "name": "stdout"
        }
      ]
    },
    {
      "metadata": {
        "id": "TVhznsd95_oZ",
        "colab_type": "code",
        "colab": {
          "autoexec": {
            "startup": false,
            "wait_interval": 0
          }
        }
      },
      "cell_type": "code",
      "source": [
        "#print(scales,ystarts)\n",
        "\n",
        "def process_frame(image):\n",
        "    boxes=[]\n",
        "    for i in range(len(scales)):\n",
        "        boxes.append(find_roots(test_img, ystart, ystop, scale, pix_per_cell,cell_per_block )) #find_roots(image, ystart, ystop, scale, svc, X_scaler, orient, pix_per_cell, cell_per_block,color_space,spatial_size, hist_bins))\n",
        "    \n",
        "    boxes = [item for sublist in boxes for item in sublist] \n",
        "#     heatmap_img = np.zeros_like(image[:,:,0])\n",
        "#     heatmap_img = add_heat(heatmap_img, boxes)\n",
        "    \n",
        "#     heat_history.append(heatmap_img)\n",
        "#     heatmap_img = np.array(heat_history).sum(axis=0)\n",
        "#     heatmap_img = apply_threshold(heatmap_img,5)\n",
        "    \n",
        "#     # # Find final boxes from heatmap using label function\n",
        "#     labels = label(heatmap_img)\n",
        "#     draw_img = draw_labeled_bboxes(np.copy(image), labels)\n",
        "    draw_img = draw_boxes(image,boxes)\n",
        "    \n",
        "    return draw_img\n"
      ],
      "execution_count": 0,
      "outputs": []
    },
    {
      "metadata": {
        "id": "5D6O2jqW-G7e",
        "colab_type": "code",
        "colab": {
          "autoexec": {
            "startup": false,
            "wait_interval": 0
          }
        }
      },
      "cell_type": "code",
      "source": [
        ""
      ],
      "execution_count": 0,
      "outputs": []
    },
    {
      "metadata": {
        "id": "TLfiSmYa96ao",
        "colab_type": "code",
        "colab": {
          "autoexec": {
            "startup": false,
            "wait_interval": 0
          }
        }
      },
      "cell_type": "code",
      "source": [
        "from moviepy.editor import VideoFileClip\n",
        "\n",
        "output_location = 'test_output_video/yuv_11_8_debug_full_without_ystart.mp4'\n",
        "## To speed up the testing process you may want to try your pipeline on a shorter subclip of the video\n",
        "## To do so add .subclip(start_second,end_second) to the end of the line below\n",
        "## Where start_second and end_second are integer values representing the start and end of the subclip\n",
        "## You may also uncomment the following line for a subclip of the first 5 seconds\n",
        "##clip1 = VideoFileClip(\"test_videos/solidWhiteRight.mp4\").subclip(0,5)\n",
        "video_input = VideoFileClip(\"project_video.mp4\")#.subclip(40,43)\n",
        "\n",
        "video_output = video_input.fl_image(process_frame) #NOTE: this function expects color images!!\n",
        "\n",
        "#%time undist_clip.write_videofile(undist_output, audio=False)\n",
        "print(\"anupam\")\n",
        "video_output.write_videofile(output_location, audio=False)\n",
        "video_input.reader.close()\n",
        "video_input.audio.reader.close_proc()\n",
        "video_output.reader.close()\n",
        "video_output.audio.reader.close_proc()"
      ],
      "execution_count": 0,
      "outputs": []
    }
  ]
}