{
  "nbformat": 4,
  "nbformat_minor": 0,
  "metadata": {
    "colab": {
      "name": "heatmap added.ipynb",
      "version": "0.3.2",
      "views": {},
      "default_view": {},
      "provenance": [],
      "collapsed_sections": [],
      "toc_visible": true
    },
    "kernelspec": {
      "display_name": "Python 3",
      "name": "python3"
    }
  },
  "cells": [
    {
      "metadata": {
        "id": "ab9JnijZMV3O",
        "colab_type": "code",
        "colab": {
          "autoexec": {
            "startup": false,
            "wait_interval": 0
          },
          "base_uri": "https://localhost:8080/",
          "height": 121
        },
        "outputId": "388fbfff-da79-443e-a2b8-5d4b22c93121",
        "executionInfo": {
          "status": "ok",
          "timestamp": 1531474713515,
          "user_tz": -330,
          "elapsed": 17307,
          "user": {
            "displayName": "anupam behera",
            "photoUrl": "//lh4.googleusercontent.com/-nt7z4H6Xjm8/AAAAAAAAAAI/AAAAAAAAAC4/rGjoKFTe_MI/s50-c-k-no/photo.jpg",
            "userId": "100554187957869533306"
          }
        }
      },
      "cell_type": "code",
      "source": [
        "!git clone https://github.com/anupamhap/mb.git"
      ],
      "execution_count": 6,
      "outputs": [
        {
          "output_type": "stream",
          "text": [
            "Cloning into 'mb'...\n",
            "remote: Counting objects: 354, done.\u001b[K\n",
            "remote: Compressing objects: 100% (27/27), done.\u001b[K\n",
            "remote: Total 354 (delta 4), reused 26 (delta 3), pack-reused 324\u001b[K\n",
            "Receiving objects: 100% (354/354), 60.61 MiB | 53.09 MiB/s, done.\n",
            "Resolving deltas: 100% (137/137), done.\n"
          ],
          "name": "stdout"
        }
      ]
    },
    {
      "metadata": {
        "id": "zLeI0uuCM6y5",
        "colab_type": "code",
        "colab": {
          "autoexec": {
            "startup": false,
            "wait_interval": 0
          },
          "base_uri": "https://localhost:8080/",
          "height": 34
        },
        "outputId": "b342f6c0-e32e-4f24-8cfa-ae8b4420e890",
        "executionInfo": {
          "status": "ok",
          "timestamp": 1531474654725,
          "user_tz": -330,
          "elapsed": 2236,
          "user": {
            "displayName": "anupam behera",
            "photoUrl": "//lh4.googleusercontent.com/-nt7z4H6Xjm8/AAAAAAAAAAI/AAAAAAAAAC4/rGjoKFTe_MI/s50-c-k-no/photo.jpg",
            "userId": "100554187957869533306"
          }
        }
      },
      "cell_type": "code",
      "source": [
        "!pwd"
      ],
      "execution_count": 4,
      "outputs": [
        {
          "output_type": "stream",
          "text": [
            "/content\r\n"
          ],
          "name": "stdout"
        }
      ]
    },
    {
      "metadata": {
        "id": "6cYGgHtRAM-5",
        "colab_type": "code",
        "colab": {
          "autoexec": {
            "startup": false,
            "wait_interval": 0
          },
          "base_uri": "https://localhost:8080/",
          "height": 34
        },
        "outputId": "1995ce26-84b7-4065-84a5-d6371eb354db",
        "executionInfo": {
          "status": "ok",
          "timestamp": 1531474668149,
          "user_tz": -330,
          "elapsed": 2928,
          "user": {
            "displayName": "anupam behera",
            "photoUrl": "//lh4.googleusercontent.com/-nt7z4H6Xjm8/AAAAAAAAAAI/AAAAAAAAAC4/rGjoKFTe_MI/s50-c-k-no/photo.jpg",
            "userId": "100554187957869533306"
          }
        }
      },
      "cell_type": "code",
      "source": [
        "!ls"
      ],
      "execution_count": 5,
      "outputs": [
        {
          "output_type": "stream",
          "text": [
            "datalab\r\n"
          ],
          "name": "stdout"
        }
      ]
    },
    {
      "metadata": {
        "id": "Tde9EpwqNse-",
        "colab_type": "code",
        "colab": {
          "autoexec": {
            "startup": false,
            "wait_interval": 0
          }
        }
      },
      "cell_type": "code",
      "source": [
        "import os\n",
        "os.chdir(\"mb/Tree_Root_Detection\")"
      ],
      "execution_count": 0,
      "outputs": []
    },
    {
      "metadata": {
        "id": "Js9yzZEQN7H7",
        "colab_type": "code",
        "colab": {
          "autoexec": {
            "startup": false,
            "wait_interval": 0
          },
          "base_uri": "https://localhost:8080/",
          "height": 34
        },
        "outputId": "9acbb4e5-dcf4-42b0-8f66-68f97ef9cc41",
        "executionInfo": {
          "status": "ok",
          "timestamp": 1531456401538,
          "user_tz": -330,
          "elapsed": 2009,
          "user": {
            "displayName": "anupam behera",
            "photoUrl": "//lh4.googleusercontent.com/-nt7z4H6Xjm8/AAAAAAAAAAI/AAAAAAAAAC4/rGjoKFTe_MI/s50-c-k-no/photo.jpg",
            "userId": "100554187957869533306"
          }
        }
      },
      "cell_type": "code",
      "source": [
        "!ls"
      ],
      "execution_count": 2,
      "outputs": [
        {
          "output_type": "stream",
          "text": [
            "datalab  mb\r\n"
          ],
          "name": "stdout"
        }
      ]
    },
    {
      "metadata": {
        "id": "_kwW0eTmOCrv",
        "colab_type": "code",
        "colab": {
          "autoexec": {
            "startup": false,
            "wait_interval": 0
          }
        }
      },
      "cell_type": "code",
      "source": [
        "import csv\n",
        "import matplotlib.image as mpimg\n",
        "import cv2\n",
        "import numpy as np\n",
        "import os\n",
        "import logging\n",
        "import glob"
      ],
      "execution_count": 0,
      "outputs": []
    },
    {
      "metadata": {
        "id": "KZdoJrWpOXk1",
        "colab_type": "code",
        "colab": {
          "autoexec": {
            "startup": false,
            "wait_interval": 0
          },
          "base_uri": "https://localhost:8080/",
          "height": 34
        },
        "outputId": "150683ff-ac01-4c15-960d-a3a9903e3691",
        "executionInfo": {
          "status": "ok",
          "timestamp": 1531474783884,
          "user_tz": -330,
          "elapsed": 3098,
          "user": {
            "displayName": "anupam behera",
            "photoUrl": "//lh4.googleusercontent.com/-nt7z4H6Xjm8/AAAAAAAAAAI/AAAAAAAAAC4/rGjoKFTe_MI/s50-c-k-no/photo.jpg",
            "userId": "100554187957869533306"
          }
        }
      },
      "cell_type": "code",
      "source": [
        "from keras.models import Sequential\n",
        "from keras.layers import Flatten, Dense, Lambda, Dropout, Activation, Cropping2D\n",
        "from keras.layers.convolutional import Convolution2D\n",
        "from keras.layers.pooling import MaxPooling2D\n",
        "from sklearn.model_selection import train_test_split\n",
        "import sklearn"
      ],
      "execution_count": 9,
      "outputs": [
        {
          "output_type": "stream",
          "text": [
            "Using TensorFlow backend.\n"
          ],
          "name": "stderr"
        }
      ]
    },
    {
      "metadata": {
        "id": "UIPgIYrkOaPq",
        "colab_type": "code",
        "colab": {
          "autoexec": {
            "startup": false,
            "wait_interval": 0
          },
          "base_uri": "https://localhost:8080/",
          "height": 416
        },
        "outputId": "bea77366-10c1-4fe3-9f1f-1b20c73b34a2",
        "executionInfo": {
          "status": "ok",
          "timestamp": 1531457123317,
          "user_tz": -330,
          "elapsed": 2609,
          "user": {
            "displayName": "anupam behera",
            "photoUrl": "//lh4.googleusercontent.com/-nt7z4H6Xjm8/AAAAAAAAAAI/AAAAAAAAAC4/rGjoKFTe_MI/s50-c-k-no/photo.jpg",
            "userId": "100554187957869533306"
          }
        }
      },
      "cell_type": "code",
      "source": [
        "!git pull"
      ],
      "execution_count": 34,
      "outputs": [
        {
          "output_type": "stream",
          "text": [
            "remote: Counting objects: 7, done.\u001b[K\r\n",
            "remote: Compressing objects:  50% (1/2)   \u001b[K\rremote: Compressing objects: 100% (2/2)   \u001b[K\rremote: Compressing objects: 100% (2/2), done.\u001b[K\r\n",
            "remote: Total 7 (delta 5), reused 7 (delta 5), pack-reused 0\u001b[K\r\n",
            "Unpacking objects:  14% (1/7)   \rUnpacking objects:  28% (2/7)   \rUnpacking objects:  42% (3/7)   \rUnpacking objects:  57% (4/7)   \rUnpacking objects:  71% (5/7)   \rUnpacking objects:  85% (6/7)   \rUnpacking objects: 100% (7/7)   \rUnpacking objects: 100% (7/7), done.\r\n",
            "From https://github.com/anupamhap/mb\r\n",
            "   640f78f..fffc420  master     -> origin/master\n",
            "Updating 640f78f..fffc420\n",
            "Fast-forward\n",
            " .../data/{non_tree => non}/Selection_126.jpg            | Bin\n",
            " .../data/{non_tree => non}/Selection_127.jpg            | Bin\n",
            " Tree_Root_Detection/data/non_tree/16.JPG                | Bin \u001b[31m12154\u001b[m -> \u001b[32m0\u001b[m bytes\n",
            " Tree_Root_Detection/data/non_tree/17.JPG                | Bin \u001b[31m14571\u001b[m -> \u001b[32m0\u001b[m bytes\n",
            " Tree_Root_Detection/data/non_tree/18.JPG                | Bin \u001b[31m12480\u001b[m -> \u001b[32m0\u001b[m bytes\n",
            " Tree_Root_Detection/data/non_tree/19.JPG                | Bin \u001b[31m15856\u001b[m -> \u001b[32m0\u001b[m bytes\n",
            " .../test_images/{Selection_114.jpg => text.jpg}         | Bin\n",
            " 7 files changed, 0 insertions(+), 0 deletions(-)\n",
            " rename Tree_Root_Detection/data/{non_tree => non}/Selection_126.jpg (100%)\n",
            " rename Tree_Root_Detection/data/{non_tree => non}/Selection_127.jpg (100%)\n",
            " delete mode 100644 Tree_Root_Detection/data/non_tree/16.JPG\n",
            " delete mode 100644 Tree_Root_Detection/data/non_tree/17.JPG\n",
            " delete mode 100644 Tree_Root_Detection/data/non_tree/18.JPG\n",
            " delete mode 100644 Tree_Root_Detection/data/non_tree/19.JPG\n",
            " rename Tree_Root_Detection/test_images/{Selection_114.jpg => text.jpg} (100%)\n"
          ],
          "name": "stdout"
        }
      ]
    },
    {
      "metadata": {
        "id": "_qI3POGKPQQh",
        "colab_type": "code",
        "colab": {
          "autoexec": {
            "startup": false,
            "wait_interval": 0
          }
        }
      },
      "cell_type": "code",
      "source": [
        "width = 58\n",
        "height = 58\n",
        "\n",
        "#images = []"
      ],
      "execution_count": 0,
      "outputs": []
    },
    {
      "metadata": {
        "id": "_9gdSeYyPGwy",
        "colab_type": "code",
        "colab": {
          "autoexec": {
            "startup": false,
            "wait_interval": 0
          },
          "base_uri": "https://localhost:8080/",
          "height": 34
        },
        "outputId": "3d76f819-cee3-490a-bfc8-1de148421f38",
        "executionInfo": {
          "status": "ok",
          "timestamp": 1531474797222,
          "user_tz": -330,
          "elapsed": 866,
          "user": {
            "displayName": "anupam behera",
            "photoUrl": "//lh4.googleusercontent.com/-nt7z4H6Xjm8/AAAAAAAAAAI/AAAAAAAAAC4/rGjoKFTe_MI/s50-c-k-no/photo.jpg",
            "userId": "100554187957869533306"
          }
        }
      },
      "cell_type": "code",
      "source": [
        "roots   = glob.glob('data/tree/*.JPG') \n",
        "roots += glob.glob('data/tree/*.jpg')\n",
        "non_roots   = glob.glob('data/non_tree/*.JPG')\n",
        "non_roots   += glob.glob('data/non_tree/*.jpg')\n",
        "print(len(roots), len(non_roots))"
      ],
      "execution_count": 11,
      "outputs": [
        {
          "output_type": "stream",
          "text": [
            "59 60\n"
          ],
          "name": "stdout"
        }
      ]
    },
    {
      "metadata": {
        "id": "mSTthRlVPhKn",
        "colab_type": "code",
        "colab": {
          "autoexec": {
            "startup": false,
            "wait_interval": 0
          }
        }
      },
      "cell_type": "code",
      "source": [
        "img_size=64\n",
        "def show3img(img, img1, img2):\n",
        "   plt.figure(figsize=(6, 2))\n",
        "   plt.subplot(1, 3, 1)\n",
        "   plt.imshow(img)\n",
        "   plt.title(\"Raw image\")\n",
        "   plt.subplot(1, 3, 2)\n",
        "   plt.imshow(img1)\n",
        "   plt.title(\"Processed image\")\n",
        "   plt.subplot(1, 3, 3)\n",
        "   plt.imshow(img2)\n",
        "   plt.title(\"Augmented image\")\n",
        "   plt.show()\n",
        "   \n",
        "def eq_Hist(img):\n",
        "   #Histogram Equalization\n",
        "   img2=img.copy()\n",
        "   img2[:, :, 0] = cv2.equalizeHist(img[:, :, 0])\n",
        "   img2[:, :, 1] = cv2.equalizeHist(img[:, :, 1])\n",
        "   img2[:, :, 2] = cv2.equalizeHist(img[:, :, 2])\n",
        "   return img2\n",
        "\n",
        "def scale_img(img):\n",
        "   img2=img.copy()\n",
        "   sc_y=0.4*np.random.rand()+1.0\n",
        "   img2=cv2.resize(img, None, fx=1, fy=sc_y, interpolation = cv2.INTER_CUBIC)\n",
        "   c_x,c_y, sh = int(img2.shape[0]/2), int(img2.shape[1]/2), int(img_size/2)\n",
        "   return img2\n",
        "\n",
        "def crop(img, mar=0):\n",
        "   c_x,c_y, sh = int(img.shape[0]/2), int(img.shape[1]/2), int(img_size/2-mar)\n",
        "   return img[(c_x-sh):(c_x+sh),(c_y-sh):(c_y+sh)]\n",
        "\n",
        "def rotate_img(img):\n",
        "   c_x,c_y = int(img.shape[0]/2), int(img.shape[1]/2)\n",
        "   ang = 30.0*np.random.rand()-15\n",
        "   Mat = cv2.getRotationMatrix2D((c_x, c_y), ang, 1.0)\n",
        "   return cv2.warpAffine(img, Mat, img.shape[:2])\n",
        "\n",
        "def sharpen_img(img):\n",
        "   gb = cv2.GaussianBlur(img, (7,7), 20.0)\n",
        "   return cv2.addWeighted(img, 2, gb, -1, 0)\n",
        "#Compute linear image transformation ing*s+m\n",
        "def lin_img(img,s=1.0,m=0.0):\n",
        "   img2=cv2.multiply(img, np.array([s]))\n",
        "   return cv2.add(img2, np.array([m]))\n",
        "\n",
        "#Change image contrast; s>1 - increase\n",
        "def contr_img(img, s=1.0):\n",
        "   m=127.0*(1.0-s)\n",
        "   return lin_img(img, s, m)\n",
        "\n",
        "def transform_img(img):\n",
        "   img2=sharpen_img(img)\n",
        "   img2=crop(img2,3)\n",
        "   img2=contr_img(img2, 1.5)\n",
        "   return eq_Hist(img2)\n",
        "\n",
        "def augment_img(img):\n",
        "   img=contr_img(img, 1.8*np.random.rand()+0.2)\n",
        "   img=rotate_img(img)\n",
        "   img=scale_img(img)\n",
        "   return transform_img(img)\n",
        "\n",
        "def random_warp(img):\n",
        "    \n",
        "    rows,cols,_ = img.shape\n",
        "\n",
        "    # random scaling coefficients\n",
        "    rndx = np.random.rand(3) - 0.5\n",
        "    rndx *= cols * 0.06   # this coefficient determines the degree of warping\n",
        "    rndy = np.random.rand(3) - 0.5\n",
        "    rndy *= rows * 0.06\n",
        "\n",
        "    # 3 starting points for transform, 1/4 way from edges\n",
        "    x1 = cols/4\n",
        "    x2 = 3*cols/4\n",
        "    y1 = rows/4\n",
        "    y2 = 3*rows/4\n",
        "\n",
        "    pts1 = np.float32([[y1,x1],\n",
        "                       [y2,x1],\n",
        "                       [y1,x2]])\n",
        "    pts2 = np.float32([[y1+rndy[0],x1+rndx[0]],\n",
        "                       [y2+rndy[1],x1+rndx[1]],\n",
        "                       [y1+rndy[2],x2+rndx[2]]])\n",
        "\n",
        "    M = cv2.getAffineTransform(pts1,pts2)\n",
        "\n",
        "    dst = cv2.warpAffine(img,M,(cols,rows))\n",
        "    \n",
        "    dst = dst[:,:,np.newaxis]\n",
        "    \n",
        "    return dst\n",
        "def random_brightness(img):\n",
        "    shifted = img + 1.0   # shift to (0,2) range\n",
        "    img_max_value = max(shifted.flatten())\n",
        "    max_coef = 2.0/img_max_value\n",
        "    min_coef = max_coef - 0.1\n",
        "    coef = np.random.uniform(min_coef, max_coef)\n",
        "    dst = shifted * coef - 1.0\n",
        "    return dst\n",
        "\n"
      ],
      "execution_count": 0,
      "outputs": []
    },
    {
      "metadata": {
        "id": "3yWr5ZHEQqZT",
        "colab_type": "code",
        "colab": {
          "autoexec": {
            "startup": false,
            "wait_interval": 0
          },
          "base_uri": "https://localhost:8080/",
          "height": 323
        },
        "outputId": "2179b908-c121-4583-8fdf-171c31fafc48",
        "executionInfo": {
          "status": "error",
          "timestamp": 1531474813657,
          "user_tz": -330,
          "elapsed": 948,
          "user": {
            "displayName": "anupam behera",
            "photoUrl": "//lh4.googleusercontent.com/-nt7z4H6Xjm8/AAAAAAAAAAI/AAAAAAAAAC4/rGjoKFTe_MI/s50-c-k-no/photo.jpg",
            "userId": "100554187957869533306"
          }
        }
      },
      "cell_type": "code",
      "source": [
        "\n",
        "\n",
        "def create_data(n=10):\n",
        "   for i in range(len(roots)):\n",
        "       img=mpimg.imread(roots[i])\n",
        "       img=cv2.resize(img, (64, 64))\n",
        "       X_train_aug_roots.append(transform_img(img))\n",
        "       y_train_aug.append(1)\n",
        "       #Generate n new images out of each input image\n",
        "       for j in range(n):\n",
        "           X_train_aug_roots.append(augment_img(img))\n",
        "           y_train_aug.append(1)      \n",
        "   print(\"Total number of images in the augmented dataset = \", len(X_train_aug_roots))\n",
        "\n",
        "create_data(5)"
      ],
      "execution_count": 13,
      "outputs": [
        {
          "output_type": "error",
          "ename": "NameError",
          "evalue": "ignored",
          "traceback": [
            "\u001b[0;31m---------------------------------------------------------------------------\u001b[0m",
            "\u001b[0;31mNameError\u001b[0m                                 Traceback (most recent call last)",
            "\u001b[0;32m<ipython-input-13-5a730250cc7f>\u001b[0m in \u001b[0;36m<module>\u001b[0;34m()\u001b[0m\n\u001b[1;32m     13\u001b[0m    \u001b[0mprint\u001b[0m\u001b[0;34m(\u001b[0m\u001b[0;34m\"Total number of images in the augmented dataset = \"\u001b[0m\u001b[0;34m,\u001b[0m \u001b[0mlen\u001b[0m\u001b[0;34m(\u001b[0m\u001b[0mX_train_aug_roots\u001b[0m\u001b[0;34m)\u001b[0m\u001b[0;34m)\u001b[0m\u001b[0;34m\u001b[0m\u001b[0m\n\u001b[1;32m     14\u001b[0m \u001b[0;34m\u001b[0m\u001b[0m\n\u001b[0;32m---> 15\u001b[0;31m \u001b[0mcreate_data\u001b[0m\u001b[0;34m(\u001b[0m\u001b[0;36m5\u001b[0m\u001b[0;34m)\u001b[0m\u001b[0;34m\u001b[0m\u001b[0m\n\u001b[0m",
            "\u001b[0;32m<ipython-input-13-5a730250cc7f>\u001b[0m in \u001b[0;36mcreate_data\u001b[0;34m(n)\u001b[0m\n\u001b[1;32m      5\u001b[0m        \u001b[0mimg\u001b[0m\u001b[0;34m=\u001b[0m\u001b[0mmpimg\u001b[0m\u001b[0;34m.\u001b[0m\u001b[0mimread\u001b[0m\u001b[0;34m(\u001b[0m\u001b[0mroots\u001b[0m\u001b[0;34m[\u001b[0m\u001b[0mi\u001b[0m\u001b[0;34m]\u001b[0m\u001b[0;34m)\u001b[0m\u001b[0;34m\u001b[0m\u001b[0m\n\u001b[1;32m      6\u001b[0m        \u001b[0mimg\u001b[0m\u001b[0;34m=\u001b[0m\u001b[0mcv2\u001b[0m\u001b[0;34m.\u001b[0m\u001b[0mresize\u001b[0m\u001b[0;34m(\u001b[0m\u001b[0mimg\u001b[0m\u001b[0;34m,\u001b[0m \u001b[0;34m(\u001b[0m\u001b[0;36m64\u001b[0m\u001b[0;34m,\u001b[0m \u001b[0;36m64\u001b[0m\u001b[0;34m)\u001b[0m\u001b[0;34m)\u001b[0m\u001b[0;34m\u001b[0m\u001b[0m\n\u001b[0;32m----> 7\u001b[0;31m        \u001b[0mX_train_aug_roots\u001b[0m\u001b[0;34m.\u001b[0m\u001b[0mappend\u001b[0m\u001b[0;34m(\u001b[0m\u001b[0mtransform_img\u001b[0m\u001b[0;34m(\u001b[0m\u001b[0mimg\u001b[0m\u001b[0;34m)\u001b[0m\u001b[0;34m)\u001b[0m\u001b[0;34m\u001b[0m\u001b[0m\n\u001b[0m\u001b[1;32m      8\u001b[0m        \u001b[0my_train_aug\u001b[0m\u001b[0;34m.\u001b[0m\u001b[0mappend\u001b[0m\u001b[0;34m(\u001b[0m\u001b[0;36m1\u001b[0m\u001b[0;34m)\u001b[0m\u001b[0;34m\u001b[0m\u001b[0m\n\u001b[1;32m      9\u001b[0m        \u001b[0;31m#Generate n new images out of each input image\u001b[0m\u001b[0;34m\u001b[0m\u001b[0;34m\u001b[0m\u001b[0m\n",
            "\u001b[0;31mNameError\u001b[0m: name 'X_train_aug_roots' is not defined"
          ]
        }
      ]
    },
    {
      "metadata": {
        "id": "gsDy9FImQ2dA",
        "colab_type": "code",
        "colab": {
          "autoexec": {
            "startup": false,
            "wait_interval": 0
          },
          "base_uri": "https://localhost:8080/",
          "height": 34
        },
        "outputId": "63d25ccf-fb55-4579-e09c-eba7fd1a88cf",
        "executionInfo": {
          "status": "ok",
          "timestamp": 1531459467287,
          "user_tz": -330,
          "elapsed": 1202,
          "user": {
            "displayName": "anupam behera",
            "photoUrl": "//lh4.googleusercontent.com/-nt7z4H6Xjm8/AAAAAAAAAAI/AAAAAAAAAC4/rGjoKFTe_MI/s50-c-k-no/photo.jpg",
            "userId": "100554187957869533306"
          }
        }
      },
      "cell_type": "code",
      "source": [
        "def create_data(n=10):\n",
        "   for i in range(len(non_roots)):\n",
        "       img=mpimg.imread(non_roots[i])\n",
        "       img=cv2.resize(img, (64, 64))\n",
        "       X_train_aug_roots.append(transform_img(img))\n",
        "       y_train_aug.append(0)\n",
        "       #Generate n new images out of each input image\n",
        "       for j in range(n):\n",
        "           X_train_aug_roots.append(augment_img(img))\n",
        "           y_train_aug.append(0)      \n",
        "   print(\"Total number of images in the augmented dataset = \", len(X_train_aug_roots))\n",
        "\n",
        "create_data(5)"
      ],
      "execution_count": 107,
      "outputs": [
        {
          "output_type": "stream",
          "text": [
            "Total number of images in the augmented dataset =  537\n"
          ],
          "name": "stdout"
        }
      ]
    },
    {
      "metadata": {
        "id": "CblQUREDjv6Y",
        "colab_type": "code",
        "colab": {
          "autoexec": {
            "startup": false,
            "wait_interval": 0
          },
          "base_uri": "https://localhost:8080/",
          "height": 34
        },
        "outputId": "dd26e9fe-a40e-4b3b-e9ee-75b7c501dc26",
        "executionInfo": {
          "status": "ok",
          "timestamp": 1531453993339,
          "user_tz": -330,
          "elapsed": 947,
          "user": {
            "displayName": "anupam behera",
            "photoUrl": "//lh4.googleusercontent.com/-nt7z4H6Xjm8/AAAAAAAAAAI/AAAAAAAAAC4/rGjoKFTe_MI/s50-c-k-no/photo.jpg",
            "userId": "100554187957869533306"
          }
        }
      },
      "cell_type": "code",
      "source": [
        "print(len(roots))"
      ],
      "execution_count": 18,
      "outputs": [
        {
          "output_type": "stream",
          "text": [
            "59\n"
          ],
          "name": "stdout"
        }
      ]
    },
    {
      "metadata": {
        "id": "-6yLv7-HQ6Qz",
        "colab_type": "code",
        "colab": {
          "autoexec": {
            "startup": false,
            "wait_interval": 0
          },
          "base_uri": "https://localhost:8080/",
          "height": 52
        },
        "outputId": "635e563c-3356-4ffe-84f4-e4685fe91fad",
        "executionInfo": {
          "status": "ok",
          "timestamp": 1531475763660,
          "user_tz": -330,
          "elapsed": 1035,
          "user": {
            "displayName": "anupam behera",
            "photoUrl": "//lh4.googleusercontent.com/-nt7z4H6Xjm8/AAAAAAAAAAI/AAAAAAAAAC4/rGjoKFTe_MI/s50-c-k-no/photo.jpg",
            "userId": "100554187957869533306"
          }
        }
      },
      "cell_type": "code",
      "source": [
        "X_train_aug_roots = []\n",
        "y_train_aug = []\n",
        "for i in range(len(roots)):\n",
        "     img=mpimg.imread(roots[i])\n",
        "     img=cv2.resize(img, (58, 58))\n",
        "     X_train_aug_roots.append(img)\n",
        "     y_train_aug.append(1)\n",
        "     img = cv2.flip(img,1)\n",
        "     X_train_aug_roots.append(img)\n",
        "     y_train_aug.append(1)\n",
        "     img = rotate_img(img)\n",
        "     X_train_aug_roots.append(img)\n",
        "     y_train_aug.append(1)\n",
        "#      img=random_warp(img)\n",
        "#      X_train_aug_roots.append(img)\n",
        "#      y_train_aug.append(1)\n",
        "#      img=random_brightness(img)\n",
        "#      X_train_aug_roots.append(img)\n",
        "#      y_train_aug.append(1)\n",
        "    \n",
        "\n",
        "\n",
        "for i in range(len(non_roots)):\n",
        "     img=mpimg.imread(non_roots[i])\n",
        "     img=cv2.resize(img, (58, 58))\n",
        "     X_train_aug_roots.append(img)\n",
        "     y_train_aug.append(0)\n",
        "     img = cv2.flip(img,1)\n",
        "     X_train_aug_roots.append(img)\n",
        "     y_train_aug.append(0)\n",
        "     img = rotate_img(img)\n",
        "     X_train_aug_roots.append(img)\n",
        "     y_train_aug.append(0)\n",
        "#      img=random_warp(img)\n",
        "#      X_train_aug_roots.append(img)\n",
        "#      y_train_aug.append(0)\n",
        "#      img=random_brightness(img)\n",
        "#      X_train_aug_roots.append(img)\n",
        "#      y_train_aug.append(0)\n",
        "     \n",
        "\n",
        "   \n",
        "print(\"Total number of images in the augmented dataset = \", len(X_train_aug_roots))  \n",
        "print(len(y_train_aug))"
      ],
      "execution_count": 30,
      "outputs": [
        {
          "output_type": "stream",
          "text": [
            "Total number of images in the augmented dataset =  357\n",
            "357\n"
          ],
          "name": "stdout"
        }
      ]
    },
    {
      "metadata": {
        "id": "_Ws5CHJ6Q_GC",
        "colab_type": "code",
        "colab": {
          "autoexec": {
            "startup": false,
            "wait_interval": 0
          }
        }
      },
      "cell_type": "code",
      "source": [
        "activation = 'relu'\n",
        "dropout = 1\n",
        "\n",
        "def model(dshape):\n",
        "    \n",
        "    seq_model = Sequential()\n",
        "\n",
        "    seq_model.add(BatchNormalization(input_shape=(dshape[0], dshape[1], dshape[2])))\n",
        "    seq_model.add(Conv2D(24, (5, 5), padding='valid',\n",
        "                  activation=activation, strides=(2, 2)))\n",
        "\n",
        "    seq_model.add(Conv2D(36, (5, 5), padding='valid', activation=activation, strides=(2, 2)))\n",
        "    seq_model.add(Dropout(0.6))\n",
        "    seq_model.add(Conv2D(48, (5, 5), padding='valid', activation=activation, strides=(2, 2)))\n",
        "    seq_model.add(Dropout(0.5))\n",
        "    seq_model.add(Conv2D(64, (3, 3), padding='valid', activation=activation))\n",
        "    seq_model.add(Dropout(0.4))\n",
        "    #seq_model.add(Conv2D(64, (3, 3), padding='valid', activation=activation))\n",
        "    seq_model.add(Flatten())\n",
        "    seq_model.add(Dropout(0.6))\n",
        "    seq_model.add(Dense(100, activation=activation))\n",
        "    seq_model.add(Dropout(0.2))\n",
        "    seq_model.add(Dense(50, activation=activation))\n",
        "    seq_model.add(Dropout(0.3))\n",
        "    seq_model.add(Dense(10, activation=activation))\n",
        "    seq_model.add(Dense(1, activation='sigmoid'))\n",
        "    seq_model.compile(loss='binary_crossentropy', optimizer=adam(), metrics=['accuracy'])\n",
        "    seq_model.summary()\n",
        "\n",
        "    return seq_model"
      ],
      "execution_count": 0,
      "outputs": []
    },
    {
      "metadata": {
        "id": "8daIf7EYQ9Cb",
        "colab_type": "code",
        "colab": {
          "autoexec": {
            "startup": false,
            "wait_interval": 0
          }
        }
      },
      "cell_type": "code",
      "source": [
        "from sklearn.utils import shuffle\n",
        "from keras.utils.data_utils import Sequence\n",
        "\n",
        "images, labels = shuffle(X_train_aug_roots, y_train_aug)"
      ],
      "execution_count": 0,
      "outputs": []
    },
    {
      "metadata": {
        "id": "pbtYATC6jm6T",
        "colab_type": "code",
        "colab": {
          "autoexec": {
            "startup": false,
            "wait_interval": 0
          },
          "base_uri": "https://localhost:8080/",
          "height": 166
        },
        "outputId": "239d04bb-5a19-4baa-efe4-692b6c130a1f",
        "executionInfo": {
          "status": "error",
          "timestamp": 1531475417564,
          "user_tz": -330,
          "elapsed": 891,
          "user": {
            "displayName": "anupam behera",
            "photoUrl": "//lh4.googleusercontent.com/-nt7z4H6Xjm8/AAAAAAAAAAI/AAAAAAAAAC4/rGjoKFTe_MI/s50-c-k-no/photo.jpg",
            "userId": "100554187957869533306"
          }
        }
      },
      "cell_type": "code",
      "source": [
        ""
      ],
      "execution_count": 23,
      "outputs": [
        {
          "output_type": "error",
          "ename": "AttributeError",
          "evalue": "ignored",
          "traceback": [
            "\u001b[0;31m---------------------------------------------------------------------------\u001b[0m",
            "\u001b[0;31mAttributeError\u001b[0m                            Traceback (most recent call last)",
            "\u001b[0;32m<ipython-input-23-615f17b53490>\u001b[0m in \u001b[0;36m<module>\u001b[0;34m()\u001b[0m\n\u001b[0;32m----> 1\u001b[0;31m \u001b[0mprint\u001b[0m\u001b[0;34m(\u001b[0m\u001b[0mimages\u001b[0m\u001b[0;34m.\u001b[0m\u001b[0mdtype\u001b[0m\u001b[0;34m)\u001b[0m\u001b[0;34m\u001b[0m\u001b[0m\n\u001b[0m",
            "\u001b[0;31mAttributeError\u001b[0m: 'list' object has no attribute 'dtype'"
          ]
        }
      ]
    },
    {
      "metadata": {
        "id": "Bdwr1ereT9_4",
        "colab_type": "code",
        "colab": {
          "autoexec": {
            "startup": false,
            "wait_interval": 0
          },
          "base_uri": "https://localhost:8080/",
          "height": 225
        },
        "outputId": "05a5735a-f102-4069-945a-836947050efb",
        "executionInfo": {
          "status": "ok",
          "timestamp": 1531477589788,
          "user_tz": -330,
          "elapsed": 1168,
          "user": {
            "displayName": "anupam behera",
            "photoUrl": "//lh4.googleusercontent.com/-nt7z4H6Xjm8/AAAAAAAAAAI/AAAAAAAAAC4/rGjoKFTe_MI/s50-c-k-no/photo.jpg",
            "userId": "100554187957869533306"
          }
        }
      },
      "cell_type": "code",
      "source": [
        "images = np.asarray(images)\n",
        "labels = np.asarray(labels)\n",
        "print(images.dtype, images.shape)\n",
        "print(type(images))\n",
        "print(labels)"
      ],
      "execution_count": 65,
      "outputs": [
        {
          "output_type": "stream",
          "text": [
            "uint8 (357, 58, 58, 3)\n",
            "<class 'numpy.ndarray'>\n",
            "[1 1 1 0 1 0 0 1 1 0 0 0 1 1 0 1 0 0 0 0 0 1 0 1 0 0 1 0 0 1 1 1 1 1 1 1 0\n",
            " 0 1 0 1 1 1 1 1 0 1 1 0 0 0 0 1 0 0 1 0 1 1 1 0 0 1 1 1 1 1 1 1 1 1 1 1 0\n",
            " 1 1 1 1 0 0 1 0 1 1 1 1 1 1 1 0 0 1 0 0 0 1 1 1 1 1 0 0 1 0 0 1 1 0 1 0 1\n",
            " 0 1 1 0 1 1 1 0 1 1 0 0 0 1 0 0 0 0 1 0 0 1 0 1 1 0 1 0 0 1 0 0 1 0 1 0 1\n",
            " 0 0 0 0 0 0 0 1 0 1 1 0 1 0 1 0 0 1 1 1 1 0 0 1 1 0 1 0 1 1 0 0 0 0 1 0 1\n",
            " 0 1 1 0 1 0 0 0 1 0 0 1 1 1 0 1 1 0 1 0 0 0 0 0 0 1 1 0 0 1 0 1 0 0 0 0 0\n",
            " 0 0 0 0 1 1 1 0 0 0 1 0 0 1 0 1 0 1 1 1 0 0 0 1 0 1 1 0 0 1 0 0 0 1 0 1 1\n",
            " 1 1 0 1 0 1 0 0 0 1 1 1 1 0 0 1 1 1 1 1 1 1 1 0 0 0 0 1 1 1 0 1 0 1 1 1 1\n",
            " 0 0 0 0 1 1 0 1 1 0 0 1 0 1 0 0 0 0 0 1 1 0 0 0 1 0 1 0 0 0 1 1 1 0 1 1 0\n",
            " 1 1 0 0 0 0 0 0 0 1 0 0 1 0 0 1 0 0 1 0 1 1 0 1]\n"
          ],
          "name": "stdout"
        }
      ]
    },
    {
      "metadata": {
        "id": "sqlcGYWFRYS6",
        "colab_type": "code",
        "colab": {
          "autoexec": {
            "startup": false,
            "wait_interval": 0
          },
          "base_uri": "https://localhost:8080/",
          "height": 694
        },
        "outputId": "71c390a3-9c3b-4efa-e493-309949d61ddb",
        "executionInfo": {
          "status": "ok",
          "timestamp": 1531477613764,
          "user_tz": -330,
          "elapsed": 1278,
          "user": {
            "displayName": "anupam behera",
            "photoUrl": "//lh4.googleusercontent.com/-nt7z4H6Xjm8/AAAAAAAAAAI/AAAAAAAAAC4/rGjoKFTe_MI/s50-c-k-no/photo.jpg",
            "userId": "100554187957869533306"
          }
        }
      },
      "cell_type": "code",
      "source": [
        "from keras.models import Sequential\n",
        "from keras.layers import Dense, Flatten, Conv2D, Dropout\n",
        "from keras.layers.normalization import BatchNormalization\n",
        "from keras.optimizers import adam\n",
        "#from keras.utils.data_utils import Sequence\n",
        "\n",
        "keras_model = model((height, width, 3))"
      ],
      "execution_count": 66,
      "outputs": [
        {
          "output_type": "stream",
          "text": [
            "_________________________________________________________________\n",
            "Layer (type)                 Output Shape              Param #   \n",
            "=================================================================\n",
            "batch_normalization_7 (Batch (None, 58, 58, 3)         12        \n",
            "_________________________________________________________________\n",
            "conv2d_28 (Conv2D)           (None, 27, 27, 24)        1824      \n",
            "_________________________________________________________________\n",
            "conv2d_29 (Conv2D)           (None, 12, 12, 36)        21636     \n",
            "_________________________________________________________________\n",
            "dropout_28 (Dropout)         (None, 12, 12, 36)        0         \n",
            "_________________________________________________________________\n",
            "conv2d_30 (Conv2D)           (None, 4, 4, 48)          43248     \n",
            "_________________________________________________________________\n",
            "dropout_29 (Dropout)         (None, 4, 4, 48)          0         \n",
            "_________________________________________________________________\n",
            "conv2d_31 (Conv2D)           (None, 2, 2, 64)          27712     \n",
            "_________________________________________________________________\n",
            "dropout_30 (Dropout)         (None, 2, 2, 64)          0         \n",
            "_________________________________________________________________\n",
            "flatten_4 (Flatten)          (None, 256)               0         \n",
            "_________________________________________________________________\n",
            "dropout_31 (Dropout)         (None, 256)               0         \n",
            "_________________________________________________________________\n",
            "dense_13 (Dense)             (None, 100)               25700     \n",
            "_________________________________________________________________\n",
            "dropout_32 (Dropout)         (None, 100)               0         \n",
            "_________________________________________________________________\n",
            "dense_14 (Dense)             (None, 50)                5050      \n",
            "_________________________________________________________________\n",
            "dropout_33 (Dropout)         (None, 50)                0         \n",
            "_________________________________________________________________\n",
            "dense_15 (Dense)             (None, 10)                510       \n",
            "_________________________________________________________________\n",
            "dense_16 (Dense)             (None, 1)                 11        \n",
            "=================================================================\n",
            "Total params: 125,703\n",
            "Trainable params: 125,697\n",
            "Non-trainable params: 6\n",
            "_________________________________________________________________\n"
          ],
          "name": "stdout"
        }
      ]
    },
    {
      "metadata": {
        "id": "dAuVfM5PRb0-",
        "colab_type": "code",
        "colab": {
          "autoexec": {
            "startup": false,
            "wait_interval": 0
          },
          "base_uri": "https://localhost:8080/",
          "height": 3545
        },
        "outputId": "01333e34-b5a8-445b-e6be-f57e730601d9",
        "executionInfo": {
          "status": "ok",
          "timestamp": 1531477725841,
          "user_tz": -330,
          "elapsed": 108631,
          "user": {
            "displayName": "anupam behera",
            "photoUrl": "//lh4.googleusercontent.com/-nt7z4H6Xjm8/AAAAAAAAAAI/AAAAAAAAAC4/rGjoKFTe_MI/s50-c-k-no/photo.jpg",
            "userId": "100554187957869533306"
          }
        }
      },
      "cell_type": "code",
      "source": [
        "keras_model.fit(images, labels, epochs=100, batch_size=32, verbose=1, shuffle=True, validation_split=0.15)"
      ],
      "execution_count": 67,
      "outputs": [
        {
          "output_type": "stream",
          "text": [
            "Train on 303 samples, validate on 54 samples\n",
            "Epoch 1/100\n",
            "303/303 [==============================] - 3s 9ms/step - loss: 0.7450 - acc: 0.4389 - val_loss: 0.6815 - val_acc: 0.5556\n",
            "Epoch 2/100\n",
            "303/303 [==============================] - 1s 4ms/step - loss: 0.6963 - acc: 0.4719 - val_loss: 0.6955 - val_acc: 0.4259\n",
            "Epoch 3/100\n",
            "303/303 [==============================] - 1s 4ms/step - loss: 0.6999 - acc: 0.4554 - val_loss: 0.6920 - val_acc: 0.5556\n",
            "Epoch 4/100\n",
            "303/303 [==============================] - 1s 3ms/step - loss: 0.6813 - acc: 0.5413 - val_loss: 0.6886 - val_acc: 0.5370\n",
            "Epoch 5/100\n",
            "303/303 [==============================] - 1s 3ms/step - loss: 0.6919 - acc: 0.5545 - val_loss: 0.6935 - val_acc: 0.5741\n",
            "Epoch 6/100\n",
            "303/303 [==============================] - 1s 3ms/step - loss: 0.6833 - acc: 0.5974 - val_loss: 0.6917 - val_acc: 0.5926\n",
            "Epoch 7/100\n",
            "303/303 [==============================] - 1s 3ms/step - loss: 0.6857 - acc: 0.5776 - val_loss: 0.6848 - val_acc: 0.6852\n",
            "Epoch 8/100\n",
            "303/303 [==============================] - 1s 3ms/step - loss: 0.6689 - acc: 0.5743 - val_loss: 0.6541 - val_acc: 0.8333\n",
            "Epoch 9/100\n",
            "303/303 [==============================] - 1s 3ms/step - loss: 0.6363 - acc: 0.6205 - val_loss: 0.6154 - val_acc: 0.9074\n",
            "Epoch 10/100\n",
            "303/303 [==============================] - 1s 3ms/step - loss: 0.6400 - acc: 0.6370 - val_loss: 0.6210 - val_acc: 0.7593\n",
            "Epoch 11/100\n",
            "303/303 [==============================] - 1s 3ms/step - loss: 0.6462 - acc: 0.6700 - val_loss: 0.6062 - val_acc: 0.6852\n",
            "Epoch 12/100\n"
          ],
          "name": "stdout"
        },
        {
          "output_type": "stream",
          "text": [
            "303/303 [==============================] - 1s 3ms/step - loss: 0.6160 - acc: 0.7096 - val_loss: 0.5028 - val_acc: 0.7963\n",
            "Epoch 13/100\n",
            "303/303 [==============================] - 1s 3ms/step - loss: 0.6387 - acc: 0.7261 - val_loss: 0.5454 - val_acc: 0.8148\n",
            "Epoch 14/100\n",
            "303/303 [==============================] - 1s 3ms/step - loss: 0.6042 - acc: 0.7327 - val_loss: 0.5792 - val_acc: 0.7222\n",
            "Epoch 15/100\n",
            "303/303 [==============================] - 1s 3ms/step - loss: 0.6080 - acc: 0.7096 - val_loss: 0.5915 - val_acc: 0.6481\n",
            "Epoch 16/100\n",
            "303/303 [==============================] - 1s 3ms/step - loss: 0.5833 - acc: 0.7228 - val_loss: 0.4689 - val_acc: 0.8704\n",
            "Epoch 17/100\n",
            "303/303 [==============================] - 1s 3ms/step - loss: 0.5934 - acc: 0.6997 - val_loss: 0.5789 - val_acc: 0.6481\n",
            "Epoch 18/100\n",
            "303/303 [==============================] - 1s 3ms/step - loss: 0.6216 - acc: 0.7393 - val_loss: 0.4956 - val_acc: 0.7222\n",
            "Epoch 19/100\n",
            "303/303 [==============================] - 1s 3ms/step - loss: 0.5974 - acc: 0.7261 - val_loss: 0.5575 - val_acc: 0.7222\n",
            "Epoch 20/100\n",
            "303/303 [==============================] - 1s 3ms/step - loss: 0.5831 - acc: 0.7195 - val_loss: 0.5294 - val_acc: 0.7407\n",
            "Epoch 21/100\n",
            "303/303 [==============================] - 1s 4ms/step - loss: 0.5540 - acc: 0.7591 - val_loss: 0.5628 - val_acc: 0.7407\n",
            "Epoch 22/100\n",
            "303/303 [==============================] - 1s 3ms/step - loss: 0.5403 - acc: 0.7591 - val_loss: 0.4613 - val_acc: 0.7593\n",
            "Epoch 23/100\n",
            " 96/303 [========>.....................] - ETA: 0s - loss: 0.4654 - acc: 0.8229"
          ],
          "name": "stdout"
        },
        {
          "output_type": "stream",
          "text": [
            "303/303 [==============================] - 1s 3ms/step - loss: 0.5499 - acc: 0.7591 - val_loss: 0.4951 - val_acc: 0.7778\n",
            "Epoch 24/100\n",
            "303/303 [==============================] - 1s 3ms/step - loss: 0.5252 - acc: 0.7591 - val_loss: 0.5385 - val_acc: 0.7593\n",
            "Epoch 25/100\n",
            "303/303 [==============================] - 1s 3ms/step - loss: 0.5184 - acc: 0.7492 - val_loss: 0.3797 - val_acc: 0.8333\n",
            "Epoch 26/100\n",
            "303/303 [==============================] - 1s 3ms/step - loss: 0.5248 - acc: 0.7624 - val_loss: 0.4374 - val_acc: 0.8519\n",
            "Epoch 27/100\n",
            "303/303 [==============================] - 1s 3ms/step - loss: 0.5184 - acc: 0.7426 - val_loss: 0.4040 - val_acc: 0.8519\n",
            "Epoch 28/100\n",
            "303/303 [==============================] - 1s 3ms/step - loss: 0.5031 - acc: 0.7459 - val_loss: 0.3974 - val_acc: 0.8148\n",
            "Epoch 29/100\n",
            "303/303 [==============================] - 1s 3ms/step - loss: 0.4805 - acc: 0.7888 - val_loss: 0.3837 - val_acc: 0.8148\n",
            "Epoch 30/100\n",
            "303/303 [==============================] - 1s 3ms/step - loss: 0.5327 - acc: 0.7459 - val_loss: 0.4010 - val_acc: 0.8148\n",
            "Epoch 31/100\n",
            "303/303 [==============================] - 1s 3ms/step - loss: 0.4574 - acc: 0.7888 - val_loss: 0.3569 - val_acc: 0.8519\n",
            "Epoch 32/100\n",
            "303/303 [==============================] - 1s 3ms/step - loss: 0.4626 - acc: 0.7855 - val_loss: 0.3402 - val_acc: 0.8519\n",
            "Epoch 33/100\n",
            "303/303 [==============================] - 1s 3ms/step - loss: 0.4053 - acc: 0.8482 - val_loss: 0.3134 - val_acc: 0.8889\n",
            "Epoch 34/100\n",
            " 64/303 [=====>........................] - ETA: 0s - loss: 0.3134 - acc: 0.9062"
          ],
          "name": "stdout"
        },
        {
          "output_type": "stream",
          "text": [
            "303/303 [==============================] - 1s 3ms/step - loss: 0.4082 - acc: 0.8383 - val_loss: 0.2973 - val_acc: 0.8889\n",
            "Epoch 35/100\n",
            "303/303 [==============================] - 1s 3ms/step - loss: 0.4651 - acc: 0.8482 - val_loss: 0.3830 - val_acc: 0.8148\n",
            "Epoch 36/100\n",
            "303/303 [==============================] - 1s 3ms/step - loss: 0.3733 - acc: 0.8515 - val_loss: 0.2391 - val_acc: 0.9259\n",
            "Epoch 37/100\n",
            "303/303 [==============================] - 1s 3ms/step - loss: 0.3772 - acc: 0.8581 - val_loss: 0.2288 - val_acc: 0.9444\n",
            "Epoch 38/100\n",
            "303/303 [==============================] - 1s 3ms/step - loss: 0.3799 - acc: 0.8647 - val_loss: 0.3624 - val_acc: 0.8333\n",
            "Epoch 39/100\n",
            "303/303 [==============================] - 1s 3ms/step - loss: 0.3860 - acc: 0.8482 - val_loss: 0.3762 - val_acc: 0.8704\n",
            "Epoch 40/100\n",
            "303/303 [==============================] - 1s 3ms/step - loss: 0.3832 - acc: 0.8284 - val_loss: 0.2885 - val_acc: 0.8704\n",
            "Epoch 41/100\n",
            "303/303 [==============================] - 1s 3ms/step - loss: 0.3272 - acc: 0.8713 - val_loss: 0.2020 - val_acc: 0.9259\n",
            "Epoch 42/100\n",
            "303/303 [==============================] - 1s 3ms/step - loss: 0.3780 - acc: 0.8383 - val_loss: 0.2526 - val_acc: 0.8889\n",
            "Epoch 43/100\n",
            "303/303 [==============================] - 1s 3ms/step - loss: 0.3558 - acc: 0.8680 - val_loss: 0.3363 - val_acc: 0.8519\n",
            "Epoch 44/100\n",
            "303/303 [==============================] - 1s 3ms/step - loss: 0.3470 - acc: 0.8647 - val_loss: 0.2736 - val_acc: 0.8704\n",
            "Epoch 45/100\n",
            " 96/303 [========>.....................] - ETA: 0s - loss: 0.2998 - acc: 0.8854"
          ],
          "name": "stdout"
        },
        {
          "output_type": "stream",
          "text": [
            "303/303 [==============================] - 1s 3ms/step - loss: 0.3022 - acc: 0.8878 - val_loss: 0.1437 - val_acc: 0.9815\n",
            "Epoch 46/100\n",
            "303/303 [==============================] - 1s 3ms/step - loss: 0.2890 - acc: 0.9076 - val_loss: 0.1872 - val_acc: 0.9444\n",
            "Epoch 47/100\n",
            "303/303 [==============================] - 1s 3ms/step - loss: 0.2707 - acc: 0.8878 - val_loss: 0.2437 - val_acc: 0.9444\n",
            "Epoch 48/100\n",
            "303/303 [==============================] - 1s 4ms/step - loss: 0.2704 - acc: 0.9043 - val_loss: 0.1317 - val_acc: 0.9630\n",
            "Epoch 49/100\n",
            "303/303 [==============================] - 1s 4ms/step - loss: 0.2494 - acc: 0.9010 - val_loss: 0.1694 - val_acc: 0.9630\n",
            "Epoch 50/100\n",
            "303/303 [==============================] - 1s 3ms/step - loss: 0.3026 - acc: 0.8911 - val_loss: 0.3966 - val_acc: 0.8889\n",
            "Epoch 51/100\n",
            "303/303 [==============================] - 1s 4ms/step - loss: 0.2768 - acc: 0.8911 - val_loss: 0.2562 - val_acc: 0.9074\n",
            "Epoch 52/100\n",
            "303/303 [==============================] - 1s 3ms/step - loss: 0.2304 - acc: 0.9307 - val_loss: 0.1673 - val_acc: 0.9630\n",
            "Epoch 53/100\n",
            "303/303 [==============================] - 1s 3ms/step - loss: 0.2352 - acc: 0.9274 - val_loss: 0.2716 - val_acc: 0.8889\n",
            "Epoch 54/100\n",
            "303/303 [==============================] - 1s 3ms/step - loss: 0.2429 - acc: 0.9142 - val_loss: 0.1282 - val_acc: 0.9630\n",
            "Epoch 55/100\n",
            "303/303 [==============================] - 1s 3ms/step - loss: 0.1779 - acc: 0.9406 - val_loss: 0.1624 - val_acc: 0.9630\n",
            "Epoch 56/100\n",
            "128/303 [===========>..................] - ETA: 0s - loss: 0.2407 - acc: 0.9062"
          ],
          "name": "stdout"
        },
        {
          "output_type": "stream",
          "text": [
            "303/303 [==============================] - 1s 3ms/step - loss: 0.2094 - acc: 0.9307 - val_loss: 0.1034 - val_acc: 0.9815\n",
            "Epoch 57/100\n",
            "303/303 [==============================] - 1s 3ms/step - loss: 0.3189 - acc: 0.8977 - val_loss: 0.3342 - val_acc: 0.8889\n",
            "Epoch 58/100\n",
            "303/303 [==============================] - 1s 3ms/step - loss: 0.3142 - acc: 0.8746 - val_loss: 0.2464 - val_acc: 0.9074\n",
            "Epoch 59/100\n",
            "303/303 [==============================] - 1s 3ms/step - loss: 0.1720 - acc: 0.9538 - val_loss: 0.0975 - val_acc: 1.0000\n",
            "Epoch 60/100\n",
            "303/303 [==============================] - 1s 3ms/step - loss: 0.2155 - acc: 0.9406 - val_loss: 0.1098 - val_acc: 0.9815\n",
            "Epoch 61/100\n",
            "303/303 [==============================] - 1s 3ms/step - loss: 0.2514 - acc: 0.9142 - val_loss: 0.1126 - val_acc: 0.9815\n",
            "Epoch 62/100\n",
            "303/303 [==============================] - 1s 3ms/step - loss: 0.1877 - acc: 0.9439 - val_loss: 0.0951 - val_acc: 0.9815\n",
            "Epoch 63/100\n",
            "303/303 [==============================] - 1s 3ms/step - loss: 0.2598 - acc: 0.8977 - val_loss: 0.2587 - val_acc: 0.9074\n",
            "Epoch 64/100\n",
            "303/303 [==============================] - 1s 3ms/step - loss: 0.2262 - acc: 0.9241 - val_loss: 0.2172 - val_acc: 0.9259\n",
            "Epoch 65/100\n",
            "303/303 [==============================] - 1s 3ms/step - loss: 0.1861 - acc: 0.9274 - val_loss: 0.1180 - val_acc: 0.9630\n",
            "Epoch 66/100\n",
            "303/303 [==============================] - 1s 3ms/step - loss: 0.3123 - acc: 0.9241 - val_loss: 0.3167 - val_acc: 0.9074\n",
            "Epoch 67/100\n",
            "160/303 [==============>...............] - ETA: 0s - loss: 0.3612 - acc: 0.8750"
          ],
          "name": "stdout"
        },
        {
          "output_type": "stream",
          "text": [
            "303/303 [==============================] - 1s 3ms/step - loss: 0.3083 - acc: 0.8944 - val_loss: 0.2618 - val_acc: 0.9074\n",
            "Epoch 68/100\n",
            "303/303 [==============================] - 1s 3ms/step - loss: 0.2048 - acc: 0.9274 - val_loss: 0.3027 - val_acc: 0.8333\n",
            "Epoch 69/100\n",
            "303/303 [==============================] - 1s 3ms/step - loss: 0.2878 - acc: 0.9043 - val_loss: 0.4181 - val_acc: 0.8333\n",
            "Epoch 70/100\n",
            "303/303 [==============================] - 1s 3ms/step - loss: 0.3200 - acc: 0.8779 - val_loss: 0.2379 - val_acc: 0.9074\n",
            "Epoch 71/100\n",
            "303/303 [==============================] - 1s 3ms/step - loss: 0.2431 - acc: 0.9109 - val_loss: 0.1076 - val_acc: 0.9815\n",
            "Epoch 72/100\n",
            "303/303 [==============================] - 1s 3ms/step - loss: 0.2123 - acc: 0.9208 - val_loss: 0.1161 - val_acc: 0.9815\n",
            "Epoch 73/100\n",
            "303/303 [==============================] - 1s 3ms/step - loss: 0.2012 - acc: 0.9274 - val_loss: 0.1107 - val_acc: 0.9815\n",
            "Epoch 74/100\n",
            "303/303 [==============================] - 1s 3ms/step - loss: 0.1547 - acc: 0.9505 - val_loss: 0.0949 - val_acc: 0.9815\n",
            "Epoch 75/100\n",
            "303/303 [==============================] - 1s 3ms/step - loss: 0.1695 - acc: 0.9439 - val_loss: 0.0797 - val_acc: 0.9815\n",
            "Epoch 76/100\n",
            "303/303 [==============================] - 1s 3ms/step - loss: 0.1924 - acc: 0.9340 - val_loss: 0.1768 - val_acc: 0.9259\n",
            "Epoch 77/100\n",
            "303/303 [==============================] - 1s 3ms/step - loss: 0.1814 - acc: 0.9373 - val_loss: 0.0818 - val_acc: 0.9815\n",
            "Epoch 78/100\n",
            " 96/303 [========>.....................] - ETA: 0s - loss: 0.2266 - acc: 0.9167"
          ],
          "name": "stdout"
        },
        {
          "output_type": "stream",
          "text": [
            "303/303 [==============================] - 1s 3ms/step - loss: 0.1750 - acc: 0.9406 - val_loss: 0.1339 - val_acc: 0.9444\n",
            "Epoch 79/100\n",
            "303/303 [==============================] - 1s 3ms/step - loss: 0.1860 - acc: 0.9406 - val_loss: 0.2546 - val_acc: 0.9074\n",
            "Epoch 80/100\n",
            "303/303 [==============================] - 1s 3ms/step - loss: 0.2216 - acc: 0.9208 - val_loss: 0.3963 - val_acc: 0.8519\n",
            "Epoch 81/100\n",
            "303/303 [==============================] - 1s 3ms/step - loss: 0.2587 - acc: 0.9010 - val_loss: 0.3661 - val_acc: 0.8519\n",
            "Epoch 82/100\n",
            "303/303 [==============================] - 1s 3ms/step - loss: 0.2242 - acc: 0.9076 - val_loss: 0.2701 - val_acc: 0.8889\n",
            "Epoch 83/100\n",
            "303/303 [==============================] - 1s 3ms/step - loss: 0.1940 - acc: 0.9208 - val_loss: 0.1447 - val_acc: 0.9444\n",
            "Epoch 84/100\n",
            "303/303 [==============================] - 1s 3ms/step - loss: 0.1782 - acc: 0.9340 - val_loss: 0.3412 - val_acc: 0.8333\n",
            "Epoch 85/100\n",
            "303/303 [==============================] - 1s 3ms/step - loss: 0.2099 - acc: 0.9043 - val_loss: 0.2966 - val_acc: 0.8704\n",
            "Epoch 86/100\n",
            "303/303 [==============================] - 1s 3ms/step - loss: 0.1557 - acc: 0.9472 - val_loss: 0.2214 - val_acc: 0.8889\n",
            "Epoch 87/100\n",
            "303/303 [==============================] - 1s 3ms/step - loss: 0.1499 - acc: 0.9505 - val_loss: 0.1700 - val_acc: 0.9259\n",
            "Epoch 88/100\n",
            "303/303 [==============================] - 1s 3ms/step - loss: 0.1486 - acc: 0.9505 - val_loss: 0.1679 - val_acc: 0.9074\n",
            "Epoch 89/100\n",
            " 96/303 [========>.....................] - ETA: 0s - loss: 0.1453 - acc: 0.9688"
          ],
          "name": "stdout"
        },
        {
          "output_type": "stream",
          "text": [
            "303/303 [==============================] - 1s 3ms/step - loss: 0.1360 - acc: 0.9604 - val_loss: 0.1457 - val_acc: 0.9444\n",
            "Epoch 90/100\n",
            "303/303 [==============================] - 1s 3ms/step - loss: 0.0817 - acc: 0.9703 - val_loss: 0.0891 - val_acc: 0.9815\n",
            "Epoch 91/100\n",
            "303/303 [==============================] - 1s 3ms/step - loss: 0.0853 - acc: 0.9736 - val_loss: 0.0888 - val_acc: 0.9630\n",
            "Epoch 92/100\n",
            "303/303 [==============================] - 1s 3ms/step - loss: 0.0662 - acc: 0.9769 - val_loss: 0.0610 - val_acc: 0.9815\n",
            "Epoch 93/100\n",
            "303/303 [==============================] - 1s 3ms/step - loss: 0.0734 - acc: 0.9736 - val_loss: 0.0619 - val_acc: 0.9815\n",
            "Epoch 94/100\n",
            "303/303 [==============================] - 1s 3ms/step - loss: 0.1154 - acc: 0.9505 - val_loss: 0.0644 - val_acc: 0.9815\n",
            "Epoch 95/100\n",
            "303/303 [==============================] - 1s 3ms/step - loss: 0.1125 - acc: 0.9571 - val_loss: 0.1171 - val_acc: 0.9444\n",
            "Epoch 96/100\n",
            "303/303 [==============================] - 1s 3ms/step - loss: 0.1788 - acc: 0.9439 - val_loss: 0.0980 - val_acc: 0.9630\n",
            "Epoch 97/100\n",
            "303/303 [==============================] - 1s 3ms/step - loss: 0.0804 - acc: 0.9703 - val_loss: 0.1422 - val_acc: 0.9444\n",
            "Epoch 98/100\n",
            "303/303 [==============================] - 1s 3ms/step - loss: 0.1121 - acc: 0.9703 - val_loss: 0.0913 - val_acc: 0.9815\n",
            "Epoch 99/100\n",
            "303/303 [==============================] - 1s 3ms/step - loss: 0.0972 - acc: 0.9670 - val_loss: 0.0642 - val_acc: 0.9815\n",
            "Epoch 100/100\n",
            "128/303 [===========>..................] - ETA: 0s - loss: 0.0854 - acc: 0.9688"
          ],
          "name": "stdout"
        },
        {
          "output_type": "stream",
          "text": [
            "303/303 [==============================] - 1s 3ms/step - loss: 0.0853 - acc: 0.9604 - val_loss: 0.0732 - val_acc: 0.9815\n"
          ],
          "name": "stdout"
        },
        {
          "output_type": "execute_result",
          "data": {
            "text/plain": [
              "<keras.callbacks.History at 0x7fddd29ffc50>"
            ]
          },
          "metadata": {
            "tags": []
          },
          "execution_count": 67
        }
      ]
    },
    {
      "metadata": {
        "id": "0hA2QvNNXtiR",
        "colab_type": "text"
      },
      "cell_type": "markdown",
      "source": [
        ""
      ]
    },
    {
      "metadata": {
        "id": "g3E6Gw91R3xv",
        "colab_type": "code",
        "colab": {
          "autoexec": {
            "startup": false,
            "wait_interval": 0
          }
        }
      },
      "cell_type": "code",
      "source": [
        "def  save_keras_model (save_model, path):\n",
        "    \"\"\"Save keras model to given path.\"\"\"\n",
        "    save_model.save_weights(path + 'model.h5')\n",
        "\n",
        "    with open(path + 'model.json', \"w\") as text_file:\n",
        "        text_file.write(save_model.to_json())\n",
        "\n",
        "    logging.info('Keras json model saved. %s', path + 'model.json')\n",
        "    logging.info('Keras h5 model saved. %s', path + 'model.h5')"
      ],
      "execution_count": 0,
      "outputs": []
    },
    {
      "metadata": {
        "id": "HBa7XHgqYbmX",
        "colab_type": "code",
        "colab": {
          "autoexec": {
            "startup": false,
            "wait_interval": 0
          }
        }
      },
      "cell_type": "code",
      "source": [
        "save_keras_model(keras_model, 'keras')"
      ],
      "execution_count": 0,
      "outputs": []
    },
    {
      "metadata": {
        "id": "-Y4QXI-4Yl8D",
        "colab_type": "code",
        "colab": {
          "autoexec": {
            "startup": false,
            "wait_interval": 0
          }
        }
      },
      "cell_type": "code",
      "source": [
        "!ls"
      ],
      "execution_count": 0,
      "outputs": []
    },
    {
      "metadata": {
        "id": "b3yFtGNTaKPk",
        "colab_type": "text"
      },
      "cell_type": "markdown",
      "source": [
        "# New Section"
      ]
    },
    {
      "metadata": {
        "id": "A9H1mNpgaP-0",
        "colab_type": "code",
        "colab": {
          "autoexec": {
            "startup": false,
            "wait_interval": 0
          }
        }
      },
      "cell_type": "code",
      "source": [
        "from google.colab import files\n",
        "\n",
        "\n",
        "files.download('kerasmodel.h5')\n",
        "files.download('kerasmodel.json')\n"
      ],
      "execution_count": 0,
      "outputs": []
    },
    {
      "metadata": {
        "id": "gyx8BZi6P87A",
        "colab_type": "text"
      },
      "cell_type": "markdown",
      "source": [
        ""
      ]
    },
    {
      "metadata": {
        "id": "Yf2bP-Oql3d_",
        "colab_type": "code",
        "colab": {
          "autoexec": {
            "startup": false,
            "wait_interval": 0
          }
        }
      },
      "cell_type": "code",
      "source": [
        "from keras.models import model_from_json\n",
        "model_path = 'kerasmodel'\n",
        "\n",
        "inf_model = model_from_json(open(model_path + '.json','r').read())\n",
        "inf_model.load_weights(model_path + '.h5')"
      ],
      "execution_count": 0,
      "outputs": []
    },
    {
      "metadata": {
        "id": "yRRItYYQameM",
        "colab_type": "code",
        "colab": {
          "autoexec": {
            "startup": false,
            "wait_interval": 0
          }
        }
      },
      "cell_type": "code",
      "source": [
        "def find_roots(img, ystart, ystop, scale, pix_per_cell,cell_per_block):#, svc, X_scaler, orient, pix_per_cell, cell_per_block,color_space,spatial_size, hist_bins):\n",
        "    \n",
        "    boxes=[]\n",
        "  \n",
        "    draw_img = np.copy(img)\n",
        "#     img = img.astype(np.float32)/255\n",
        "    \n",
        "    img_tosearch = img[ystart:ystop,:,:]\n",
        "#     ctrans_tosearch = hp.convert_color(img_tosearch, conv=color_space)\n",
        "    ctrans_tosearch = img_tosearch\n",
        "    if scale != 1:\n",
        "        imshape = ctrans_tosearch.shape\n",
        "        ctrans_tosearch = cv2.resize(ctrans_tosearch, (np.int(imshape[1]/scale), np.int(imshape[0]/scale)))\n",
        "        \n",
        "    ch1 = ctrans_tosearch[:,:,0]\n",
        "    ch2 = ctrans_tosearch[:,:,1]\n",
        "    ch3 = ctrans_tosearch[:,:,2]\n",
        "\n",
        "    # Define blocks and steps as above\n",
        "    nxblocks = (ch1.shape[1] // pix_per_cell) - cell_per_block + 1\n",
        "    nyblocks = (ch1.shape[0] // pix_per_cell) - cell_per_block + 1 \n",
        "#     nfeat_per_block = orient*cell_per_block**2\n",
        "    \n",
        "    # 64 was the orginal sampling rate, with 8 cells and 8 pix per cell\n",
        "    window = 64\n",
        "    nblocks_per_window = (window // pix_per_cell) - cell_per_block + 1\n",
        "    cells_per_step = 2  # Instead of overlap, define how many cells to step\n",
        "    nxsteps = (nxblocks - nblocks_per_window) // cells_per_step + 1\n",
        "    nysteps = (nyblocks - nblocks_per_window) // cells_per_step + 1\n",
        "    print(nxsteps)\n",
        "    \n",
        "#     # Compute individual channel HOG features for the entire image\n",
        "#     hog1 = get_hog_features(ch1, orient, pix_per_cell, cell_per_block, feature_vec=False)\n",
        "#     hog2 = get_hog_features(ch2, orient, pix_per_cell, cell_per_block, feature_vec=False)\n",
        "#     hog3 = get_hog_features(ch3, orient, pix_per_cell, cell_per_block, feature_vec=False)\n",
        "    \n",
        "    for xb in range(nxsteps):\n",
        "        for yb in range(nysteps):\n",
        "            ypos = yb*cells_per_step\n",
        "            xpos = xb*cells_per_step\n",
        "            # Extract HOG for this patch\n",
        "#             hog_feat1 = hog1[ypos:ypos+nblocks_per_window, xpos:xpos+nblocks_per_window].ravel() \n",
        "#             hog_feat2 = hog2[ypos:ypos+nblocks_per_window, xpos:xpos+nblocks_per_window].ravel() \n",
        "#             hog_feat3 = hog3[ypos:ypos+nblocks_per_window, xpos:xpos+nblocks_per_window].ravel() \n",
        "           \n",
        "#             hog_features = np.hstack((hog_feat1, hog_feat2, hog_feat3))\n",
        "            xleft = xpos*pix_per_cell\n",
        "            ytop = ypos*pix_per_cell\n",
        "\n",
        "            # Extract the image patch\n",
        "            subimg = cv2.resize(ctrans_tosearch[ytop:ytop+window, xleft:xleft+window], (58,58))\n",
        "#             plt.imshow(subimg)\n",
        "#             plt.show\n",
        "            # Get color features\n",
        "#             spatial_features = hp.bin_spatial(subimg, size=spatial_size)\n",
        "#             hist_features = hp.color_hist(subimg, nbins=hist_bins)\n",
        "\n",
        "            # Scale features and make a prediction\n",
        "#             test_features = X_scaler.transform(np.hstack((spatial_features, hog_features)).reshape(1, -1))    \n",
        "            #test_features = X_scaler.transform(np.hstack((shape_feat, hist_feat)).reshape(1, -1))    \n",
        "#             test_features = X_scaler.transform(np.hstack((hog_features)).reshape(1, -1))  \n",
        "            test_prediction = round(inf_model.predict(np.expand_dims(subimg, 0))[0, 0])\n",
        "#             print(test_prediction)\n",
        "#             test_prediction = svc.predict(test_features)\n",
        "            \n",
        "            if test_prediction == 1.0:\n",
        "                xbox_left = np.int(xleft*scale)\n",
        "                ytop_draw = np.int(ytop*scale)\n",
        "                win_draw = np.int(window*scale)\n",
        "                boxes.append(((xbox_left, ytop_draw+ystart),(xbox_left+win_draw,ytop_draw+win_draw+ystart)))\n",
        "                #boxes.append(((xbox_left, ytop_draw+ystart),(xbox_left+win_draw,ytop_draw+win_draw+ystart))#,(0,0,255),6)) \n",
        "                #cv2.rectangle(draw_img,(xbox_left, ytop_draw+ystart),(xbox_left+win_draw,ytop_draw+win_draw+ystart),(0,0,255),6) \n",
        "                \n",
        "    return boxes"
      ],
      "execution_count": 0,
      "outputs": []
    },
    {
      "metadata": {
        "id": "I17VmESzlgFZ",
        "colab_type": "code",
        "colab": {
          "autoexec": {
            "startup": false,
            "wait_interval": 0
          }
        }
      },
      "cell_type": "code",
      "source": [
        "def draw_boxes(img, bboxes, color=(0, 0, 255), thick=6):\n",
        "    # make a copy of the image\n",
        "    draw_img = np.copy(img)\n",
        "    # draw each bounding box on your image copy using cv2.rectangle()\n",
        "    # return the image copy with boxes drawn\n",
        "    for box in bboxes:\n",
        "        cv2.rectangle(draw_img,box[0],box[1],color,thick)\n",
        "    \n",
        "    return draw_img # Change this line to return image copy with boxes"
      ],
      "execution_count": 0,
      "outputs": []
    },
    {
      "metadata": {
        "id": "FQbGItNVUQVz",
        "colab_type": "code",
        "colab": {
          "autoexec": {
            "startup": false,
            "wait_interval": 0
          }
        }
      },
      "cell_type": "code",
      "source": [
        "# Convert hog image to RGB\n",
        "def hot_to_rgb(data):\n",
        "    data_ = (data - np.min(data)) / (np.max(data) - np.min(data))\n",
        "    my_cmap = plt.cm.get_cmap('hot')\n",
        "    color_array = my_cmap(data_)\n",
        "    final_array = (np.dstack((color_array[:,:,0],color_array[:,:,1],color_array[:,:,2]))*255).astype(np.uint8)    \n",
        "    return final_array"
      ],
      "execution_count": 0,
      "outputs": []
    },
    {
      "metadata": {
        "id": "B-xzLiRQljXt",
        "colab_type": "code",
        "colab": {
          "autoexec": {
            "startup": false,
            "wait_interval": 0
          },
          "base_uri": "https://localhost:8080/",
          "height": 402
        },
        "outputId": "05419d9e-d1f3-434e-ee82-2bd63b32bd2e",
        "executionInfo": {
          "status": "ok",
          "timestamp": 1531476236812,
          "user_tz": -330,
          "elapsed": 2593,
          "user": {
            "displayName": "anupam behera",
            "photoUrl": "//lh4.googleusercontent.com/-nt7z4H6Xjm8/AAAAAAAAAAI/AAAAAAAAAC4/rGjoKFTe_MI/s50-c-k-no/photo.jpg",
            "userId": "100554187957869533306"
          }
        }
      },
      "cell_type": "code",
      "source": [
        "import matplotlib.pyplot as plt\n",
        "ystart = 30\n",
        "ystop = 270\n",
        "scale = 1.5\n",
        "pix_per_cell=8\n",
        "cell_per_block=2\n",
        "test_images=glob.glob('test_images/treeroot.JPG')\n",
        "print(test_images)\n",
        "for fname in test_images:\n",
        "    print(fname)\n",
        "    test_img=mpimg.imread(fname)\n",
        "    plt.imshow(test_img)\n",
        "    #plt.subplot(6,1,i)\n",
        "    boxes=find_roots(test_img, ystart, ystop, scale, pix_per_cell,cell_per_block ) #, clf, X_scaler, orient, pix_per_cell, cell_per_block,color_space,spatial_size, hist_bins)\n",
        "    #print(boxes[0][0])\n",
        "    test_out_img=draw_boxes(test_img,boxes)\n",
        "    plt.imshow(test_out_img)\n",
        "    plt.show()"
      ],
      "execution_count": 45,
      "outputs": [
        {
          "output_type": "stream",
          "text": [
            "['test_images/treeroot.JPG']\n",
            "test_images/treeroot.JPG\n",
            "13\n"
          ],
          "name": "stdout"
        },
        {
          "output_type": "display_data",
          "data": {
            "image/png": "[encoded data removed]",
            "text/plain": [
              "<matplotlib.figure.Figure at 0x7fddd7a78588>"
            ]
          },
          "metadata": {
            "tags": []
          }
        }
      ]
    },
    {
      "metadata": {
        "id": "UuNwTLSqlqIm",
        "colab_type": "code",
        "colab": {
          "autoexec": {
            "startup": false,
            "wait_interval": 0
          }
        }
      },
      "cell_type": "code",
      "source": [
        "os.chdir(\"test_images\")\n"
      ],
      "execution_count": 0,
      "outputs": []
    },
    {
      "metadata": {
        "id": "-utT7xAAZGGL",
        "colab_type": "code",
        "colab": {
          "autoexec": {
            "startup": false,
            "wait_interval": 0
          },
          "base_uri": "https://localhost:8080/",
          "height": 366
        },
        "outputId": "df219325-24d3-4867-b20a-c578fa83196c",
        "executionInfo": {
          "status": "ok",
          "timestamp": 1531476251205,
          "user_tz": -330,
          "elapsed": 1543,
          "user": {
            "displayName": "anupam behera",
            "photoUrl": "//lh4.googleusercontent.com/-nt7z4H6Xjm8/AAAAAAAAAAI/AAAAAAAAAC4/rGjoKFTe_MI/s50-c-k-no/photo.jpg",
            "userId": "100554187957869533306"
          }
        }
      },
      "cell_type": "code",
      "source": [
        "plt.imshow(mpimg.imread( \"data/non_tree/1.JPG\"))"
      ],
      "execution_count": 46,
      "outputs": [
        {
          "output_type": "execute_result",
          "data": {
            "text/plain": [
              "<matplotlib.image.AxesImage at 0x7fddd7e4ecf8>"
            ]
          },
          "metadata": {
            "tags": []
          },
          "execution_count": 46
        },
        {
          "output_type": "display_data",
          "data": {
            "image/png": "[encoded data removed]",
            "text/plain": [
              "<matplotlib.figure.Figure at 0x7fddd79ce198>"
            ]
          },
          "metadata": {
            "tags": []
          }
        }
      ]
    },
    {
      "metadata": {
        "id": "HA55Mrm3mtmz",
        "colab_type": "code",
        "colab": {
          "autoexec": {
            "startup": false,
            "wait_interval": 0
          },
          "base_uri": "https://localhost:8080/",
          "height": 34
        },
        "outputId": "a810988b-02ad-4550-9b42-31a498c121ea",
        "executionInfo": {
          "status": "ok",
          "timestamp": 1531476254804,
          "user_tz": -330,
          "elapsed": 1172,
          "user": {
            "displayName": "anupam behera",
            "photoUrl": "//lh4.googleusercontent.com/-nt7z4H6Xjm8/AAAAAAAAAAI/AAAAAAAAAC4/rGjoKFTe_MI/s50-c-k-no/photo.jpg",
            "userId": "100554187957869533306"
          }
        }
      },
      "cell_type": "code",
      "source": [
        "im = mpimg.imread( \"data/non_tree/1.JPG\")\n",
        "im = cv2.resize(im,(58,58))\n",
        "print( round(inf_model.predict(np.expand_dims(im, 0))[0, 0]))"
      ],
      "execution_count": 47,
      "outputs": [
        {
          "output_type": "stream",
          "text": [
            "0.0\n"
          ],
          "name": "stdout"
        }
      ]
    },
    {
      "metadata": {
        "id": "af3PNA-KafWG",
        "colab_type": "code",
        "colab": {
          "autoexec": {
            "startup": false,
            "wait_interval": 0
          },
          "base_uri": "https://localhost:8080/",
          "height": 173
        },
        "outputId": "f7beea10-43c7-46b4-cdfe-4a25fd359146",
        "executionInfo": {
          "status": "ok",
          "timestamp": 1531454768412,
          "user_tz": -330,
          "elapsed": 2507,
          "user": {
            "displayName": "anupam behera",
            "photoUrl": "//lh4.googleusercontent.com/-nt7z4H6Xjm8/AAAAAAAAAAI/AAAAAAAAAC4/rGjoKFTe_MI/s50-c-k-no/photo.jpg",
            "userId": "100554187957869533306"
          }
        }
      },
      "cell_type": "code",
      "source": [
        "!ls"
      ],
      "execution_count": 41,
      "outputs": [
        {
          "output_type": "stream",
          "text": [
            "classifiers\t\t       __pycache__\r\n",
            "data\t\t\t       Selection_107.jpg\r\n",
            "fault1.mp4\t\t       Selection_108.jpg\r\n",
            "fault7.mp4\t\t       Selection_109.jpg\r\n",
            "Hello,_Colaboratory (1).ipynb  Selection_110.jpg\r\n",
            "Hello,_Colaboratory (2).ipynb  test_image2.png\r\n",
            "helper.py\t\t       test_images\r\n",
            "kerasmodel.h5\t\t       tree_root_intrusion_detection.ipynb\r\n",
            "kerasmodel.json\t\t       videos\r\n"
          ],
          "name": "stdout"
        }
      ]
    },
    {
      "metadata": {
        "id": "guLV6_XwOeaO",
        "colab_type": "code",
        "colab": {
          "autoexec": {
            "startup": false,
            "wait_interval": 0
          }
        }
      },
      "cell_type": "code",
      "source": [
        "from scipy.ndimage.measurements import label\n",
        "def add_heat(heatmap, bbox_list):\n",
        "    # Iterate through list of bboxes\n",
        "    for box in bbox_list:\n",
        "        # Add += 1 for all pixels inside each bbox\n",
        "        # Assuming each \"box\" takes the form ((x1, y1), (x2, y2))\n",
        "        heatmap[box[0][1]:box[1][1], box[0][0]:box[1][0]] += 1\n",
        "\n",
        "    # Return updated heatmap\n",
        "    return heatmap# Iterate through list of bboxes\n",
        "    \n",
        "def apply_threshold(heatmap, threshold):\n",
        "    # Zero out pixels below the threshold\n",
        "    heatmap[heatmap <= threshold] = 0\n",
        "    # Return thresholded map\n",
        "    return heatmap\n",
        "\n",
        "def draw_labeled_bboxes(img, labels):\n",
        "    # Iterate through all detected cars\n",
        "    for car_number in range(1, labels[1]+1):\n",
        "        # Find pixels with each car_number label value\n",
        "        nonzero = (labels[0] == car_number).nonzero()\n",
        "        # Identify x and y values of those pixels\n",
        "        nonzeroy = np.array(nonzero[0])\n",
        "        nonzerox = np.array(nonzero[1])\n",
        "        # Define a bounding box based on min/max x and y\n",
        "        bbox = ((np.min(nonzerox), np.min(nonzeroy)), (np.max(nonzerox), np.max(nonzeroy)))\n",
        "        # Draw the box on the image\n",
        "        cv2.rectangle(img, bbox[0], bbox[1], (0,0,255), 6)\n",
        "    # Return the image\n",
        "    return img"
      ],
      "execution_count": 0,
      "outputs": []
    },
    {
      "metadata": {
        "id": "TVhznsd95_oZ",
        "colab_type": "code",
        "colab": {
          "autoexec": {
            "startup": false,
            "wait_interval": 0
          }
        }
      },
      "cell_type": "code",
      "source": [
        "#print(scales,ystarts)\n",
        "from collections import deque\n",
        "\n",
        "# ystart = 30\n",
        "# ystop = 270\n",
        "# scale = 1.5\n",
        "\n",
        "\n",
        "ystart = 250\n",
        "ystop = 720\n",
        "scale = 1.5\n",
        "\n",
        "heat_history=deque(maxlen=8)\n",
        "def process_frame(image):\n",
        "    boxes=[]\n",
        "#     for i in range(len(scales)):\n",
        "    boxes.append(find_roots(image, ystart, ystop, scale, pix_per_cell,cell_per_block )) #find_roots(image, ystart, ystop, scale, svc, X_scaler, orient, pix_per_cell, cell_per_block,color_space,spatial_size, hist_bins))\n",
        "    \n",
        "    boxes = [item for sublist in boxes for item in sublist] \n",
        "    heatmap_img = np.zeros_like(image[:,:,0])\n",
        "    heatmap_img = add_heat(heatmap_img, boxes)\n",
        "    \n",
        "#     heat_history.append(heatmap_img)\n",
        "#     heatmap_img = np.array(heat_history).sum(axis=0)\n",
        "    heatmap_img = apply_threshold(heatmap_img,2)\n",
        "    \n",
        "    # # Find final boxes from heatmap using label function\n",
        "    labels = label(heatmap_img)\n",
        "    heatmap_img = hot_to_rgb(heatmap_img)\n",
        "    draw_img = draw_labeled_bboxes(np.copy(image), labels)\n",
        "    draw_img[0:150,0:150,:] = cv2.resize(heatmap_img,(150,150))\n",
        "#     draw_img = draw_boxes(image,boxes)\n",
        "    \n",
        "    return draw_img\n"
      ],
      "execution_count": 0,
      "outputs": []
    },
    {
      "metadata": {
        "id": "5D6O2jqW-G7e",
        "colab_type": "code",
        "colab": {
          "autoexec": {
            "startup": false,
            "wait_interval": 0
          },
          "base_uri": "https://localhost:8080/",
          "height": 347
        },
        "outputId": "0ab51f75-48b2-436d-f8f4-998fbadf1198",
        "executionInfo": {
          "status": "ok",
          "timestamp": 1531476324911,
          "user_tz": -330,
          "elapsed": 6617,
          "user": {
            "displayName": "anupam behera",
            "photoUrl": "//lh4.googleusercontent.com/-nt7z4H6Xjm8/AAAAAAAAAAI/AAAAAAAAAC4/rGjoKFTe_MI/s50-c-k-no/photo.jpg",
            "userId": "100554187957869533306"
          }
        }
      },
      "cell_type": "code",
      "source": [
        "!pip install moviepy"
      ],
      "execution_count": 51,
      "outputs": [
        {
          "output_type": "stream",
          "text": [
            "Collecting moviepy\n",
            "\u001b[?25l  Downloading https://files.pythonhosted.org/packages/1f/af/98b68b047c47d9430cb4c9ac899cf9d969de3936f888072991ea74da93a8/moviepy-0.2.3.5.tar.gz (372kB)\n",
            "\u001b[K    100% |████████████████████████████████| 378kB 5.0MB/s \n",
            "\u001b[?25hRequirement already satisfied: decorator<5.0,>=4.0.2 in /usr/local/lib/python3.6/dist-packages (from moviepy) (4.3.0)\n",
            "Collecting imageio<3.0,>=2.1.2 (from moviepy)\n",
            "\u001b[?25l  Downloading https://files.pythonhosted.org/packages/a7/1d/33c8686072148b3b0fcc12a2e0857dd8316b8ae20a0fa66c8d6a6d01c05c/imageio-2.3.0-py2.py3-none-any.whl (3.3MB)\n",
            "\u001b[K    100% |████████████████████████████████| 3.3MB 5.3MB/s \n",
            "\u001b[?25hCollecting tqdm<5.0,>=4.11.2 (from moviepy)\n",
            "\u001b[?25l  Downloading https://files.pythonhosted.org/packages/93/24/6ab1df969db228aed36a648a8959d1027099ce45fad67532b9673d533318/tqdm-4.23.4-py2.py3-none-any.whl (42kB)\n",
            "\u001b[K    100% |████████████████████████████████| 51kB 14.9MB/s \n",
            "\u001b[?25hRequirement already satisfied: numpy in /usr/local/lib/python3.6/dist-packages (from moviepy) (1.14.5)\n",
            "Requirement already satisfied: pillow in /usr/local/lib/python3.6/dist-packages (from imageio<3.0,>=2.1.2->moviepy) (4.0.0)\n",
            "Requirement already satisfied: olefile in /usr/local/lib/python3.6/dist-packages (from pillow->imageio<3.0,>=2.1.2->moviepy) (0.45.1)\n",
            "Building wheels for collected packages: moviepy\n",
            "  Running setup.py bdist_wheel for moviepy ... \u001b[?25l-\b \b\\\b \bdone\n",
            "\u001b[?25h  Stored in directory: /content/.cache/pip/wheels/ad/92/4d/a6c6307d4c2219d002646bd4a5987e31fd5697f6ea7778b2c0\n",
            "Successfully built moviepy\n",
            "Installing collected packages: imageio, tqdm, moviepy\n",
            "Successfully installed imageio-2.3.0 moviepy-0.2.3.5 tqdm-4.23.4\n"
          ],
          "name": "stdout"
        }
      ]
    },
    {
      "metadata": {
        "id": "TLfiSmYa96ao",
        "colab_type": "code",
        "colab": {
          "autoexec": {
            "startup": false,
            "wait_interval": 0
          },
          "base_uri": "https://localhost:8080/",
          "height": 2952
        },
        "outputId": "660ef4e2-efc9-4b99-bc26-d30b1a048ec9"
      },
      "cell_type": "code",
      "source": [
        "from moviepy.editor import VideoFileClip\n",
        "\n",
        "output_location = 'fault7_output_try.mp4'\n",
        "# output_location = 'fault1_output.mp4'\n",
        "## To speed up the testing process you may want to try your pipeline on a shorter subclip of the video\n",
        "## To do so add .subclip(start_second,end_second) to the end of the line below\n",
        "## Where start_second and end_second are integer values representing the start and end of the subclip\n",
        "## You may also uncomment the following line for a subclip of the first 5 seconds\n",
        "##clip1 = VideoFileClip(\"test_videos/solidWhiteRight.mp4\").subclip(0,5)\n",
        "video_input = VideoFileClip(\"fault7.mp4\").subclip(0,10)\n",
        "\n",
        "video_output = video_input.fl_image(process_frame) #NOTE: this function expects color images!!\n",
        "\n",
        "#%time undist_clip.write_videofile(undist_output, audio=False)\n",
        "# print(\"anupam\")\n",
        "video_output.write_videofile(output_location, audio=False)\n",
        "video_input.reader.close()\n",
        "video_input.audio.reader.close_proc()\n",
        "video_output.reader.close()\n",
        "video_output.audio.reader.close_proc()"
      ],
      "execution_count": 0,
      "outputs": [
        {
          "output_type": "stream",
          "text": [
            "37\n",
            "[MoviePy] >>>> Building video fault7_output_try.mp4\n",
            "[MoviePy] Writing video fault7_output_try.mp4\n"
          ],
          "name": "stdout"
        },
        {
          "output_type": "stream",
          "text": [
            "\r  0%|          | 0/300 [00:00<?, ?it/s]"
          ],
          "name": "stderr"
        },
        {
          "output_type": "stream",
          "text": [
            "37\n"
          ],
          "name": "stdout"
        },
        {
          "output_type": "stream",
          "text": [
            "\r  0%|          | 1/300 [00:02<10:23,  2.08s/it]"
          ],
          "name": "stderr"
        },
        {
          "output_type": "stream",
          "text": [
            "37\n"
          ],
          "name": "stdout"
        },
        {
          "output_type": "stream",
          "text": [
            "\r  1%|          | 2/300 [00:04<10:07,  2.04s/it]"
          ],
          "name": "stderr"
        },
        {
          "output_type": "stream",
          "text": [
            "37\n"
          ],
          "name": "stdout"
        },
        {
          "output_type": "stream",
          "text": [
            "\r  1%|          | 3/300 [00:06<10:06,  2.04s/it]"
          ],
          "name": "stderr"
        },
        {
          "output_type": "stream",
          "text": [
            "37\n"
          ],
          "name": "stdout"
        },
        {
          "output_type": "stream",
          "text": [
            "\r  1%|▏         | 4/300 [00:08<10:02,  2.03s/it]"
          ],
          "name": "stderr"
        },
        {
          "output_type": "stream",
          "text": [
            "37\n"
          ],
          "name": "stdout"
        },
        {
          "output_type": "stream",
          "text": [
            "\r  2%|▏         | 5/300 [00:10<09:58,  2.03s/it]"
          ],
          "name": "stderr"
        },
        {
          "output_type": "stream",
          "text": [
            "37\n"
          ],
          "name": "stdout"
        },
        {
          "output_type": "stream",
          "text": [
            "\r  2%|▏         | 6/300 [00:12<09:54,  2.02s/it]"
          ],
          "name": "stderr"
        },
        {
          "output_type": "stream",
          "text": [
            "37\n"
          ],
          "name": "stdout"
        },
        {
          "output_type": "stream",
          "text": [
            "\r  2%|▏         | 7/300 [00:14<09:52,  2.02s/it]"
          ],
          "name": "stderr"
        },
        {
          "output_type": "stream",
          "text": [
            "37\n"
          ],
          "name": "stdout"
        },
        {
          "output_type": "stream",
          "text": [
            "\r  3%|▎         | 8/300 [00:16<09:49,  2.02s/it]"
          ],
          "name": "stderr"
        },
        {
          "output_type": "stream",
          "text": [
            "37\n"
          ],
          "name": "stdout"
        },
        {
          "output_type": "stream",
          "text": [
            "\r  3%|▎         | 9/300 [00:18<09:46,  2.01s/it]"
          ],
          "name": "stderr"
        },
        {
          "output_type": "stream",
          "text": [
            "37\n"
          ],
          "name": "stdout"
        },
        {
          "output_type": "stream",
          "text": [
            "\r  3%|▎         | 10/300 [00:20<09:46,  2.02s/it]"
          ],
          "name": "stderr"
        },
        {
          "output_type": "stream",
          "text": [
            "37\n"
          ],
          "name": "stdout"
        },
        {
          "output_type": "stream",
          "text": [
            "\r  4%|▎         | 11/300 [00:22<09:47,  2.03s/it]"
          ],
          "name": "stderr"
        },
        {
          "output_type": "stream",
          "text": [
            "37\n"
          ],
          "name": "stdout"
        },
        {
          "output_type": "stream",
          "text": [
            "\r  4%|▍         | 12/300 [00:24<09:47,  2.04s/it]"
          ],
          "name": "stderr"
        },
        {
          "output_type": "stream",
          "text": [
            "37\n"
          ],
          "name": "stdout"
        },
        {
          "output_type": "stream",
          "text": [
            "\r  4%|▍         | 13/300 [00:26<09:45,  2.04s/it]"
          ],
          "name": "stderr"
        },
        {
          "output_type": "stream",
          "text": [
            "37\n"
          ],
          "name": "stdout"
        },
        {
          "output_type": "stream",
          "text": [
            "\r  5%|▍         | 14/300 [00:28<09:44,  2.04s/it]"
          ],
          "name": "stderr"
        },
        {
          "output_type": "stream",
          "text": [
            "37\n"
          ],
          "name": "stdout"
        },
        {
          "output_type": "stream",
          "text": [
            "\r  5%|▌         | 15/300 [00:30<09:43,  2.05s/it]"
          ],
          "name": "stderr"
        },
        {
          "output_type": "stream",
          "text": [
            "37\n"
          ],
          "name": "stdout"
        },
        {
          "output_type": "stream",
          "text": [
            "\r  5%|▌         | 16/300 [00:32<09:42,  2.05s/it]"
          ],
          "name": "stderr"
        },
        {
          "output_type": "stream",
          "text": [
            "37\n"
          ],
          "name": "stdout"
        },
        {
          "output_type": "stream",
          "text": [
            "\r  6%|▌         | 17/300 [00:35<09:42,  2.06s/it]"
          ],
          "name": "stderr"
        },
        {
          "output_type": "stream",
          "text": [
            "37\n"
          ],
          "name": "stdout"
        },
        {
          "output_type": "stream",
          "text": [
            "\r  6%|▌         | 18/300 [00:37<09:44,  2.07s/it]"
          ],
          "name": "stderr"
        },
        {
          "output_type": "stream",
          "text": [
            "37\n"
          ],
          "name": "stdout"
        },
        {
          "output_type": "stream",
          "text": [
            "\r  6%|▋         | 19/300 [00:39<09:45,  2.09s/it]"
          ],
          "name": "stderr"
        },
        {
          "output_type": "stream",
          "text": [
            "37\n"
          ],
          "name": "stdout"
        },
        {
          "output_type": "stream",
          "text": [
            "\r  7%|▋         | 20/300 [00:41<09:44,  2.09s/it]"
          ],
          "name": "stderr"
        },
        {
          "output_type": "stream",
          "text": [
            "37\n"
          ],
          "name": "stdout"
        },
        {
          "output_type": "stream",
          "text": [
            "\r  7%|▋         | 21/300 [00:43<09:42,  2.09s/it]"
          ],
          "name": "stderr"
        },
        {
          "output_type": "stream",
          "text": [
            "37\n"
          ],
          "name": "stdout"
        },
        {
          "output_type": "stream",
          "text": [
            "\r  7%|▋         | 22/300 [00:45<09:40,  2.09s/it]"
          ],
          "name": "stderr"
        },
        {
          "output_type": "stream",
          "text": [
            "37\n"
          ],
          "name": "stdout"
        },
        {
          "output_type": "stream",
          "text": [
            "\r  8%|▊         | 23/300 [00:48<09:39,  2.09s/it]"
          ],
          "name": "stderr"
        },
        {
          "output_type": "stream",
          "text": [
            "37\n"
          ],
          "name": "stdout"
        },
        {
          "output_type": "stream",
          "text": [
            "\r  8%|▊         | 24/300 [00:50<09:37,  2.09s/it]"
          ],
          "name": "stderr"
        },
        {
          "output_type": "stream",
          "text": [
            "37\n"
          ],
          "name": "stdout"
        },
        {
          "output_type": "stream",
          "text": [
            "\r  8%|▊         | 25/300 [00:52<09:35,  2.09s/it]"
          ],
          "name": "stderr"
        },
        {
          "output_type": "stream",
          "text": [
            "37\n"
          ],
          "name": "stdout"
        },
        {
          "output_type": "stream",
          "text": [
            "\r  9%|▊         | 26/300 [00:54<09:33,  2.09s/it]"
          ],
          "name": "stderr"
        },
        {
          "output_type": "stream",
          "text": [
            "37\n"
          ],
          "name": "stdout"
        },
        {
          "output_type": "stream",
          "text": [
            "\r  9%|▉         | 27/300 [00:56<09:31,  2.09s/it]"
          ],
          "name": "stderr"
        },
        {
          "output_type": "stream",
          "text": [
            "37\n"
          ],
          "name": "stdout"
        },
        {
          "output_type": "stream",
          "text": [
            "\r  9%|▉         | 28/300 [00:58<09:28,  2.09s/it]"
          ],
          "name": "stderr"
        },
        {
          "output_type": "stream",
          "text": [
            "37\n"
          ],
          "name": "stdout"
        },
        {
          "output_type": "stream",
          "text": [
            "\r 10%|▉         | 29/300 [01:00<09:26,  2.09s/it]"
          ],
          "name": "stderr"
        },
        {
          "output_type": "stream",
          "text": [
            "37\n"
          ],
          "name": "stdout"
        },
        {
          "output_type": "stream",
          "text": [
            "\r 10%|█         | 30/300 [01:02<09:23,  2.09s/it]"
          ],
          "name": "stderr"
        },
        {
          "output_type": "stream",
          "text": [
            "37\n"
          ],
          "name": "stdout"
        },
        {
          "output_type": "stream",
          "text": [
            "\r 10%|█         | 31/300 [01:04<09:22,  2.09s/it]"
          ],
          "name": "stderr"
        },
        {
          "output_type": "stream",
          "text": [
            "37\n"
          ],
          "name": "stdout"
        },
        {
          "output_type": "stream",
          "text": [
            "\r 11%|█         | 32/300 [01:06<09:20,  2.09s/it]"
          ],
          "name": "stderr"
        },
        {
          "output_type": "stream",
          "text": [
            "37\n"
          ],
          "name": "stdout"
        },
        {
          "output_type": "stream",
          "text": [
            "\r 11%|█         | 33/300 [01:09<09:18,  2.09s/it]"
          ],
          "name": "stderr"
        },
        {
          "output_type": "stream",
          "text": [
            "37\n"
          ],
          "name": "stdout"
        },
        {
          "output_type": "stream",
          "text": [
            "\r 11%|█▏        | 34/300 [01:11<09:16,  2.09s/it]"
          ],
          "name": "stderr"
        },
        {
          "output_type": "stream",
          "text": [
            "37\n"
          ],
          "name": "stdout"
        },
        {
          "output_type": "stream",
          "text": [
            "\r 12%|█▏        | 35/300 [01:13<09:14,  2.09s/it]"
          ],
          "name": "stderr"
        },
        {
          "output_type": "stream",
          "text": [
            "37\n"
          ],
          "name": "stdout"
        },
        {
          "output_type": "stream",
          "text": [
            "\r 12%|█▏        | 36/300 [01:15<09:12,  2.09s/it]"
          ],
          "name": "stderr"
        },
        {
          "output_type": "stream",
          "text": [
            "37\n"
          ],
          "name": "stdout"
        },
        {
          "output_type": "stream",
          "text": [
            "\r 12%|█▏        | 37/300 [01:17<09:11,  2.10s/it]"
          ],
          "name": "stderr"
        },
        {
          "output_type": "stream",
          "text": [
            "37\n"
          ],
          "name": "stdout"
        },
        {
          "output_type": "stream",
          "text": [
            "\r 13%|█▎        | 38/300 [01:19<09:08,  2.09s/it]"
          ],
          "name": "stderr"
        },
        {
          "output_type": "stream",
          "text": [
            "37\n"
          ],
          "name": "stdout"
        },
        {
          "output_type": "stream",
          "text": [
            "\r 13%|█▎        | 39/300 [01:21<09:06,  2.09s/it]"
          ],
          "name": "stderr"
        },
        {
          "output_type": "stream",
          "text": [
            "37\n"
          ],
          "name": "stdout"
        },
        {
          "output_type": "stream",
          "text": [
            "\r 13%|█▎        | 40/300 [01:23<09:04,  2.10s/it]"
          ],
          "name": "stderr"
        },
        {
          "output_type": "stream",
          "text": [
            "37\n"
          ],
          "name": "stdout"
        },
        {
          "output_type": "stream",
          "text": [
            "\r 14%|█▎        | 41/300 [01:25<09:02,  2.10s/it]"
          ],
          "name": "stderr"
        },
        {
          "output_type": "stream",
          "text": [
            "37\n"
          ],
          "name": "stdout"
        },
        {
          "output_type": "stream",
          "text": [
            "\r 14%|█▍        | 42/300 [01:28<09:00,  2.10s/it]"
          ],
          "name": "stderr"
        },
        {
          "output_type": "stream",
          "text": [
            "37\n"
          ],
          "name": "stdout"
        },
        {
          "output_type": "stream",
          "text": [
            "\r 14%|█▍        | 43/300 [01:30<08:59,  2.10s/it]"
          ],
          "name": "stderr"
        },
        {
          "output_type": "stream",
          "text": [
            "37\n"
          ],
          "name": "stdout"
        },
        {
          "output_type": "stream",
          "text": [
            "\r 15%|█▍        | 44/300 [01:32<08:57,  2.10s/it]"
          ],
          "name": "stderr"
        },
        {
          "output_type": "stream",
          "text": [
            "37\n"
          ],
          "name": "stdout"
        },
        {
          "output_type": "stream",
          "text": [
            "\r 15%|█▌        | 45/300 [01:34<08:55,  2.10s/it]"
          ],
          "name": "stderr"
        },
        {
          "output_type": "stream",
          "text": [
            "37\n"
          ],
          "name": "stdout"
        },
        {
          "output_type": "stream",
          "text": [
            "\r 15%|█▌        | 46/300 [01:36<08:53,  2.10s/it]"
          ],
          "name": "stderr"
        },
        {
          "output_type": "stream",
          "text": [
            "37\n"
          ],
          "name": "stdout"
        },
        {
          "output_type": "stream",
          "text": [
            "\r 16%|█▌        | 47/300 [01:38<08:51,  2.10s/it]"
          ],
          "name": "stderr"
        },
        {
          "output_type": "stream",
          "text": [
            "37\n"
          ],
          "name": "stdout"
        },
        {
          "output_type": "stream",
          "text": [
            "\r 16%|█▌        | 48/300 [01:40<08:49,  2.10s/it]"
          ],
          "name": "stderr"
        },
        {
          "output_type": "stream",
          "text": [
            "37\n"
          ],
          "name": "stdout"
        },
        {
          "output_type": "stream",
          "text": [
            "\r 16%|█▋        | 49/300 [01:43<08:47,  2.10s/it]"
          ],
          "name": "stderr"
        },
        {
          "output_type": "stream",
          "text": [
            "37\n"
          ],
          "name": "stdout"
        },
        {
          "output_type": "stream",
          "text": [
            "\r 17%|█▋        | 50/300 [01:45<08:45,  2.10s/it]"
          ],
          "name": "stderr"
        },
        {
          "output_type": "stream",
          "text": [
            "37\n"
          ],
          "name": "stdout"
        },
        {
          "output_type": "stream",
          "text": [
            "\r 17%|█▋        | 51/300 [01:47<08:43,  2.10s/it]"
          ],
          "name": "stderr"
        },
        {
          "output_type": "stream",
          "text": [
            "37\n"
          ],
          "name": "stdout"
        },
        {
          "output_type": "stream",
          "text": [
            "\r 17%|█▋        | 52/300 [01:49<08:41,  2.10s/it]"
          ],
          "name": "stderr"
        },
        {
          "output_type": "stream",
          "text": [
            "37\n"
          ],
          "name": "stdout"
        },
        {
          "output_type": "stream",
          "text": [
            "\r 18%|█▊        | 53/300 [01:51<08:39,  2.10s/it]"
          ],
          "name": "stderr"
        },
        {
          "output_type": "stream",
          "text": [
            "37\n"
          ],
          "name": "stdout"
        },
        {
          "output_type": "stream",
          "text": [
            "\r 18%|█▊        | 54/300 [01:53<08:37,  2.10s/it]"
          ],
          "name": "stderr"
        },
        {
          "output_type": "stream",
          "text": [
            "37\n"
          ],
          "name": "stdout"
        },
        {
          "output_type": "stream",
          "text": [
            "\r 18%|█▊        | 55/300 [01:55<08:35,  2.10s/it]"
          ],
          "name": "stderr"
        },
        {
          "output_type": "stream",
          "text": [
            "37\n"
          ],
          "name": "stdout"
        },
        {
          "output_type": "stream",
          "text": [
            "\r 19%|█▊        | 56/300 [01:57<08:33,  2.10s/it]"
          ],
          "name": "stderr"
        },
        {
          "output_type": "stream",
          "text": [
            "37\n"
          ],
          "name": "stdout"
        },
        {
          "output_type": "stream",
          "text": [
            "\r 19%|█▉        | 57/300 [01:59<08:31,  2.10s/it]"
          ],
          "name": "stderr"
        },
        {
          "output_type": "stream",
          "text": [
            "37\n"
          ],
          "name": "stdout"
        },
        {
          "output_type": "stream",
          "text": [
            "\r 19%|█▉        | 58/300 [02:02<08:29,  2.11s/it]"
          ],
          "name": "stderr"
        },
        {
          "output_type": "stream",
          "text": [
            "37\n"
          ],
          "name": "stdout"
        },
        {
          "output_type": "stream",
          "text": [
            "\r 20%|█▉        | 59/300 [02:04<08:28,  2.11s/it]"
          ],
          "name": "stderr"
        },
        {
          "output_type": "stream",
          "text": [
            "37\n"
          ],
          "name": "stdout"
        },
        {
          "output_type": "stream",
          "text": [
            "\r 20%|██        | 60/300 [02:06<08:26,  2.11s/it]"
          ],
          "name": "stderr"
        },
        {
          "output_type": "stream",
          "text": [
            "37\n"
          ],
          "name": "stdout"
        },
        {
          "output_type": "stream",
          "text": [
            "\r 20%|██        | 61/300 [02:08<08:24,  2.11s/it]"
          ],
          "name": "stderr"
        },
        {
          "output_type": "stream",
          "text": [
            "37\n"
          ],
          "name": "stdout"
        },
        {
          "output_type": "stream",
          "text": [
            "\r 21%|██        | 62/300 [02:10<08:21,  2.11s/it]"
          ],
          "name": "stderr"
        },
        {
          "output_type": "stream",
          "text": [
            "37\n"
          ],
          "name": "stdout"
        },
        {
          "output_type": "stream",
          "text": [
            "\r 21%|██        | 63/300 [02:12<08:19,  2.11s/it]"
          ],
          "name": "stderr"
        },
        {
          "output_type": "stream",
          "text": [
            "37\n"
          ],
          "name": "stdout"
        },
        {
          "output_type": "stream",
          "text": [
            "\r 21%|██▏       | 64/300 [02:14<08:17,  2.11s/it]"
          ],
          "name": "stderr"
        },
        {
          "output_type": "stream",
          "text": [
            "37\n"
          ],
          "name": "stdout"
        },
        {
          "output_type": "stream",
          "text": [
            "\r 22%|██▏       | 65/300 [02:17<08:15,  2.11s/it]"
          ],
          "name": "stderr"
        },
        {
          "output_type": "stream",
          "text": [
            "37\n"
          ],
          "name": "stdout"
        },
        {
          "output_type": "stream",
          "text": [
            "\r 22%|██▏       | 66/300 [02:19<08:13,  2.11s/it]"
          ],
          "name": "stderr"
        },
        {
          "output_type": "stream",
          "text": [
            "37\n"
          ],
          "name": "stdout"
        },
        {
          "output_type": "stream",
          "text": [
            "\r 22%|██▏       | 67/300 [02:21<08:11,  2.11s/it]"
          ],
          "name": "stderr"
        },
        {
          "output_type": "stream",
          "text": [
            "37\n"
          ],
          "name": "stdout"
        },
        {
          "output_type": "stream",
          "text": [
            "\r 23%|██▎       | 68/300 [02:23<08:10,  2.11s/it]"
          ],
          "name": "stderr"
        },
        {
          "output_type": "stream",
          "text": [
            "37\n"
          ],
          "name": "stdout"
        },
        {
          "output_type": "stream",
          "text": [
            "\r 23%|██▎       | 69/300 [02:25<08:08,  2.11s/it]"
          ],
          "name": "stderr"
        },
        {
          "output_type": "stream",
          "text": [
            "37\n"
          ],
          "name": "stdout"
        },
        {
          "output_type": "stream",
          "text": [
            "\r 23%|██▎       | 70/300 [02:27<08:05,  2.11s/it]"
          ],
          "name": "stderr"
        },
        {
          "output_type": "stream",
          "text": [
            "37\n"
          ],
          "name": "stdout"
        },
        {
          "output_type": "stream",
          "text": [
            "\r 24%|██▎       | 71/300 [02:30<08:03,  2.11s/it]"
          ],
          "name": "stderr"
        },
        {
          "output_type": "stream",
          "text": [
            "37\n"
          ],
          "name": "stdout"
        },
        {
          "output_type": "stream",
          "text": [
            "\r 24%|██▍       | 72/300 [02:32<08:01,  2.11s/it]"
          ],
          "name": "stderr"
        },
        {
          "output_type": "stream",
          "text": [
            "37\n"
          ],
          "name": "stdout"
        },
        {
          "output_type": "stream",
          "text": [
            "\r 24%|██▍       | 73/300 [02:34<07:59,  2.11s/it]"
          ],
          "name": "stderr"
        },
        {
          "output_type": "stream",
          "text": [
            "37\n"
          ],
          "name": "stdout"
        },
        {
          "output_type": "stream",
          "text": [
            "\r 25%|██▍       | 74/300 [02:36<07:57,  2.11s/it]"
          ],
          "name": "stderr"
        },
        {
          "output_type": "stream",
          "text": [
            "37\n"
          ],
          "name": "stdout"
        },
        {
          "output_type": "stream",
          "text": [
            "\r 25%|██▌       | 75/300 [02:38<07:55,  2.11s/it]"
          ],
          "name": "stderr"
        },
        {
          "output_type": "stream",
          "text": [
            "37\n"
          ],
          "name": "stdout"
        },
        {
          "output_type": "stream",
          "text": [
            "\r 25%|██▌       | 76/300 [02:40<07:53,  2.11s/it]"
          ],
          "name": "stderr"
        },
        {
          "output_type": "stream",
          "text": [
            "37\n"
          ],
          "name": "stdout"
        },
        {
          "output_type": "stream",
          "text": [
            "\r 26%|██▌       | 77/300 [02:42<07:51,  2.11s/it]"
          ],
          "name": "stderr"
        },
        {
          "output_type": "stream",
          "text": [
            "37\n"
          ],
          "name": "stdout"
        },
        {
          "output_type": "stream",
          "text": [
            "\r 26%|██▌       | 78/300 [02:44<07:48,  2.11s/it]"
          ],
          "name": "stderr"
        },
        {
          "output_type": "stream",
          "text": [
            "37\n"
          ],
          "name": "stdout"
        },
        {
          "output_type": "stream",
          "text": [
            "\r 26%|██▋       | 79/300 [02:46<07:46,  2.11s/it]"
          ],
          "name": "stderr"
        },
        {
          "output_type": "stream",
          "text": [
            "37\n"
          ],
          "name": "stdout"
        },
        {
          "output_type": "stream",
          "text": [
            "\r 27%|██▋       | 80/300 [02:48<07:44,  2.11s/it]"
          ],
          "name": "stderr"
        },
        {
          "output_type": "stream",
          "text": [
            "37\n"
          ],
          "name": "stdout"
        },
        {
          "output_type": "stream",
          "text": [
            "\r 27%|██▋       | 81/300 [02:50<07:42,  2.11s/it]"
          ],
          "name": "stderr"
        },
        {
          "output_type": "stream",
          "text": [
            "37\n"
          ],
          "name": "stdout"
        },
        {
          "output_type": "stream",
          "text": [
            "\r 27%|██▋       | 82/300 [02:53<07:40,  2.11s/it]"
          ],
          "name": "stderr"
        },
        {
          "output_type": "stream",
          "text": [
            "37\n"
          ],
          "name": "stdout"
        },
        {
          "output_type": "stream",
          "text": [
            "\r 28%|██▊       | 83/300 [02:55<07:37,  2.11s/it]"
          ],
          "name": "stderr"
        },
        {
          "output_type": "stream",
          "text": [
            "37\n"
          ],
          "name": "stdout"
        },
        {
          "output_type": "stream",
          "text": [
            "\r 28%|██▊       | 84/300 [02:57<07:35,  2.11s/it]"
          ],
          "name": "stderr"
        },
        {
          "output_type": "stream",
          "text": [
            "37\n"
          ],
          "name": "stdout"
        },
        {
          "output_type": "stream",
          "text": [
            "\r 28%|██▊       | 85/300 [02:59<07:33,  2.11s/it]"
          ],
          "name": "stderr"
        },
        {
          "output_type": "stream",
          "text": [
            "37\n"
          ],
          "name": "stdout"
        },
        {
          "output_type": "stream",
          "text": [
            "\r 29%|██▊       | 86/300 [03:01<07:30,  2.11s/it]"
          ],
          "name": "stderr"
        },
        {
          "output_type": "stream",
          "text": [
            "37\n"
          ],
          "name": "stdout"
        },
        {
          "output_type": "stream",
          "text": [
            "\r 29%|██▉       | 87/300 [03:03<07:28,  2.11s/it]"
          ],
          "name": "stderr"
        },
        {
          "output_type": "stream",
          "text": [
            "37\n"
          ],
          "name": "stdout"
        },
        {
          "output_type": "stream",
          "text": [
            "\r 29%|██▉       | 88/300 [03:05<07:26,  2.11s/it]"
          ],
          "name": "stderr"
        },
        {
          "output_type": "stream",
          "text": [
            "37\n"
          ],
          "name": "stdout"
        },
        {
          "output_type": "stream",
          "text": [
            "\r 30%|██▉       | 89/300 [03:07<07:24,  2.11s/it]"
          ],
          "name": "stderr"
        },
        {
          "output_type": "stream",
          "text": [
            "37\n"
          ],
          "name": "stdout"
        },
        {
          "output_type": "stream",
          "text": [
            "\r 30%|███       | 90/300 [03:09<07:22,  2.11s/it]"
          ],
          "name": "stderr"
        },
        {
          "output_type": "stream",
          "text": [
            "37\n"
          ],
          "name": "stdout"
        },
        {
          "output_type": "stream",
          "text": [
            "\r 30%|███       | 91/300 [03:11<07:20,  2.11s/it]"
          ],
          "name": "stderr"
        },
        {
          "output_type": "stream",
          "text": [
            "37\n"
          ],
          "name": "stdout"
        },
        {
          "output_type": "stream",
          "text": [
            "\r 31%|███       | 92/300 [03:13<07:18,  2.11s/it]"
          ],
          "name": "stderr"
        },
        {
          "output_type": "stream",
          "text": [
            "37\n"
          ],
          "name": "stdout"
        },
        {
          "output_type": "stream",
          "text": [
            "\r 31%|███       | 93/300 [03:16<07:16,  2.11s/it]"
          ],
          "name": "stderr"
        },
        {
          "output_type": "stream",
          "text": [
            "37\n"
          ],
          "name": "stdout"
        },
        {
          "output_type": "stream",
          "text": [
            "\r 31%|███▏      | 94/300 [03:18<07:14,  2.11s/it]"
          ],
          "name": "stderr"
        },
        {
          "output_type": "stream",
          "text": [
            "37\n"
          ],
          "name": "stdout"
        },
        {
          "output_type": "stream",
          "text": [
            "\r 32%|███▏      | 95/300 [03:20<07:12,  2.11s/it]"
          ],
          "name": "stderr"
        },
        {
          "output_type": "stream",
          "text": [
            "37\n"
          ],
          "name": "stdout"
        },
        {
          "output_type": "stream",
          "text": [
            "\r 32%|███▏      | 96/300 [03:22<07:10,  2.11s/it]"
          ],
          "name": "stderr"
        },
        {
          "output_type": "stream",
          "text": [
            "37\n"
          ],
          "name": "stdout"
        },
        {
          "output_type": "stream",
          "text": [
            "\r 32%|███▏      | 97/300 [03:24<07:08,  2.11s/it]"
          ],
          "name": "stderr"
        },
        {
          "output_type": "stream",
          "text": [
            "37\n"
          ],
          "name": "stdout"
        },
        {
          "output_type": "stream",
          "text": [
            "\r 33%|███▎      | 98/300 [03:26<07:06,  2.11s/it]"
          ],
          "name": "stderr"
        },
        {
          "output_type": "stream",
          "text": [
            "37\n"
          ],
          "name": "stdout"
        },
        {
          "output_type": "stream",
          "text": [
            "\r 33%|███▎      | 99/300 [03:28<07:04,  2.11s/it]"
          ],
          "name": "stderr"
        },
        {
          "output_type": "stream",
          "text": [
            "37\n"
          ],
          "name": "stdout"
        },
        {
          "output_type": "stream",
          "text": [
            "\r 33%|███▎      | 100/300 [03:31<07:02,  2.11s/it]"
          ],
          "name": "stderr"
        },
        {
          "output_type": "stream",
          "text": [
            "37\n"
          ],
          "name": "stdout"
        },
        {
          "output_type": "stream",
          "text": [
            "\r 34%|███▎      | 101/300 [03:33<07:00,  2.11s/it]"
          ],
          "name": "stderr"
        },
        {
          "output_type": "stream",
          "text": [
            "37\n"
          ],
          "name": "stdout"
        },
        {
          "output_type": "stream",
          "text": [
            "\r 34%|███▍      | 102/300 [03:35<06:58,  2.11s/it]"
          ],
          "name": "stderr"
        },
        {
          "output_type": "stream",
          "text": [
            "37\n"
          ],
          "name": "stdout"
        },
        {
          "output_type": "stream",
          "text": [
            "\r 34%|███▍      | 103/300 [03:37<06:56,  2.11s/it]"
          ],
          "name": "stderr"
        },
        {
          "output_type": "stream",
          "text": [
            "37\n"
          ],
          "name": "stdout"
        },
        {
          "output_type": "stream",
          "text": [
            "\r 35%|███▍      | 104/300 [03:39<06:53,  2.11s/it]"
          ],
          "name": "stderr"
        },
        {
          "output_type": "stream",
          "text": [
            "37\n"
          ],
          "name": "stdout"
        },
        {
          "output_type": "stream",
          "text": [
            "\r 35%|███▌      | 105/300 [03:41<06:51,  2.11s/it]"
          ],
          "name": "stderr"
        },
        {
          "output_type": "stream",
          "text": [
            "37\n"
          ],
          "name": "stdout"
        },
        {
          "output_type": "stream",
          "text": [
            "\r 35%|███▌      | 106/300 [03:43<06:49,  2.11s/it]"
          ],
          "name": "stderr"
        },
        {
          "output_type": "stream",
          "text": [
            "37\n"
          ],
          "name": "stdout"
        },
        {
          "output_type": "stream",
          "text": [
            "\r 36%|███▌      | 107/300 [03:46<06:47,  2.11s/it]"
          ],
          "name": "stderr"
        },
        {
          "output_type": "stream",
          "text": [
            "37\n"
          ],
          "name": "stdout"
        },
        {
          "output_type": "stream",
          "text": [
            "\r 36%|███▌      | 108/300 [03:48<06:45,  2.11s/it]"
          ],
          "name": "stderr"
        },
        {
          "output_type": "stream",
          "text": [
            "37\n"
          ],
          "name": "stdout"
        },
        {
          "output_type": "stream",
          "text": [
            "\r 36%|███▋      | 109/300 [03:50<06:43,  2.11s/it]"
          ],
          "name": "stderr"
        },
        {
          "output_type": "stream",
          "text": [
            "37\n"
          ],
          "name": "stdout"
        },
        {
          "output_type": "stream",
          "text": [
            "\r 37%|███▋      | 110/300 [03:52<06:41,  2.11s/it]"
          ],
          "name": "stderr"
        },
        {
          "output_type": "stream",
          "text": [
            "37\n"
          ],
          "name": "stdout"
        },
        {
          "output_type": "stream",
          "text": [
            "\r 37%|███▋      | 111/300 [03:54<06:39,  2.11s/it]"
          ],
          "name": "stderr"
        },
        {
          "output_type": "stream",
          "text": [
            "37\n"
          ],
          "name": "stdout"
        },
        {
          "output_type": "stream",
          "text": [
            "\r 37%|███▋      | 112/300 [03:56<06:37,  2.11s/it]"
          ],
          "name": "stderr"
        },
        {
          "output_type": "stream",
          "text": [
            "37\n"
          ],
          "name": "stdout"
        },
        {
          "output_type": "stream",
          "text": [
            "\r 38%|███▊      | 113/300 [03:58<06:34,  2.11s/it]"
          ],
          "name": "stderr"
        },
        {
          "output_type": "stream",
          "text": [
            "37\n"
          ],
          "name": "stdout"
        },
        {
          "output_type": "stream",
          "text": [
            "\r 38%|███▊      | 114/300 [04:00<06:32,  2.11s/it]"
          ],
          "name": "stderr"
        },
        {
          "output_type": "stream",
          "text": [
            "37\n"
          ],
          "name": "stdout"
        },
        {
          "output_type": "stream",
          "text": [
            "\r 38%|███▊      | 115/300 [04:02<06:30,  2.11s/it]"
          ],
          "name": "stderr"
        },
        {
          "output_type": "stream",
          "text": [
            "37\n"
          ],
          "name": "stdout"
        },
        {
          "output_type": "stream",
          "text": [
            "\r 39%|███▊      | 116/300 [04:04<06:28,  2.11s/it]"
          ],
          "name": "stderr"
        },
        {
          "output_type": "stream",
          "text": [
            "37\n"
          ],
          "name": "stdout"
        },
        {
          "output_type": "stream",
          "text": [
            "\r 39%|███▉      | 117/300 [04:07<06:26,  2.11s/it]"
          ],
          "name": "stderr"
        },
        {
          "output_type": "stream",
          "text": [
            "37\n"
          ],
          "name": "stdout"
        },
        {
          "output_type": "stream",
          "text": [
            "\r 39%|███▉      | 118/300 [04:09<06:24,  2.11s/it]"
          ],
          "name": "stderr"
        },
        {
          "output_type": "stream",
          "text": [
            "37\n"
          ],
          "name": "stdout"
        },
        {
          "output_type": "stream",
          "text": [
            "\r 40%|███▉      | 119/300 [04:11<06:22,  2.11s/it]"
          ],
          "name": "stderr"
        },
        {
          "output_type": "stream",
          "text": [
            "37\n"
          ],
          "name": "stdout"
        },
        {
          "output_type": "stream",
          "text": [
            "\r 40%|████      | 120/300 [04:13<06:20,  2.11s/it]"
          ],
          "name": "stderr"
        },
        {
          "output_type": "stream",
          "text": [
            "37\n"
          ],
          "name": "stdout"
        },
        {
          "output_type": "stream",
          "text": [
            "\r 40%|████      | 121/300 [04:15<06:17,  2.11s/it]"
          ],
          "name": "stderr"
        },
        {
          "output_type": "stream",
          "text": [
            "37\n"
          ],
          "name": "stdout"
        },
        {
          "output_type": "stream",
          "text": [
            "\r 41%|████      | 122/300 [04:17<06:15,  2.11s/it]"
          ],
          "name": "stderr"
        },
        {
          "output_type": "stream",
          "text": [
            "37\n"
          ],
          "name": "stdout"
        },
        {
          "output_type": "stream",
          "text": [
            "\r 41%|████      | 123/300 [04:19<06:13,  2.11s/it]"
          ],
          "name": "stderr"
        },
        {
          "output_type": "stream",
          "text": [
            "37\n"
          ],
          "name": "stdout"
        },
        {
          "output_type": "stream",
          "text": [
            "\r 41%|████▏     | 124/300 [04:22<06:11,  2.11s/it]"
          ],
          "name": "stderr"
        },
        {
          "output_type": "stream",
          "text": [
            "37\n"
          ],
          "name": "stdout"
        },
        {
          "output_type": "stream",
          "text": [
            "\r 42%|████▏     | 125/300 [04:24<06:09,  2.11s/it]"
          ],
          "name": "stderr"
        },
        {
          "output_type": "stream",
          "text": [
            "37\n"
          ],
          "name": "stdout"
        },
        {
          "output_type": "stream",
          "text": [
            "\r 42%|████▏     | 126/300 [04:26<06:07,  2.11s/it]"
          ],
          "name": "stderr"
        },
        {
          "output_type": "stream",
          "text": [
            "37\n"
          ],
          "name": "stdout"
        },
        {
          "output_type": "stream",
          "text": [
            "\r 42%|████▏     | 127/300 [04:28<06:05,  2.11s/it]"
          ],
          "name": "stderr"
        },
        {
          "output_type": "stream",
          "text": [
            "37\n"
          ],
          "name": "stdout"
        },
        {
          "output_type": "stream",
          "text": [
            "\r 43%|████▎     | 128/300 [04:30<06:03,  2.11s/it]"
          ],
          "name": "stderr"
        },
        {
          "output_type": "stream",
          "text": [
            "37\n"
          ],
          "name": "stdout"
        },
        {
          "output_type": "stream",
          "text": [
            "\r 43%|████▎     | 129/300 [04:32<06:01,  2.11s/it]"
          ],
          "name": "stderr"
        },
        {
          "output_type": "stream",
          "text": [
            "37\n"
          ],
          "name": "stdout"
        },
        {
          "output_type": "stream",
          "text": [
            "\r 43%|████▎     | 130/300 [04:34<05:59,  2.11s/it]"
          ],
          "name": "stderr"
        },
        {
          "output_type": "stream",
          "text": [
            "37\n"
          ],
          "name": "stdout"
        },
        {
          "output_type": "stream",
          "text": [
            "\r 44%|████▎     | 131/300 [04:36<05:57,  2.11s/it]"
          ],
          "name": "stderr"
        },
        {
          "output_type": "stream",
          "text": [
            "37\n"
          ],
          "name": "stdout"
        },
        {
          "output_type": "stream",
          "text": [
            "\r 44%|████▍     | 132/300 [04:38<05:54,  2.11s/it]"
          ],
          "name": "stderr"
        },
        {
          "output_type": "stream",
          "text": [
            "37\n"
          ],
          "name": "stdout"
        },
        {
          "output_type": "stream",
          "text": [
            "\r 44%|████▍     | 133/300 [04:40<05:52,  2.11s/it]"
          ],
          "name": "stderr"
        },
        {
          "output_type": "stream",
          "text": [
            "37\n"
          ],
          "name": "stdout"
        },
        {
          "output_type": "stream",
          "text": [
            "\r 45%|████▍     | 134/300 [04:43<05:50,  2.11s/it]"
          ],
          "name": "stderr"
        },
        {
          "output_type": "stream",
          "text": [
            "37\n"
          ],
          "name": "stdout"
        },
        {
          "output_type": "stream",
          "text": [
            "\r 45%|████▌     | 135/300 [04:45<05:48,  2.11s/it]"
          ],
          "name": "stderr"
        },
        {
          "output_type": "stream",
          "text": [
            "37\n"
          ],
          "name": "stdout"
        },
        {
          "output_type": "stream",
          "text": [
            "\r 45%|████▌     | 136/300 [04:47<05:46,  2.11s/it]"
          ],
          "name": "stderr"
        },
        {
          "output_type": "stream",
          "text": [
            "37\n"
          ],
          "name": "stdout"
        },
        {
          "output_type": "stream",
          "text": [
            "\r 46%|████▌     | 137/300 [04:49<05:43,  2.11s/it]"
          ],
          "name": "stderr"
        },
        {
          "output_type": "stream",
          "text": [
            "37\n"
          ],
          "name": "stdout"
        },
        {
          "output_type": "stream",
          "text": [
            "\r 46%|████▌     | 138/300 [04:51<05:41,  2.11s/it]"
          ],
          "name": "stderr"
        },
        {
          "output_type": "stream",
          "text": [
            "37\n"
          ],
          "name": "stdout"
        },
        {
          "output_type": "stream",
          "text": [
            "\r 46%|████▋     | 139/300 [04:53<05:39,  2.11s/it]"
          ],
          "name": "stderr"
        },
        {
          "output_type": "stream",
          "text": [
            "37\n"
          ],
          "name": "stdout"
        },
        {
          "output_type": "stream",
          "text": [
            "\r 47%|████▋     | 140/300 [04:55<05:37,  2.11s/it]"
          ],
          "name": "stderr"
        },
        {
          "output_type": "stream",
          "text": [
            "37\n"
          ],
          "name": "stdout"
        },
        {
          "output_type": "stream",
          "text": [
            "\r 47%|████▋     | 141/300 [04:57<05:35,  2.11s/it]"
          ],
          "name": "stderr"
        },
        {
          "output_type": "stream",
          "text": [
            "37\n"
          ],
          "name": "stdout"
        },
        {
          "output_type": "stream",
          "text": [
            "\r 47%|████▋     | 142/300 [04:59<05:33,  2.11s/it]"
          ],
          "name": "stderr"
        },
        {
          "output_type": "stream",
          "text": [
            "37\n"
          ],
          "name": "stdout"
        },
        {
          "output_type": "stream",
          "text": [
            "\r 48%|████▊     | 143/300 [05:01<05:31,  2.11s/it]"
          ],
          "name": "stderr"
        },
        {
          "output_type": "stream",
          "text": [
            "37\n"
          ],
          "name": "stdout"
        },
        {
          "output_type": "stream",
          "text": [
            "\r 48%|████▊     | 144/300 [05:03<05:29,  2.11s/it]"
          ],
          "name": "stderr"
        },
        {
          "output_type": "stream",
          "text": [
            "37\n"
          ],
          "name": "stdout"
        },
        {
          "output_type": "stream",
          "text": [
            "\r 48%|████▊     | 145/300 [05:05<05:26,  2.11s/it]"
          ],
          "name": "stderr"
        },
        {
          "output_type": "stream",
          "text": [
            "37\n"
          ],
          "name": "stdout"
        },
        {
          "output_type": "stream",
          "text": [
            "\r 49%|████▊     | 146/300 [05:07<05:24,  2.11s/it]"
          ],
          "name": "stderr"
        },
        {
          "output_type": "stream",
          "text": [
            "37\n"
          ],
          "name": "stdout"
        },
        {
          "output_type": "stream",
          "text": [
            "\r 49%|████▉     | 147/300 [05:10<05:22,  2.11s/it]"
          ],
          "name": "stderr"
        },
        {
          "output_type": "stream",
          "text": [
            "37\n"
          ],
          "name": "stdout"
        },
        {
          "output_type": "stream",
          "text": [
            "\r 49%|████▉     | 148/300 [05:12<05:20,  2.11s/it]"
          ],
          "name": "stderr"
        },
        {
          "output_type": "stream",
          "text": [
            "37\n"
          ],
          "name": "stdout"
        },
        {
          "output_type": "stream",
          "text": [
            "\r 50%|████▉     | 149/300 [05:14<05:18,  2.11s/it]"
          ],
          "name": "stderr"
        },
        {
          "output_type": "stream",
          "text": [
            "37\n"
          ],
          "name": "stdout"
        },
        {
          "output_type": "stream",
          "text": [
            "\r 50%|█████     | 150/300 [05:16<05:16,  2.11s/it]"
          ],
          "name": "stderr"
        },
        {
          "output_type": "stream",
          "text": [
            "37\n"
          ],
          "name": "stdout"
        },
        {
          "output_type": "stream",
          "text": [
            "\r 50%|█████     | 151/300 [05:18<05:14,  2.11s/it]"
          ],
          "name": "stderr"
        },
        {
          "output_type": "stream",
          "text": [
            "37\n"
          ],
          "name": "stdout"
        },
        {
          "output_type": "stream",
          "text": [
            "\r 51%|█████     | 152/300 [05:21<05:12,  2.11s/it]"
          ],
          "name": "stderr"
        },
        {
          "output_type": "stream",
          "text": [
            "37\n"
          ],
          "name": "stdout"
        },
        {
          "output_type": "stream",
          "text": [
            "\r 51%|█████     | 153/300 [05:23<05:10,  2.11s/it]"
          ],
          "name": "stderr"
        },
        {
          "output_type": "stream",
          "text": [
            "37\n"
          ],
          "name": "stdout"
        },
        {
          "output_type": "stream",
          "text": [
            "\r 51%|█████▏    | 154/300 [05:25<05:08,  2.11s/it]"
          ],
          "name": "stderr"
        },
        {
          "output_type": "stream",
          "text": [
            "37\n"
          ],
          "name": "stdout"
        },
        {
          "output_type": "stream",
          "text": [
            "\r 52%|█████▏    | 155/300 [05:27<05:06,  2.12s/it]"
          ],
          "name": "stderr"
        },
        {
          "output_type": "stream",
          "text": [
            "37\n"
          ],
          "name": "stdout"
        },
        {
          "output_type": "stream",
          "text": [
            "\r 52%|█████▏    | 156/300 [05:29<05:04,  2.12s/it]"
          ],
          "name": "stderr"
        },
        {
          "output_type": "stream",
          "text": [
            "37\n"
          ],
          "name": "stdout"
        },
        {
          "output_type": "stream",
          "text": [
            "\r 52%|█████▏    | 157/300 [05:32<05:02,  2.12s/it]"
          ],
          "name": "stderr"
        },
        {
          "output_type": "stream",
          "text": [
            "37\n"
          ],
          "name": "stdout"
        },
        {
          "output_type": "stream",
          "text": [
            "\r 53%|█████▎    | 158/300 [05:34<05:00,  2.12s/it]"
          ],
          "name": "stderr"
        },
        {
          "output_type": "stream",
          "text": [
            "37\n"
          ],
          "name": "stdout"
        },
        {
          "output_type": "stream",
          "text": [
            "\r 53%|█████▎    | 159/300 [05:36<04:58,  2.12s/it]"
          ],
          "name": "stderr"
        },
        {
          "output_type": "stream",
          "text": [
            "37\n"
          ],
          "name": "stdout"
        },
        {
          "output_type": "stream",
          "text": [
            "\r 53%|█████▎    | 160/300 [05:38<04:56,  2.12s/it]"
          ],
          "name": "stderr"
        },
        {
          "output_type": "stream",
          "text": [
            "37\n"
          ],
          "name": "stdout"
        },
        {
          "output_type": "stream",
          "text": [
            "\r 54%|█████▎    | 161/300 [05:41<04:54,  2.12s/it]"
          ],
          "name": "stderr"
        },
        {
          "output_type": "stream",
          "text": [
            "37\n"
          ],
          "name": "stdout"
        },
        {
          "output_type": "stream",
          "text": [
            "\r 54%|█████▍    | 162/300 [05:43<04:52,  2.12s/it]"
          ],
          "name": "stderr"
        },
        {
          "output_type": "stream",
          "text": [
            "37\n"
          ],
          "name": "stdout"
        },
        {
          "output_type": "stream",
          "text": [
            "\r 54%|█████▍    | 163/300 [05:45<04:50,  2.12s/it]"
          ],
          "name": "stderr"
        },
        {
          "output_type": "stream",
          "text": [
            "37\n"
          ],
          "name": "stdout"
        },
        {
          "output_type": "stream",
          "text": [
            "\r 55%|█████▍    | 164/300 [05:47<04:48,  2.12s/it]"
          ],
          "name": "stderr"
        },
        {
          "output_type": "stream",
          "text": [
            "37\n"
          ],
          "name": "stdout"
        },
        {
          "output_type": "stream",
          "text": [
            "\r 55%|█████▌    | 165/300 [05:50<04:46,  2.12s/it]"
          ],
          "name": "stderr"
        },
        {
          "output_type": "stream",
          "text": [
            "37\n"
          ],
          "name": "stdout"
        }
      ]
    },
    {
      "metadata": {
        "id": "eTKGqnLR_6Z9",
        "colab_type": "code",
        "colab": {
          "autoexec": {
            "startup": false,
            "wait_interval": 0
          }
        }
      },
      "cell_type": "code",
      "source": [
        "                                                       ls"
      ],
      "execution_count": 0,
      "outputs": []
    },
    {
      "metadata": {
        "id": "PHHl13oRCcx5",
        "colab_type": "code",
        "colab": {
          "autoexec": {
            "startup": false,
            "wait_interval": 0
          }
        }
      },
      "cell_type": "code",
      "source": [
        "from google.colab import files\n",
        "\n",
        "files.download('fault7_output_try.mp4')\n",
        "\n",
        "# files.download('fault1_output.mp4')\n"
      ],
      "execution_count": 0,
      "outputs": []
    },
    {
      "metadata": {
        "id": "20-OpaarGcP4",
        "colab_type": "code",
        "colab": {
          "autoexec": {
            "startup": false,
            "wait_interval": 0
          }
        }
      },
      "cell_type": "code",
      "source": [
        "os.chdir('..')"
      ],
      "execution_count": 0,
      "outputs": []
    },
    {
      "metadata": {
        "id": "9jRIn9kjC0t6",
        "colab_type": "code",
        "colab": {
          "autoexec": {
            "startup": false,
            "wait_interval": 0
          }
        }
      },
      "cell_type": "code",
      "source": [
        "\n",
        "from IPython.display import HTML\n",
        "HTML(\"\"\"\n",
        "<video width=\"960\" height=\"540\" controls>\n",
        "  <source src=\"{0}\">\n",
        "</video>\n",
        "\"\"\".format(video_output))\n",
        "\n"
      ],
      "execution_count": 0,
      "outputs": []
    },
    {
      "metadata": {
        "id": "NP8MM27tD-cQ",
        "colab_type": "code",
        "colab": {
          "autoexec": {
            "startup": false,
            "wait_interval": 0
          }
        }
      },
      "cell_type": "code",
      "source": [
        "!git commit -m \"output video\""
      ],
      "execution_count": 0,
      "outputs": []
    },
    {
      "metadata": {
        "id": "cmxNADYUE40f",
        "colab_type": "code",
        "colab": {
          "autoexec": {
            "startup": false,
            "wait_interval": 0
          }
        }
      },
      "cell_type": "code",
      "source": [
        "!git config --global user.email \"anupamb266@gmail.com\"\n",
        "! git config --global user.name \"anupamhap\""
      ],
      "execution_count": 0,
      "outputs": []
    },
    {
      "metadata": {
        "id": "WZjMwHIrFKih",
        "colab_type": "code",
        "colab": {
          "autoexec": {
            "startup": false,
            "wait_interval": 0
          }
        }
      },
      "cell_type": "code",
      "source": [
        "!git push"
      ],
      "execution_count": 0,
      "outputs": []
    },
    {
      "metadata": {
        "id": "uedzWHq_FVJ3",
        "colab_type": "code",
        "colab": {
          "autoexec": {
            "startup": false,
            "wait_interval": 0
          }
        }
      },
      "cell_type": "code",
      "source": [
        "!ls"
      ],
      "execution_count": 0,
      "outputs": []
    },
    {
      "metadata": {
        "id": "LO9lG18FGm6a",
        "colab_type": "code",
        "colab": {
          "autoexec": {
            "startup": false,
            "wait_interval": 0
          }
        }
      },
      "cell_type": "code",
      "source": [
        "from google.colab import files\n",
        "\n",
        "\n",
        "files.download('sewer_footage1_output.mp4')"
      ],
      "execution_count": 0,
      "outputs": []
    },
    {
      "metadata": {
        "id": "JmbQo1FFGsIZ",
        "colab_type": "code",
        "colab": {
          "autoexec": {
            "startup": false,
            "wait_interval": 0
          }
        }
      },
      "cell_type": "code",
      "source": [
        "!git pull"
      ],
      "execution_count": 0,
      "outputs": []
    },
    {
      "metadata": {
        "id": "wJN9ZinCM4A5",
        "colab_type": "code",
        "colab": {
          "autoexec": {
            "startup": false,
            "wait_interval": 0
          }
        }
      },
      "cell_type": "code",
      "source": [
        "!git reset"
      ],
      "execution_count": 0,
      "outputs": []
    },
    {
      "metadata": {
        "id": "9XJ8Utx0NDpo",
        "colab_type": "code",
        "colab": {
          "autoexec": {
            "startup": false,
            "wait_interval": 0
          }
        }
      },
      "cell_type": "code",
      "source": [
        ""
      ],
      "execution_count": 0,
      "outputs": []
    }
  ]
}